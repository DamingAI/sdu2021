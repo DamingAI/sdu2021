{
 "cells": [
  {
   "cell_type": "markdown",
   "metadata": {},
   "source": [
    "# XML与XPATH基础"
   ]
  },
  {
   "cell_type": "markdown",
   "metadata": {},
   "source": [
    "## XML\n",
    "\n",
    "1. XML 的含义是可扩展标记语言（eXtensible Markup Language）。\n",
    "2. XML的作用：    \n",
    "    | -  作为网络传输数据格式（Web Service采用XML作为数据通信格式）；     \n",
    "    | -  数据存储格式（比如Oracle DB支持XML存储格式）。    \n",
    "    | -  配置文件格式（Tomcat等服务器经常采用XML配置文件格式）。        "
   ]
  },
  {
   "cell_type": "markdown",
   "metadata": {},
   "source": [
    "### XML基本概念"
   ]
  },
  {
   "cell_type": "markdown",
   "metadata": {},
   "source": [
    "1. XML文档结构\n",
    "&emsp;&emsp;XML文档由两个部分构成      \n",
    "&emsp;&emsp;&emsp;&emsp;|-   声明部分\n",
    "&emsp;&emsp;&emsp;&emsp;|-   序言部分\n",
    "&emsp;&emsp;&emsp;&emsp;|-   文档正文     "
   ]
  },
  {
   "cell_type": "markdown",
   "metadata": {},
   "source": [
    "2. XML例子"
   ]
  },
  {
   "cell_type": "markdown",
   "metadata": {},
   "source": [
    "```xml\n",
    "<!--声明-->\n",
    "<?xml version=\"1.0\" encoding=\"UTF-8\"?>\n",
    "<!--序言-->\n",
    "<!DOCTYPE books SYSTEM \"books.dtd\">\n",
    "<!--正文-->\n",
    "<books>\n",
    "    <book category=\"Python\">\n",
    "        <title lang=\"zh\">网络爬虫开发</title>\n",
    "        <author>蜘蛛精</author>\n",
    "        <year>2018</year>\n",
    "        <price>66.50</price>\n",
    "        <publisher>清华大学出版社</publisher>\n",
    "    </book>\n",
    "    <book category=\"系统运维\">\n",
    "        <title lang=\"zh\">K8S运维指南r</title>\n",
    "        <author>马哥教育</author>\n",
    "        <year>2018</year>\n",
    "        <price>99.00</price>\n",
    "        <publisher>机械版社</publisher>\n",
    "    </book>\n",
    "        <book category=\"区块链\">\n",
    "        <title lang=\"en\">以太坊智能合约开发</title>\n",
    "        <author>钱多多</author>\n",
    "        <year>2019</year>\n",
    "        <price>88.95</price>\n",
    "        <publisher>邮电出版社</publisher>\n",
    "    </book>\n",
    "</books>\n",
    "```"
   ]
  },
  {
   "cell_type": "markdown",
   "metadata": {},
   "source": [
    "3. xml基本单元      \n",
    "&emsp;&emsp;XML的基本单位是标签构成。标签分成**成对标签**与**独标签**；   \n",
    "&emsp;&emsp;&emsp;&emsp;成对标签：开始标签<标签>与结束标签</标签>     \n",
    "&emsp;&emsp;&emsp;&emsp;独标签：没有内容体，结束标签与开始标签可以简写成<标签/>      \n",
    "&emsp;&emsp;     \n",
    "&emsp;&emsp;**注意：**开始标签与结束标签明必须一样，才认为是一个标签。    \n"
   ]
  },
  {
   "cell_type": "markdown",
   "metadata": {},
   "source": [
    "4. 标签      \n",
    "\n",
    "&emsp;&emsp;标签也称元素，标签一般由四个部分构成：    \n",
    "&emsp;&emsp;&emsp;&emsp;| -  开始标签：<标签>       \n",
    "&emsp;&emsp;&emsp;&emsp;| -  结束标签：</标签>     \n",
    "&emsp;&emsp;&emsp;&emsp;| -  标签属性：<标签  属性=属性值>     \n",
    "&emsp;&emsp;&emsp;&emsp;| -  文本体：<标签  属性=属性值>文本体</标签>     \n",
    "&emsp;&emsp;    \n",
    "&emsp;&emsp;**注意：**如果没有文本体，标签可以缩写写成独标签：<标签  属性=属性值/>\n",
    "&emsp;&emsp;     \n",
    "&emsp;&emsp;这是一个标签例子：\n",
    "```xml\n",
    "<book category=\"区块链\">\n",
    "```\n",
    "&emsp;&emsp;     \n",
    "&emsp;&emsp;标签的命名规则：      \n",
    "&emsp;&emsp;&emsp;&emsp;|-   名称可以包含字母、数字以及其他的字符     \n",
    "&emsp;&emsp;&emsp;&emsp;|-   名称不能以数字或者标点符号开始     \n",
    "&emsp;&emsp;&emsp;&emsp;|-   名称不能以字母 xml（或者 XML、Xml 等等）开始    \n",
    "&emsp;&emsp;&emsp;&emsp;|-   名称不能包含空格     \n",
    "&emsp;&emsp;&emsp;&emsp;|-   可使用任何名称，没有保留的字词。    "
   ]
  },
  {
   "cell_type": "markdown",
   "metadata": {},
   "source": [
    "### XML基本语法"
   ]
  },
  {
   "cell_type": "markdown",
   "metadata": {},
   "source": [
    "1. XML声明部分      \n",
    "&emsp;&emsp;<?xml ?>\n",
    "&emsp;&emsp;声明部分有几个属性：   \n",
    "&emsp;&emsp;&emsp;&emsp;| -  version='版本'：目前的版本唯一的就是1.0     \n",
    "&emsp;&emsp;&emsp;&emsp;| -  encoding='编码'：可以指定utf-8，gb2312，iso-8859-1等编码。一般都是常用的utf-8。   \n",
    "&emsp;&emsp;&emsp;&emsp;| -  standalone='yes' | 'no' ：是否独立文档，指是否可以引入外部DTD规范。     \n",
    "&emsp;&emsp;       \n",
    "&emsp;&emsp;**注意：**其中version属性是必须的。    \n",
    "&emsp;&emsp;典型的例子是：\n",
    "```xml\n",
    "<?xml version=\"1.0\" encoding=\"UTF-8\"?>\n",
    "```"
   ]
  },
  {
   "cell_type": "markdown",
   "metadata": {},
   "source": [
    "2. XML 文档必须有根元素       \n",
    "&emsp;&emsp;每个XML文档只能有一个根元素。      \n",
    "&emsp;&emsp;上述例子中的标签<books>就是根元素。   "
   ]
  },
  {
   "cell_type": "markdown",
   "metadata": {},
   "source": [
    "3. 所有的 XML 元素都必须有一个开始标签与结束标签"
   ]
  },
  {
   "cell_type": "markdown",
   "metadata": {},
   "source": [
    "4. XML 标签对大小写敏感   "
   ]
  },
  {
   "cell_type": "markdown",
   "metadata": {},
   "source": [
    "5. XML标签必须正确嵌套    \n",
    "&emsp;&emsp;不能交错。只能成对嵌套。"
   ]
  },
  {
   "cell_type": "markdown",
   "metadata": {},
   "source": [
    "6. XML 属性值必须加引号     \n",
    "&emsp;&emsp;引号可以是双引号与单引号，但必须成对匹配，不能一个单引号一个双引号。   \n",
    "&emsp;&emsp;XML中属性必须要有值。（这一点在HTML中可以具有没有属性值得属性的）"
   ]
  },
  {
   "cell_type": "markdown",
   "metadata": {},
   "source": [
    "7. 实体引用   \n",
    "&emsp;&emsp;实体引用类似Python中的转义字符，比如<>符号在xml中用来表示特殊的语义，不能直接使用<>字符，如果要使用，就必须使用实体引用。&gt; 比如空格是：`&emsp;`\n",
    "&emsp;&emsp;在XML语言定义中内置5个实体引用：\n",
    "\n",
    "实体引用|字符\n",
    "-|-\n",
    "`&lt;`\t|<\t\n",
    "`&gt;`\t|>\t\n",
    "`&amp;`\t|&\t\n",
    "`&apos;`\t|'\t\n",
    "`&quot;`\t|\"\t\n"
   ]
  },
  {
   "cell_type": "markdown",
   "metadata": {},
   "source": [
    "8. XML 中的注释\n",
    "&emsp;&emsp;XML中注释语法：<!--注释-->。"
   ]
  },
  {
   "cell_type": "markdown",
   "metadata": {},
   "source": [
    "9. 在 XML 中，空格会被保留 "
   ]
  },
  {
   "cell_type": "markdown",
   "metadata": {},
   "source": [
    "10. XML 以 LF 存储换行\n",
    "&emsp;&emsp;在 Windows 应用程序中，换行通常以一对字符来存储：回车符（CR）和换行符（LF）。     \n",
    "&emsp;&emsp;在 Unix 和 Mac OSX 中，使用 LF 来存储新行。    \n",
    "&emsp;&emsp;在Mac OS系统中，使用 CR 来存储新行。    \n",
    "&emsp;&emsp;      \n",
    "&emsp;&emsp;**XML 以 LF 存储换行。**    \n",
    "&emsp;&emsp;      \n",
    "&emsp;&emsp;**注意：**LT='\\n',CR='\\r'    "
   ]
  },
  {
   "cell_type": "markdown",
   "metadata": {},
   "source": [
    "### CDATA\n",
    "&emsp;&emsp;CDATA去的数据不会被XML解析器解释处理。\n"
   ]
  },
  {
   "cell_type": "markdown",
   "metadata": {},
   "source": [
    "```xml\n",
    "<![CDATA[\n",
    "   .....\n",
    "]]>\n",
    "```"
   ]
  },
  {
   "cell_type": "markdown",
   "metadata": {},
   "source": [
    "**注意**：满足以上语法的xml称为语法良好的xml文档。"
   ]
  },
  {
   "cell_type": "markdown",
   "metadata": {},
   "source": [
    "## DTD与XSD   \n",
    "&emsp;&emsp;上述语法良好的xml文档，未必是合理的，因为每个标签是随意的，每个标签的属性是随意的，导致xml的不稳定性。为了约定一个文档中，哪些标签是合法的，哪些属性是合法的，这就是DTD与XSD的职责。     \n",
    "&emsp;&emsp;DTD（Document Type Definition）是XML标签定义文档，也称为XML校验。DTD校验是通过序言部分定义的。\n",
    "```xml\n",
    "<!DOCTYPE books SYSTEM \"books.dtd\">\n",
    "```\n",
    "\n",
    "&emsp;&emsp;DTD与XSD的区别在于：DTD使用非XML描述，XSD是使用XML描述，XSD描述更加精确，也更加复杂。我们仅仅是使用xml，所以对XSD不详细说明。\n",
    "&emsp;&emsp;一般每个行业都会定义独立的DTD或者XSD。比如tomcat就提供独立的DTD与XSD（现在新版本主要提供XSD）"
   ]
  },
  {
   "cell_type": "markdown",
   "metadata": {},
   "source": [
    "### DTD例子\n",
    "```xml\n",
    "<!DOCTYPE NEWSPAPER [\n",
    "\n",
    "<!ELEMENT NEWSPAPER (ARTICLE+)>\n",
    "<!ELEMENT ARTICLE (HEADLINE,BYLINE,LEAD,BODY,NOTES)>\n",
    "<!ELEMENT HEADLINE (#PCDATA)>\n",
    "<!ELEMENT BYLINE (#PCDATA)>\n",
    "<!ELEMENT LEAD (#PCDATA)>\n",
    "<!ELEMENT BODY (#PCDATA)>\n",
    "<!ELEMENT NOTES (#PCDATA)> \n",
    "\n",
    "<!ATTLIST ARTICLE AUTHOR CDATA #REQUIRED>\n",
    "<!ATTLIST ARTICLE EDITOR CDATA #IMPLIED>\n",
    "<!ATTLIST ARTICLE DATE CDATA #IMPLIED>\n",
    "<!ATTLIST ARTICLE EDITION CDATA #IMPLIED>\n",
    "\n",
    "]>\n",
    "```"
   ]
  },
  {
   "cell_type": "markdown",
   "metadata": {},
   "source": [
    "### PCDATA与CDATA\n",
    "&emsp;&emsp;PCDATA 的意思是被解析的字符数据（parsed character data）。可把字符数据想象为 XML 元素的开始标签与结束标签之间的文本。PCDATA 是会被解析器解析的文本。这些文本将被解析器检查实体以及标记。文本中的标签会被当作标记来处理，而实体会被展开。   \n",
    "&emsp;&emsp;     \n",
    "&emsp;&emsp;CDATA 的意思是字符数据（character data）。CDATA 是不会被解析器解析的文本。在这些文本中的标签不会被当作标记来对待，其中的实体也不会被展开。"
   ]
  },
  {
   "cell_type": "markdown",
   "metadata": {},
   "source": [
    "### 元素声明\n",
    "&emsp;&emsp;定义：\n",
    "```\n",
    "<!ELEMENT element-name 分类>\n",
    "或\n",
    "<!ELEMENT element-name (子元素)>\n",
    "```"
   ]
  },
  {
   "cell_type": "markdown",
   "metadata": {},
   "source": [
    "1. 空元素\n",
    "```xml\n",
    "<!ELEMENT element-name EMPTY>\n",
    "```"
   ]
  },
  {
   "cell_type": "markdown",
   "metadata": {},
   "source": [
    "2. 只有 PCDATA 的元素\n",
    "```\n",
    "<!ELEMENT element-name (#PCDATA)>\n",
    "```"
   ]
  },
  {
   "cell_type": "markdown",
   "metadata": {},
   "source": [
    "3. 带有任何内容的元素    \n",
    "```\n",
    "<!ELEMENT element-name ANY>\n",
    "```"
   ]
  },
  {
   "cell_type": "markdown",
   "metadata": {},
   "source": [
    "4. 带有子元素（序列）的元素\n",
    "```\n",
    "<!ELEMENT element-name (child1)>\n",
    "或\n",
    "<!ELEMENT element-name (child1,child2,...)>\n",
    "```"
   ]
  },
  {
   "cell_type": "markdown",
   "metadata": {},
   "source": [
    "5. 声明只出现一次的元素\n",
    "```\n",
    "<!ELEMENT element-name (child-name)>\n",
    "```"
   ]
  },
  {
   "cell_type": "markdown",
   "metadata": {},
   "source": [
    "6. 声明最少出现一次的元素\n",
    "```\n",
    "<!ELEMENT element-name (child-name+)>\n",
    "```"
   ]
  },
  {
   "cell_type": "markdown",
   "metadata": {},
   "source": [
    "7. 声明出现零次或多次的元素\n",
    "```\n",
    "<!ELEMENT element-name (child-name*)>\n",
    "```"
   ]
  },
  {
   "cell_type": "markdown",
   "metadata": {},
   "source": [
    "8. 声明出现零次或一次的元素\n",
    "```\n",
    "<!ELEMENT element-name (child-name?)>\n",
    "```"
   ]
  },
  {
   "cell_type": "markdown",
   "metadata": {},
   "source": [
    "9. 声明可选类型的内容\n",
    "```\n",
    "<!ELEMENT element-name (child-name | #PCDATA )>\n",
    "```"
   ]
  },
  {
   "cell_type": "markdown",
   "metadata": {},
   "source": [
    "10. 声明混合型的内容\n",
    "```\n",
    "<!ELEMENT element-name (child-name | #PCDATA )*>\n",
    "```"
   ]
  },
  {
   "cell_type": "markdown",
   "metadata": {},
   "source": [
    "### 属性声明\n",
    "```\n",
    "<!ATTLIST element-name attribute-name attribute-type attribute-value>\n",
    "```"
   ]
  },
  {
   "cell_type": "markdown",
   "metadata": {},
   "source": [
    "1. 属性类型\n",
    "\n",
    "属性类型|类型说明\n",
    "-|-\n",
    "CDATA\t|值为字符数据 (character data)\n",
    "(en1|en2|..)\t|此值是枚举列表中的一个值\n",
    "ID\t|值为唯一的 id\n",
    "IDREF\t|值为另外一个元素的 id\n",
    "IDREFS\t|值为其他 id 的列表\n",
    "NMTOKEN\t|值为合法的 XML 名称\n",
    "NMTOKENS\t|值为合法的 XML 名称的列表\n",
    "ENTITY\t|值是一个实体\n",
    "ENTITIES\t|值是一个实体列表\n",
    "NOTATION\t|此值是符号的名称\n",
    "xml:\t|值是一个预定义的 XML 值\n"
   ]
  },
  {
   "cell_type": "markdown",
   "metadata": {},
   "source": [
    "2. 属性值\n",
    "\n",
    "值格式|说明\n",
    "-|-\n",
    "值\t|属性的默认值\n",
    "#REQUIRED\t|属性值是必需的\n",
    "#IMPLIED\t|属性不是必需的\n",
    "#FIXED value\t|属性值是固定的\n"
   ]
  },
  {
   "cell_type": "markdown",
   "metadata": {},
   "source": [
    "3. 例子1-默认属性值\n",
    "```\n",
    "<!ELEMENT square EMPTY>\n",
    "<!ATTLIST square width CDATA \"0\">\n",
    "```\n",
    "使用\n",
    "```\n",
    "<square width=\"100\" />\n",
    "```"
   ]
  },
  {
   "cell_type": "markdown",
   "metadata": {},
   "source": [
    "4. 例子2- #REQUIRED\n",
    "```\n",
    "<!ATTLIST person number CDATA #REQUIRED>\n",
    "```\n",
    "使用\n",
    "```\n",
    "<person number=\"5677\" />\n",
    "```"
   ]
  },
  {
   "cell_type": "markdown",
   "metadata": {},
   "source": [
    "5. 例子3-#IMPLIED\n",
    "```\n",
    "<!ATTLIST contact fax CDATA #IMPLIED>\n",
    "```\n",
    "使用\n",
    "```\n",
    "<contact fax=\"555-667788\" />\n",
    "或者\n",
    "<contact />\n",
    "```"
   ]
  },
  {
   "cell_type": "markdown",
   "metadata": {},
   "source": [
    "6. 例子4-#FIXED\n",
    "```\n",
    "<!ATTLIST sender company CDATA #FIXED \"Mage教育\">\n",
    "```\n",
    "使用\n",
    "```\n",
    "<sender company=\"Mage教育\" />\n",
    "```"
   ]
  },
  {
   "cell_type": "markdown",
   "metadata": {},
   "source": [
    "7. 例子5-枚举属性值\n",
    "```\n",
    "<!ATTLIST payment type (check|cash) \"cash\">\n",
    "```\n",
    "使用\n",
    "```\n",
    "<payment type=\"check\" />\n",
    "```"
   ]
  },
  {
   "cell_type": "markdown",
   "metadata": {},
   "source": [
    "### 引用DTD\n",
    "\n",
    "内部引用语法：\n",
    "\n",
    "        <!DOCTYPE  根元素[\n",
    "            <!ENTITY 实体名 \"实体内容\">\n",
    "            <!ELEMENT 元素名 (内部模式)>   \n",
    "             <!ATTLIST 元素名 属性名 属性类型 属性默认值/属性特点\n",
    "                属性名 属性类型 属性默认值/属性特点\n",
    "                ...\n",
    "            >\n",
    "        ]>\n",
    "外部引用语法：\n",
    "\n",
    "    <!DOCTYPE 根元素 SYSTEM \"dtd文件路径\">\n",
    "    <!DOCTYPE 根元素 PUBLIC \"dtd文件的描述信息\" \"dtd的url\">\n",
    "\n",
    "\n",
    "#### 内部引用\n",
    "```\n",
    "<?xml version=\"1.0\"?>\n",
    "<!DOCTYPE note [\n",
    "    <!ELEMENT note (to,from,heading,body)>\n",
    "    <!ELEMENT to (#PCDATA)>\n",
    "    <!ELEMENT from (#PCDATA)>\n",
    "    <!ELEMENT heading (#PCDATA)>\n",
    "    <!ELEMENT body (#PCDATA)>\n",
    "]>\n",
    "<note>\n",
    "     <to>Tove</to>\n",
    "     <from>Jani</from>\n",
    "     <heading>Reminder</heading>\n",
    "     <body>Don't forget me this weekend</body>\n",
    "</note>\n",
    "```\n",
    "\n",
    "#### 外部引用\n",
    "```\n",
    "<?xml version=\"1.0\"?>\n",
    "<!DOCTYPE note SYSTEM \"note.dtd\">\n",
    "    <note>\n",
    "        <to>Tove</to>\n",
    "        <from>Jani</from>\n",
    "        <heading>Reminder</heading>\n",
    "        <body>Don't forget me this weekend!</body>\n",
    "    </note>\n",
    "```\n",
    "其中DTD文件为\n",
    "```\n",
    "<!ELEMENT note (to,from,heading,body)>\n",
    "<!ELEMENT to (#PCDATA)>\n",
    "<!ELEMENT from (#PCDATA)>\n",
    "<!ELEMENT heading (#PCDATA)>\n",
    "<!ELEMENT body (#PCDATA)>\n",
    "```"
   ]
  },
  {
   "cell_type": "markdown",
   "metadata": {},
   "source": [
    "### XSD例子"
   ]
  },
  {
   "cell_type": "markdown",
   "metadata": {},
   "source": [
    "```xml\n",
    "<?xml version=\"1.0\"?>\n",
    "<xs:schema xmlns:xs=\"http://www.w3.org/2001/XMLSchema\">\n",
    "\n",
    "<xs:element name=\"note\">\n",
    "  <xs:complexType>\n",
    "    <xs:sequence>\n",
    "      <xs:element name=\"to\" type=\"xs:string\"/>\n",
    "      <xs:element name=\"from\" type=\"xs:string\"/>\n",
    "      <xs:element name=\"heading\" type=\"xs:string\"/>\n",
    "      <xs:element name=\"body\" type=\"xs:string\"/>\n",
    "    </xs:sequence>\n",
    "  </xs:complexType>\n",
    "</xs:element>\n",
    "\n",
    "</xs:schema>\n",
    "```"
   ]
  },
  {
   "cell_type": "markdown",
   "metadata": {},
   "source": [
    "###  XML Schema元素\n",
    "```xml\n",
    "<?xml version=\"1.0\"?>\n",
    "\n",
    "<xs:schema>\n",
    "...\n",
    "...\n",
    "</xs:schema>\n",
    "```\n",
    "下面是使用例子："
   ]
  },
  {
   "cell_type": "markdown",
   "metadata": {},
   "source": [
    "```xml\n",
    "<?xml version=\"1.0\"?>\n",
    "\n",
    "<xs:schema xmlns:xs=\"http://www.w3.org/2001/XMLSchema\"\n",
    "targetNamespace=\"http://www.runoob.com\"\n",
    "xmlns=\"http://www.runoob.com\"\n",
    "elementFormDefault=\"qualified\">\n",
    "...\n",
    "...\n",
    "</xs:schema>\n",
    "```"
   ]
  },
  {
   "cell_type": "markdown",
   "metadata": {},
   "source": [
    "### 在XML文档使用Schema元素\n",
    "```\n",
    "<?xml version=\"1.0\"?>\n",
    "\n",
    "<note xmlns=\"http://www.runoob.com\"\n",
    "xmlns:xsi=\"http://www.w3.org/2001/XMLSchema-instance\"\n",
    "xsi:schemaLocation=\"http://www.runoob.com note.xsd\">\n",
    "\n",
    "<to>Tove</to>\n",
    "<from>Jani</from>\n",
    "<heading>Reminder</heading>\n",
    "<body>Don't forget me this weekend!</body>\n",
    "</note>\n",
    "```"
   ]
  },
  {
   "cell_type": "markdown",
   "metadata": {},
   "source": [
    "### schema的解释"
   ]
  },
  {
   "cell_type": "markdown",
   "metadata": {},
   "source": [
    "1. xmlns:xs=\"http://www.w3.org/2001/XMLSchema\"\n",
    "```\n",
    "显示 schema 中用到的元素和数据类型来自命名空间 \"http://www.w3.org/2001/XMLSchema\"。同时它还规定了来自命名空间 \"http://www.w3.org/2001/XMLSchema\" 的元素和数据类型应该使用前缀 xs:\n",
    "```"
   ]
  },
  {
   "cell_type": "markdown",
   "metadata": {},
   "source": [
    "2. targetNamespace=\"http://www.runoob.com\"\n",
    "```\n",
    "显示被此 schema 定义的元素 (note, to, from, heading, body) 来自命名空间： \"http://www.runoob.com\"。\n",
    "```"
   ]
  },
  {
   "cell_type": "markdown",
   "metadata": {},
   "source": [
    "3. xmlns=\"http://www.runoob.com\"\n",
    "```\n",
    "指出默认的命名空间是 \"http://www.runoob.com\"。\n",
    "```"
   ]
  },
  {
   "cell_type": "markdown",
   "metadata": {},
   "source": [
    "4. elementFormDefault=\"qualified\"\n",
    "```\n",
    "指出任何 XML 实例文档所使用的且在此 schema 中声明过的元素必须被命名空间限定。\n",
    "```"
   ]
  },
  {
   "cell_type": "markdown",
   "metadata": {},
   "source": [
    "### XSD元素定义\n",
    "```\n",
    "<xs:element name=\"xxx\" type=\"yyy\"/>\n",
    "```\n",
    "其中常用类型包含：\n",
    "\n",
    "        xs:string\n",
    "        xs:decimal\n",
    "        xs:integer\n",
    "        xs:boolean\n",
    "        xs:date\n",
    "        xs:time\n"
   ]
  },
  {
   "cell_type": "markdown",
   "metadata": {},
   "source": [
    "### XSD属性定义\n",
    "```\n",
    "<xs:attribute name=\"xxx\" type=\"yyy\"/>\n",
    "```\n",
    "\n",
    "常用类型包含：\n",
    "\n",
    "        xs:string\n",
    "        xs:decimal\n",
    "        xs:integer\n",
    "        xs:boolean\n",
    "        xs:date\n",
    "        xs:time\n",
    "        \n",
    "可以对属性值进行限定\n",
    "```\n",
    "<xs:element name=\"age\">\n",
    "  <xs:simpleType>\n",
    "    <xs:restriction base=\"xs:integer\">\n",
    "      <xs:minInclusive value=\"0\"/>\n",
    "      <xs:maxInclusive value=\"120\"/>\n",
    "    </xs:restriction>\n",
    "  </xs:simpleType>\n",
    "</xs:element>\n",
    "```"
   ]
  },
  {
   "cell_type": "markdown",
   "metadata": {},
   "source": [
    "### XSD指示器\n",
    "```\n",
    "七种指示器：\n",
    "        Order 指示器：\n",
    "        All\n",
    "        Choice\n",
    "        Sequence\n",
    "        Occurrence 指示器：\n",
    "        maxOccurs\n",
    "        minOccurs\n",
    "        Group 指示器：\n",
    "        Group name\n",
    "        attributeGroup name\n",
    "```"
   ]
  },
  {
   "cell_type": "markdown",
   "metadata": {},
   "source": [
    "1. All 指示器\n",
    "```\n",
    "<xs:element name=\"person\">\n",
    "  <xs:complexType>\n",
    "    <xs:all>\n",
    "      <xs:element name=\"firstname\" type=\"xs:string\"/>\n",
    "      <xs:element name=\"lastname\" type=\"xs:string\"/>\n",
    "    </xs:all>\n",
    "  </xs:complexType>\n",
    "</xs:element>\n",
    "```"
   ]
  },
  {
   "cell_type": "markdown",
   "metadata": {},
   "source": [
    "2. Choice 指示器\n",
    "```\n",
    "<xs:element name=\"person\">\n",
    "  <xs:complexType>\n",
    "    <xs:choice>\n",
    "      <xs:element name=\"employee\" type=\"employee\"/>\n",
    "      <xs:element name=\"member\" type=\"member\"/>\n",
    "    </xs:choice>\n",
    "  </xs:complexType>\n",
    "</xs:element>\n",
    "```"
   ]
  },
  {
   "cell_type": "markdown",
   "metadata": {},
   "source": [
    "3. Sequence 指示器\n",
    "```\n",
    "<xs:element name=\"person\">\n",
    "   <xs:complexType>\n",
    "    <xs:sequence>\n",
    "      <xs:element name=\"firstname\" type=\"xs:string\"/>\n",
    "      <xs:element name=\"lastname\" type=\"xs:string\"/>\n",
    "    </xs:sequence>\n",
    "  </xs:complexType>\n",
    "</xs:element>\n",
    "```"
   ]
  },
  {
   "cell_type": "markdown",
   "metadata": {},
   "source": [
    "4. maxOccurs 指示器\n",
    "```\n",
    "<xs:element name=\"person\">\n",
    "  <xs:complexType>\n",
    "    <xs:sequence>\n",
    "      <xs:element name=\"full_name\" type=\"xs:string\"/>\n",
    "      <xs:element name=\"child_name\" type=\"xs:string\" maxOccurs=\"10\"/>\n",
    "    </xs:sequence>\n",
    "  </xs:complexType>\n",
    "</xs:element>\n",
    "```"
   ]
  },
  {
   "cell_type": "markdown",
   "metadata": {},
   "source": [
    "5. minOccurs 指示器\n",
    "```\n",
    "<xs:element name=\"person\">\n",
    "  <xs:complexType>\n",
    "    <xs:sequence>\n",
    "      <xs:element name=\"full_name\" type=\"xs:string\"/>\n",
    "      <xs:element name=\"child_name\" type=\"xs:string\"\n",
    "      maxOccurs=\"10\" minOccurs=\"0\"/>\n",
    "    </xs:sequence>\n",
    "  </xs:complexType>\n",
    "</xs:element>\n",
    "```"
   ]
  },
  {
   "cell_type": "markdown",
   "metadata": {},
   "source": [
    "6. 元素组\n",
    "```\n",
    "<xs:group name=\"persongroup\">\n",
    "  <xs:sequence>\n",
    "    <xs:element name=\"firstname\" type=\"xs:string\"/>\n",
    "    <xs:element name=\"lastname\" type=\"xs:string\"/>\n",
    "    <xs:element name=\"birthday\" type=\"xs:date\"/>\n",
    "  </xs:sequence>\n",
    "</xs:group>\n",
    "```"
   ]
  },
  {
   "cell_type": "markdown",
   "metadata": {},
   "source": [
    "7. 属性组\n",
    "```\n",
    "<xs:attributeGroup name=\"personattrgroup\">\n",
    "  <xs:attribute name=\"firstname\" type=\"xs:string\"/>\n",
    "  <xs:attribute name=\"lastname\" type=\"xs:string\"/>\n",
    "  <xs:attribute name=\"birthday\" type=\"xs:date\"/>\n",
    "</xs:attributeGroup>\n",
    "```"
   ]
  },
  {
   "cell_type": "markdown",
   "metadata": {},
   "source": [
    "## XML DOM"
   ]
  },
  {
   "cell_type": "markdown",
   "metadata": {},
   "source": [
    "### XML DOM结构\n",
    "\n"
   ]
  },
  {
   "cell_type": "markdown",
   "metadata": {},
   "source": [
    "&emsp;&emsp;XML DOM就是把XML文档中每个元素当做一个编程对象，这对象按照XML本身的结构组织，也是一个可编程树状结构，我们称为XML DOM。    \n",
    "&emsp;&emsp;    \n",
    "&emsp;&emsp;XML所有元素抽象为Node类型，然后继承扩展成各种不同元素类型：Document，Element，Attr，Text，Notation等。    \n",
    "&emsp;&emsp;      \n",
    "&emsp;&emsp;多个节点使用NodeList对象表示。\n",
    "&emsp;&emsp;      \n",
    "&emsp;&emsp;每个节点类型提供标准的接口，不管使用什么语言实现，都遵循这些接口规范。所以这儿讲的技术，对其他预压也是大同小异的。"
   ]
  },
  {
   "cell_type": "markdown",
   "metadata": {},
   "source": [
    "### XML DOM节点类型\n",
    "\n",
    "节点类型|节点类型说明|子类型\n",
    "-|-|-\n",
    "Document\t|代表整个文档（DOM 树的根节点）\t|Element (max. one), ProcessingInstruction, Comment, DocumentType\n",
    "DocumentFragment\t|代表\"轻量级\"的 Document 对象，它可以保留文档中的一部分\t|Element, ProcessingInstruction, Comment, Text, CDATASection, Entity参考手册\n",
    "DocumentType\t|为文档中定义的实体提供了一个接口\t|None\n",
    "ProcessingInstruction\t|代表一个处理指令\t|None\n",
    "EntityReference\t|代表一个实体引用\t|Element, ProcessingInstruction, Comment, Text, CDATASection, EntityReference\n",
    "Element\t|表示一个元素\t|Element, Text, Comment, ProcessingInstruction, CDATASection, EntityReference\n",
    "Attr\t|代表一个属性\t|Text, EntityReference\n",
    "Text\t|代表元素或属性的文本内容\t|None\n",
    "CDATASection\t|代表文档中的 CDATA 区段（文本不会被解析器解析）\t|None\n",
    "Comment\t|代表一个注释\t|None\n",
    "Entity\t|代表一个实体\t|Element, ProcessingInstruction, Comment, Text, CDATASection, EntityReference\n",
    "Notation\t|定义一个在 DTD 中声明的符号\t|None\n"
   ]
  },
  {
   "cell_type": "markdown",
   "metadata": {},
   "source": [
    "### XML DOM节点名称与返回值\n",
    "\n",
    "节点类型\t|返回的节点名称\t|返回的节点值\n",
    "-|-|-\n",
    "Document\t|#document\t|null\n",
    "DocumentFragment\t|#document fragment\t|null\n",
    "DocumentType\t|文档类型名称\t|null\n",
    "Entity\t|实体引用名称\t|null\n",
    "Element\t|元素名称\t|null\n",
    "Attr\t|属性名称\t|属性值\n",
    "ProcessingInstruction\t|目标\t|节点的内容\n",
    "Comment\t|#comment\t|注释文本\n",
    "Text\t|#text\t|节点的内容\n",
    "CDATASection\t|#cdata-section\t|节点的内容\n",
    "Entity\t|实体名称\t|null\n",
    "Notation\t|符号名称\t|null"
   ]
  },
  {
   "cell_type": "markdown",
   "metadata": {},
   "source": [
    "### XML DOM节点类型定义值\n",
    "\n",
    "节点类型\t|命名常量\n",
    "-|-\n",
    "1\t|ELEMENT_NODE\n",
    "2\t|ATTRIBUTE_NODE\n",
    "3\t|TEXT_NODE\n",
    "4\t|CDATA_SECTION_NODE\n",
    "5\t|ENTITY_REFERENCE_NODE\n",
    "6\t|ENTITY_NODE\n",
    "7\t|PROCESSING_INSTRUCTION_NODE\n",
    "8\t|COMMENT_NODE\n",
    "9\t|DOCUMENT_NODE\n",
    "10\t|DOCUMENT_TYPE_NODE\n",
    "11\t|DOCUMENT_FRAGMENT_NODE\n",
    "12\t|NOTATION_NODE"
   ]
  },
  {
   "cell_type": "markdown",
   "metadata": {},
   "source": [
    "## xml模块"
   ]
  },
  {
   "cell_type": "markdown",
   "metadata": {},
   "source": [
    "### Python中XML DOM API结构\n",
    "    \n",
    "&emsp;&emsp;不管什么语言的API，对XML一般提供如下功能：    \n",
    "&emsp;&emsp;&emsp;&emsp;|- 加载   \n",
    "&emsp;&emsp;&emsp;&emsp;|- 遍历   \n",
    "&emsp;&emsp;&emsp;&emsp;|- 查找   \n",
    "&emsp;&emsp;&emsp;&emsp;|- 获取节点    \n",
    "&emsp;&emsp;&emsp;&emsp;|- 修改节点    \n",
    "&emsp;&emsp;&emsp;&emsp;|- 删除节点   \n",
    "&emsp;&emsp;&emsp;&emsp;|- 增加节点    \n",
    "&emsp;&emsp;&emsp;&emsp;|- 替换节点    \n",
    "&emsp;&emsp;&emsp;&emsp;|- 操作节点"
   ]
  },
  {
   "cell_type": "code",
   "execution_count": 1,
   "metadata": {},
   "outputs": [
    {
     "name": "stdout",
     "output_type": "stream",
     "text": [
      "Help on package xml:\n",
      "\n",
      "NAME\n",
      "    xml - Core XML support for Python.\n",
      "\n",
      "MODULE REFERENCE\n",
      "    https://docs.python.org/3.6/library/xml\n",
      "    \n",
      "    The following documentation is automatically generated from the Python\n",
      "    source files.  It may be incomplete, incorrect or include features that\n",
      "    are considered implementation detail and may vary between Python\n",
      "    implementations.  When in doubt, consult the module reference at the\n",
      "    location listed above.\n",
      "\n",
      "DESCRIPTION\n",
      "    This package contains four sub-packages:\n",
      "    \n",
      "    dom -- The W3C Document Object Model.  This supports DOM Level 1 +\n",
      "           Namespaces.\n",
      "    \n",
      "    parsers -- Python wrappers for XML parsers (currently only supports Expat).\n",
      "    \n",
      "    sax -- The Simple API for XML, developed by XML-Dev, led by David\n",
      "           Megginson and ported to Python by Lars Marius Garshol.  This\n",
      "           supports the SAX 2 API.\n",
      "    \n",
      "    etree -- The ElementTree XML library.  This is a subset of the full\n",
      "           ElementTree XML release.\n",
      "\n",
      "PACKAGE CONTENTS\n",
      "    dom (package)\n",
      "    etree (package)\n",
      "    parsers (package)\n",
      "    sax (package)\n",
      "\n",
      "DATA\n",
      "    __all__ = ['dom', 'parsers', 'sax', 'etree']\n",
      "\n",
      "FILE\n",
      "    /Library/Frameworks/Python.framework/Versions/3.6/lib/python3.6/xml/__init__.py\n",
      "\n",
      "\n"
     ]
    }
   ],
   "source": [
    "import xml\n",
    "dir(xml)\n",
    "help(xml)"
   ]
  },
  {
   "cell_type": "markdown",
   "metadata": {},
   "source": [
    "Python标准库xml模块提供4个功能模块：\n",
    "\n",
    "    \n",
    "    sax    -- 基于事件的XML文档处理；\n",
    "    dom   -- DOM接口实现；\n",
    "    etree  -- 文档树\n",
    "    parsers --  XML解析器的Python包装器\n"
   ]
  },
  {
   "cell_type": "markdown",
   "metadata": {},
   "source": [
    "### sax功能模块"
   ]
  },
  {
   "cell_type": "code",
   "execution_count": 2,
   "metadata": {},
   "outputs": [],
   "source": [
    "import xml.sax\n",
    "# help(xml.sax)"
   ]
  },
  {
   "cell_type": "markdown",
   "metadata": {},
   "source": [
    "#### sax API结构\n",
    "\n",
    "sax提供四个模块来处理xml：\n",
    "       \n",
    "        xml.sax.xmlreader    — xml的解析接口规范，抽象的，需要继承实现才能使用。\n",
    "        xml.sax.handler       — 回调处理器，如果与xmlreader绑定，当满足xml条件就会被调用，用来处理具体的xml内容。\n",
    "        xml.sax.saxutils       — 一些数据处理工具，比如实体转换什么的。\n",
    "        \n",
    "        xml.parsers.expat     — xmlreader的具体实现，可以直接使用。也可以使用parse函数直接解析，或者使用make_parser返回解析器，或者直接构造ExpatParser解析器使用。【见下面例子】\n",
    "        \n",
    "下面对核心模块xmlreader与handler进一步说明。"
   ]
  },
  {
   "cell_type": "markdown",
   "metadata": {},
   "source": [
    "1. xmlreader API结构\n",
    "        \n",
    "        提供如下几个类实现数据分析：\n",
    "                |- AttributesImpl\n",
    "                        |- AttributesNSImpl\n",
    "                |- InputSource\n",
    "                |- Locator\n",
    "                |- XMLReader\n",
    "                        |- IncrementalParser"
   ]
  },
  {
   "cell_type": "markdown",
   "metadata": {},
   "source": [
    "2. handler API结构\n",
    "\n",
    "        提供4个Handler来处理xml内容。\n",
    "                |-  ContentHandler\n",
    "                |-  DTDHandler\n",
    "                |-  EntityResolver\n",
    "                |-  ErrorHandler"
   ]
  },
  {
   "cell_type": "markdown",
   "metadata": {},
   "source": [
    "#### sax解析器的三种使用方式"
   ]
  },
  {
   "cell_type": "markdown",
   "metadata": {},
   "source": [
    "1. sax编程模式"
   ]
  },
  {
   "cell_type": "code",
   "execution_count": 3,
   "metadata": {},
   "outputs": [
    {
     "name": "stdout",
     "output_type": "stream",
     "text": [
      "setDocumentLocator\n",
      "startDocument\n",
      "startElement\n",
      "characters\n",
      "characters\n",
      "startElement\n",
      "characters\n",
      "endElement\n",
      "characters\n",
      "characters\n",
      "startElement\n",
      "characters\n",
      "endElement\n",
      "characters\n",
      "characters\n",
      "startElement\n",
      "characters\n",
      "endElement\n",
      "characters\n",
      "characters\n",
      "startElement\n",
      "characters\n",
      "endElement\n",
      "characters\n",
      "endElement\n",
      "endDocument\n"
     ]
    }
   ],
   "source": [
    "# coding = utf-8\n",
    "import xml.sax.handler\n",
    "\n",
    "\n",
    "class MyHandler(xml.sax.handler.ContentHandler, xml.sax.handler.DTDHandler):\n",
    "    def setDocumentLocator(self, locator):\n",
    "        print('setDocumentLocator')\n",
    "\n",
    "    def startDocument(self):\n",
    "        print('startDocument')\n",
    "\n",
    "    def endDocument(self):\n",
    "        print('endDocument')\n",
    "\n",
    "    def startPrefixMapping(self, prefix, uri):\n",
    "        print('startPrefixMapping')\n",
    "\n",
    "    def endPrefixMapping(self, prefix):\n",
    "        print('endPrefixMapping')\n",
    "\n",
    "    def startElement(self, name, attrs):\n",
    "        print('startElement')\n",
    "\n",
    "    def endElement(self, name):\n",
    "        print('endElement')\n",
    "\n",
    "    def startElementNS(self, name, qname, attrs):\n",
    "        print('startElementNS')\n",
    "\n",
    "    def endElementNS(self, name, qname):\n",
    "        print('endElementNS')\n",
    "\n",
    "    def characters(self, content):\n",
    "        print('characters')\n",
    "\n",
    "    def ignorableWhitespace(self, whitespace):\n",
    "        print('ignorableWhitespace')\n",
    "\n",
    "    def processingInstruction(self, target, data):\n",
    "        print('processingInstruction')\n",
    "\n",
    "    def skippedEntity(self, name):\n",
    "        print('skippedEntity')\n",
    "\n",
    "    def notationDecl(self, name, publicId, systemId):\n",
    "        print('notationDecl')\n",
    "\n",
    "    def unparsedEntityDecl(self, name, publicId, systemId, ndata):\n",
    "        print('unparsedEntityDecl')\n",
    "\n",
    "\n",
    "class MyError(xml.sax.ErrorHandler):\n",
    "\n",
    "    def error(self, exception):\n",
    "        print('error')\n",
    "        return super().error(exception)\n",
    "\n",
    "    def fatalError(self, exception):\n",
    "        print('fatalError')\n",
    "        return super().fatalError(exception)\n",
    "\n",
    "    def warning(self, exception):\n",
    "        print('warning')\n",
    "        super().warning(exception)\n",
    "\n",
    "\n",
    "xml.sax.parse(\n",
    "    source='codes/note.xml',\n",
    "    handler=MyHandler(),\n",
    "    errorHandler=MyError())\n"
   ]
  },
  {
   "cell_type": "markdown",
   "metadata": {},
   "source": [
    "2. 构造parser       \n",
    "\n",
    "    注意：不能直接构造XMLReader，而是使用工厂模式函数：xml.sax.make_parser()来产生parser，要么直接调用parse函数解析处理xml。\n",
    "    \n",
    "    XMLReader是xml解析的接口规范，其实现就是：xml.sax.expatreader.ExpatParser"
   ]
  },
  {
   "cell_type": "code",
   "execution_count": 4,
   "metadata": {},
   "outputs": [
    {
     "name": "stdout",
     "output_type": "stream",
     "text": [
      "<xml.sax.expatreader.ExpatParser object at 0x10f87b208>\n",
      "setDocumentLocator\n"
     ]
    }
   ],
   "source": [
    "# coding = utf-8\n",
    "import xml.sax.handler\n",
    "import xml.sax.xmlreader\n",
    "\n",
    "class MyHandler(xml.sax.handler.ContentHandler,xml.sax.handler.DTDHandler):\n",
    "    def setDocumentLocator(self, locator):\n",
    "        print('setDocumentLocator')\n",
    "\n",
    "class MyError(xml.sax.ErrorHandler):\n",
    "\n",
    "    def error(self, exception):\n",
    "        print('error')\n",
    "        return super().error(exception)\n",
    "\n",
    "'''\n",
    "xml.sax.parse(\n",
    "    source='books.xml',\n",
    "    handler=MyHandler(),\n",
    "    errorHandler=MyError())\n",
    "'''\n",
    "handler = MyHandler()\n",
    "error = MyError()\n",
    "parser = xml.sax.make_parser()\n",
    "print(parser)\n",
    "parser.setContentHandler(handler)\n",
    "parser.setErrorHandler(error)\n",
    "parser.setDTDHandler(handler)\n",
    "parser.parse('codes/note.xml')\n"
   ]
  },
  {
   "cell_type": "markdown",
   "metadata": {},
   "source": [
    "3. ExpatParser的使用\n",
    "    \n",
    "    ExpatParser实现的接口类：\n",
    "    class ExpatParser(xml.sax.xmlreader.IncrementalParser, xml.sax.xmlreader.Locator)\n",
    "    直接"
   ]
  },
  {
   "cell_type": "code",
   "execution_count": 5,
   "metadata": {},
   "outputs": [
    {
     "name": "stdout",
     "output_type": "stream",
     "text": [
      "<xml.sax.expatreader.ExpatParser object at 0x10f7937b8>\n",
      "setDocumentLocator\n"
     ]
    }
   ],
   "source": [
    "# coding = utf-8\n",
    "import xml.sax.handler\n",
    "import xml.sax.xmlreader\n",
    "import xml.sax.expatreader\n",
    "\n",
    "\n",
    "class MyHandler(xml.sax.handler.ContentHandler,xml.sax.handler.DTDHandler):\n",
    "    def setDocumentLocator(self, locator):\n",
    "        print('setDocumentLocator')\n",
    "\n",
    "\n",
    "\n",
    "class MyError(xml.sax.ErrorHandler):\n",
    "\n",
    "    def error(self, exception):\n",
    "        print('error')\n",
    "        return super().error(exception)\n",
    "\n",
    "'''\n",
    "xml.sax.parse(\n",
    "    source='books.xml',\n",
    "    handler=MyHandler(),\n",
    "    errorHandler=MyError())\n",
    "'''\n",
    "handler = MyHandler()\n",
    "error = MyError()\n",
    "# parser = xml.sax.make_parser()\n",
    "parser = xml.sax.expatreader.ExpatParser(namespaceHandling=True)\n",
    "print(parser)\n",
    "parser.setContentHandler(handler)\n",
    "parser.setErrorHandler(error)\n",
    "parser.setDTDHandler(handler)\n",
    "parser.parse('codes/note.xml')\n"
   ]
  },
  {
   "cell_type": "markdown",
   "metadata": {},
   "source": [
    "#### handler的使用\n",
    "\n",
    "    对DTDHandler这里不说明，"
   ]
  },
  {
   "cell_type": "markdown",
   "metadata": {},
   "source": [
    "1. Locator的使用\n",
    "    \n",
    "        Locator是文档定位，其实现类是ExpatLocator类。\n",
    "            |-  xml.sax.xmlreader.Locator(builtins.object)\n",
    "                    |-  xml.sax.expatreader.ExpatLocator\n",
    "        \n",
    "        该类使用是个函数提供四个信息：\n",
    "             |  - getColumnNumber(self)     xml当前列数\n",
    "             |  - getLineNumber(self)          xml当前行数\n",
    "             |  - getPublicId(self)                xml的public ID：在Python中通常是None\n",
    "             |  - getSystemId(self)              xml的system ID：通常就是xml文件\n",
    "\n",
    "\n"
   ]
  },
  {
   "cell_type": "code",
   "execution_count": 6,
   "metadata": {},
   "outputs": [
    {
     "name": "stdout",
     "output_type": "stream",
     "text": [
      "system ID：codes/web.xml\n",
      "public ID：None\n",
      "行列位置(1,0)\n"
     ]
    }
   ],
   "source": [
    "# coding = utf-8\n",
    "import xml.sax.expatreader\n",
    "\n",
    "\n",
    "class MyHandler(xml.sax.handler.ContentHandler):\n",
    "    def setDocumentLocator(self, locator):\n",
    "        print(f'system ID：{locator.getSystemId()}')\n",
    "        print(f'public ID：{locator.getPublicId()}')\n",
    "        print('行列位置(%d,%d)' % (locator.getLineNumber(),locator.getColumnNumber()))\n",
    "\n",
    "\n",
    "handler = MyHandler()\n",
    "error = xml.sax.ErrorHandler()\n",
    "\n",
    "parser = xml.sax.expatreader.ExpatParser(namespaceHandling=True)\n",
    "parser.setContentHandler(handler)\n",
    "parser.setErrorHandler(error)\n",
    "parser.setDTDHandler(handler)\n",
    "parser.parse('codes/web.xml')\n"
   ]
  },
  {
   "cell_type": "markdown",
   "metadata": {},
   "source": [
    "2. startDocument与endDocument的文档解析事件函数\n",
    "        \n",
    "        在文档解析开始的时候触发解析事件函数：startDocument，在文档解析结束的时候触发解析事件函数：endDocument。\n"
   ]
  },
  {
   "cell_type": "code",
   "execution_count": 7,
   "metadata": {},
   "outputs": [
    {
     "name": "stdout",
     "output_type": "stream",
     "text": [
      "开始文档解析\n",
      "文档解析结束\n"
     ]
    }
   ],
   "source": [
    "# coding = utf-8\n",
    "import xml.sax.expatreader\n",
    "\n",
    "\n",
    "class MyHandler(xml.sax.handler.ContentHandler):\n",
    "\n",
    "    def startDocument(self):\n",
    "        print('开始文档解析')\n",
    "\n",
    "    def endDocument(self):\n",
    "        print('文档解析结束')\n",
    "\n",
    "\n",
    "handler = MyHandler()\n",
    "error = xml.sax.ErrorHandler()\n",
    "\n",
    "parser = xml.sax.expatreader.ExpatParser(namespaceHandling=True)\n",
    "parser.setContentHandler(handler)\n",
    "parser.setErrorHandler(error)\n",
    "parser.setDTDHandler(handler)\n",
    "parser.parse('codes/books.xml')\n"
   ]
  },
  {
   "cell_type": "markdown",
   "metadata": {},
   "source": [
    "3. startElement与endElement元素解析事件函数        \n",
    "    \n",
    "        startElement函数在每个元素开始前触发。     \n",
    "        endElement函数在每个元素结束后触发。     \n",
    "        函数的原型如下：   \n",
    "            |- def startElement(self, name, attrs):      \n",
    "                    |-  name：类型是字符串str，表示元素名。    \n",
    "                    |-  attrs：类型是xml.sax.xmlreader.AttributesImpl，表示元素的所有属性。    \n",
    "            \n",
    "            |- def endElement(self, name):    \n",
    "            \n",
    "       \n",
    "         其中attrs是属性列表，本质是一个字典，还有一些其他成员，可以使用帮助方式查看。\n",
    "         "
   ]
  },
  {
   "cell_type": "code",
   "execution_count": 8,
   "metadata": {},
   "outputs": [
    {
     "name": "stdout",
     "output_type": "stream",
     "text": [
      "元素解析开始，元素名： books\n",
      "<class 'xml.sax.xmlreader.AttributesImpl'> <class 'str'>\n",
      "属性数：0\n",
      "元素解析开始，元素名： book\n",
      "<class 'xml.sax.xmlreader.AttributesImpl'> <class 'str'>\n",
      "属性数：1\n",
      "属性名：category，属性值：Python\n",
      "元素解析开始，元素名： title\n",
      "<class 'xml.sax.xmlreader.AttributesImpl'> <class 'str'>\n",
      "属性数：1\n",
      "属性名：lang，属性值：zh\n",
      "元素解析结束，元素名： title\n",
      "元素解析开始，元素名： author\n",
      "<class 'xml.sax.xmlreader.AttributesImpl'> <class 'str'>\n",
      "属性数：0\n",
      "元素解析结束，元素名： author\n",
      "元素解析开始，元素名： year\n",
      "<class 'xml.sax.xmlreader.AttributesImpl'> <class 'str'>\n",
      "属性数：0\n",
      "元素解析结束，元素名： year\n",
      "元素解析开始，元素名： price\n",
      "<class 'xml.sax.xmlreader.AttributesImpl'> <class 'str'>\n",
      "属性数：0\n",
      "元素解析结束，元素名： price\n",
      "元素解析开始，元素名： publisher\n",
      "<class 'xml.sax.xmlreader.AttributesImpl'> <class 'str'>\n",
      "属性数：0\n",
      "元素解析结束，元素名： publisher\n",
      "元素解析结束，元素名： book\n",
      "元素解析开始，元素名： book\n",
      "<class 'xml.sax.xmlreader.AttributesImpl'> <class 'str'>\n",
      "属性数：1\n",
      "属性名：category，属性值：系统运维\n",
      "元素解析开始，元素名： title\n",
      "<class 'xml.sax.xmlreader.AttributesImpl'> <class 'str'>\n",
      "属性数：1\n",
      "属性名：lang，属性值：zh\n",
      "元素解析结束，元素名： title\n",
      "元素解析开始，元素名： author\n",
      "<class 'xml.sax.xmlreader.AttributesImpl'> <class 'str'>\n",
      "属性数：0\n",
      "元素解析结束，元素名： author\n",
      "元素解析开始，元素名： year\n",
      "<class 'xml.sax.xmlreader.AttributesImpl'> <class 'str'>\n",
      "属性数：0\n",
      "元素解析结束，元素名： year\n",
      "元素解析开始，元素名： price\n",
      "<class 'xml.sax.xmlreader.AttributesImpl'> <class 'str'>\n",
      "属性数：0\n",
      "元素解析结束，元素名： price\n",
      "元素解析开始，元素名： publisher\n",
      "<class 'xml.sax.xmlreader.AttributesImpl'> <class 'str'>\n",
      "属性数：0\n",
      "元素解析结束，元素名： publisher\n",
      "元素解析结束，元素名： book\n",
      "元素解析开始，元素名： book\n",
      "<class 'xml.sax.xmlreader.AttributesImpl'> <class 'str'>\n",
      "属性数：1\n",
      "属性名：category，属性值：区块链\n",
      "元素解析开始，元素名： title\n",
      "<class 'xml.sax.xmlreader.AttributesImpl'> <class 'str'>\n",
      "属性数：1\n",
      "属性名：lang，属性值：en\n",
      "元素解析结束，元素名： title\n",
      "元素解析开始，元素名： author\n",
      "<class 'xml.sax.xmlreader.AttributesImpl'> <class 'str'>\n",
      "属性数：0\n",
      "元素解析结束，元素名： author\n",
      "元素解析开始，元素名： year\n",
      "<class 'xml.sax.xmlreader.AttributesImpl'> <class 'str'>\n",
      "属性数：0\n",
      "元素解析结束，元素名： year\n",
      "元素解析开始，元素名： price\n",
      "<class 'xml.sax.xmlreader.AttributesImpl'> <class 'str'>\n",
      "属性数：0\n",
      "元素解析结束，元素名： price\n",
      "元素解析开始，元素名： publisher\n",
      "<class 'xml.sax.xmlreader.AttributesImpl'> <class 'str'>\n",
      "属性数：0\n",
      "元素解析结束，元素名： publisher\n",
      "元素解析结束，元素名： book\n",
      "元素解析结束，元素名： books\n"
     ]
    }
   ],
   "source": [
    "# coding = utf-8\n",
    "import xml.sax.expatreader\n",
    "\n",
    "\n",
    "class MyHandler(xml.sax.handler.ContentHandler):\n",
    "\n",
    "    def startElement(self, name, attrs):\n",
    "        print('元素解析开始，元素名：', name)\n",
    "        # attrs是属性列表\n",
    "        print(type(attrs), type(name))\n",
    "        # 属性列表\n",
    "        print('属性数：%d' % attrs.getLength())\n",
    "        for item in attrs.items():\n",
    "            print('属性名：%s，属性值：%s' % item)\n",
    "\n",
    "\n",
    "    def endElement(self, name):\n",
    "        print('元素解析结束，元素名：', name)\n",
    "\n",
    "\n",
    "handler = MyHandler()\n",
    "error = xml.sax.ErrorHandler()\n",
    "\n",
    "# namespaceHandling 对具有命名空间的元素处理，没有命名空间设置围为0。\n",
    "parser = xml.sax.expatreader.ExpatParser(namespaceHandling=0)\n",
    "parser.setContentHandler(handler)\n",
    "parser.setErrorHandler(error)\n",
    "parser.setDTDHandler(handler)\n",
    "parser.parse('codes/books.xml')\n"
   ]
  },
  {
   "cell_type": "markdown",
   "metadata": {},
   "source": [
    "4. characters文本解析事件函数\n",
    "\n",
    "        函数原型是：characters(self, content)\n",
    "            参数：content是文本内容。"
   ]
  },
  {
   "cell_type": "code",
   "execution_count": 9,
   "metadata": {},
   "outputs": [
    {
     "name": "stdout",
     "output_type": "stream",
     "text": [
      "b'\\n'\n",
      "b'    '\n",
      "b'Tove'\n",
      "b'\\n'\n",
      "b'    '\n",
      "b'Jani'\n",
      "b'\\n'\n",
      "b'    '\n",
      "b'Reminder'\n",
      "b'\\n'\n",
      "b'    '\n",
      "b\"Don't forget me this weekend!\"\n",
      "b'\\n'\n"
     ]
    }
   ],
   "source": [
    "# coding = utf-8\n",
    "import xml.sax.expatreader\n",
    "\n",
    "\n",
    "class MyHandler(xml.sax.handler.ContentHandler):\n",
    "\n",
    "    def characters(self, content):\n",
    "        # 为了看见所有的字符，下面输出采用子节序列。\n",
    "        # 下面的文本包含所有元素结束的换行字符。\n",
    "        print(content.encode('utf-8'))\n",
    "\n",
    "\n",
    "handler = MyHandler()\n",
    "error = xml.sax.ErrorHandler()\n",
    "\n",
    "# namespaceHandling 对具有命名空间的元素处理，没有命名空间设置围为0。\n",
    "parser = xml.sax.expatreader.ExpatParser(namespaceHandling=0)\n",
    "parser.setContentHandler(handler)\n",
    "parser.setErrorHandler(error)\n",
    "parser.setDTDHandler(handler)\n",
    "parser.parse('codes/note.xml')\n"
   ]
  },
  {
   "cell_type": "markdown",
   "metadata": {},
   "source": [
    "5. startElementNS与endElementNS带命名空间名的元素解析事件函数\n",
    "\n",
    "        startElementNS(self, name, qname, attrs)\n",
    "            |- qname：命名空间，qname是qualified name 的简写，比如：<song:id>。\n",
    "            |- name：与startElement不同，这里是一个元组，格式如下：(uri, localname)\n",
    "            \n",
    "            "
   ]
  },
  {
   "cell_type": "code",
   "execution_count": 10,
   "metadata": {},
   "outputs": [
    {
     "name": "stdout",
     "output_type": "stream",
     "text": [
      "('http://www.example.org/athena', 'body') None\n",
      "('http://www.example.org/athena', 'id') None\n",
      "结束： ('http://www.example.org/athena', 'id')\n",
      "('http://www.example.org/athena', 'name') None\n",
      "结束： ('http://www.example.org/athena', 'name')\n",
      "('http://www.example.org/athena', 'birthday') None\n",
      "结束： ('http://www.example.org/athena', 'birthday')\n",
      "结束： ('http://www.example.org/athena', 'body')\n"
     ]
    }
   ],
   "source": [
    "# coding = utf-8\n",
    "import xml.sax.expatreader\n",
    "\n",
    "\n",
    "class MyHandler(xml.sax.handler.ContentHandler):\n",
    "\n",
    "    def startElementNS(self, name, qname, attrs):\n",
    "        print(name, qname)\n",
    "    def endElementNS(self, name, qname):\n",
    "        print('结束：', name)\n",
    "    \n",
    "\n",
    "\n",
    "handler = MyHandler()\n",
    "error = xml.sax.ErrorHandler()\n",
    "\n",
    "# namespaceHandling 对具有命名空间的元素处理，没有命名空间设置围为0。\n",
    "parser = xml.sax.expatreader.ExpatParser(namespaceHandling=True)\n",
    "parser.setContentHandler(handler)\n",
    "parser.setErrorHandler(error)\n",
    "parser.setDTDHandler(handler)\n",
    "parser.parse('codes/song.xml')\n"
   ]
  },
  {
   "cell_type": "markdown",
   "metadata": {},
   "source": [
    "6. startPrefixMapping与endPrefixMapping解析事件函数\n",
    "        \n",
    "        命名空间前缀映射解析事件。\n",
    "        startPrefixMapping(self, prefix, uri):\n",
    "            |- prefix ：前缀\n",
    "            |- uri：uri\n",
    "            "
   ]
  },
  {
   "cell_type": "code",
   "execution_count": 11,
   "metadata": {},
   "outputs": [
    {
     "name": "stdout",
     "output_type": "stream",
     "text": [
      "song http://www.example.org/athena\n",
      "xsi http://www.w3.org/2001/XMLSchema-instance\n",
      "xsi\n",
      "song\n"
     ]
    }
   ],
   "source": [
    "# coding = utf-8\n",
    "import xml.sax.expatreader\n",
    "\n",
    "\n",
    "class MyHandler(xml.sax.handler.ContentHandler):\n",
    "\n",
    "\n",
    "    def startPrefixMapping(self, prefix, uri):\n",
    "        print(prefix, uri)\n",
    "\n",
    "    def endPrefixMapping(self, prefix):\n",
    "        print(prefix)\n",
    "\n",
    "\n",
    "handler = MyHandler()\n",
    "error = xml.sax.ErrorHandler()\n",
    "\n",
    "# namespaceHandling 对具有命名空间的元素处理，没有命名空间设置围为0。\n",
    "parser = xml.sax.expatreader.ExpatParser(namespaceHandling=True)\n",
    "parser.setContentHandler(handler)\n",
    "parser.setErrorHandler(error)\n",
    "parser.setDTDHandler(handler)\n",
    "parser.parse('codes/song.xml')\n"
   ]
  },
  {
   "cell_type": "markdown",
   "metadata": {},
   "source": [
    "7. 其他\n",
    "    \n",
    "        还有一些其他事件函数，这里不详细解释。比如：\n",
    "        processingInstruction(self, target, data)函数就是处理'<?xml version=\"1.0\" encoding=\"UTF-8\"?>'。但实际不触发该函数。"
   ]
  },
  {
   "cell_type": "markdown",
   "metadata": {},
   "source": [
    "注意：\n",
    "    SAX解析处理XML比较麻烦，我们都不直接使用，这里只是说明xml的处理底层细节。\n",
    "    \n",
    "总结：\n",
    "    sax模块结构分成两个标准接口定义：handler与xmlreader，一个实现模块expatreader，一个工具模块saxutils。"
   ]
  },
  {
   "cell_type": "markdown",
   "metadata": {},
   "source": [
    "### dom功能模块"
   ]
  },
  {
   "cell_type": "markdown",
   "metadata": {},
   "source": [
    "#### dom API结构"
   ]
  },
  {
   "cell_type": "markdown",
   "metadata": {},
   "source": [
    "查看xml.dom模块，可以看到xml.dom的API结构如下。\n",
    "    \n",
    "        NodeFilter             # NodeFilter接口，仅仅提供常量定义\n",
    "        domreg                 # 不直接使用，提供DOM实现访问接口。\n",
    "        expatbuilder          # \n",
    "        minicompat\n",
    "        minidom                # dom的实现方式之一\n",
    "        pulldom                 # dom的实现方式之二\n",
    "        xmlbuilder\n",
    "    定义了Node结构\n",
    "        Node\n",
    "        UserDataHandler\n",
    "\n"
   ]
  },
  {
   "cell_type": "markdown",
   "metadata": {},
   "source": [
    "#### domreg  \n",
    "        \n",
    "        两个核心函数获取与注册实现工厂。\n",
    "        \n",
    "            getDOMImplementation(name=None, features=())    # 得到DOM实现\n",
    "            registerDOMImplementation(name, factory)            # 注册DOM实现（需要自己实现一个DOMImplementation接口，并注册）\n",
    "    \n",
    "        提供两个数据：\n",
    "            registered = {}\n",
    "            well_known_implementations = {'4DOM': 'xml.dom.DOMImplementation', 'mi...\n",
    "        "
   ]
  },
  {
   "cell_type": "code",
   "execution_count": 12,
   "metadata": {},
   "outputs": [
    {
     "name": "stdout",
     "output_type": "stream",
     "text": [
      "{'minidom': 'xml.dom.minidom', '4DOM': 'xml.dom.DOMImplementation'}\n",
      "{}\n",
      "<xml.dom.minidom.DOMImplementation object at 0x10f8b1ba8>\n"
     ]
    }
   ],
   "source": [
    "import xml.dom\n",
    "import xml.dom.domreg\n",
    "\n",
    "# 数据\n",
    "print(xml.dom.domreg.well_known_implementations)\n",
    "print(xml.dom.domreg.registered)\n",
    "\n",
    "mini_dom = xml.dom.domreg.getDOMImplementation(name='minidom')\n",
    "# '4DOM'没有提供实现，下面代码会产生异常。\n",
    "# four_dom = xml.dom.domreg.getDOMImplementation(name='4DOM')\n",
    "print(mini_dom)\n",
    "# print(four_dom)\n"
   ]
  },
  {
   "cell_type": "markdown",
   "metadata": {},
   "source": [
    "#### minidom模块\n",
    "\n",
    "        该模块使用help可以得到帮助，该模块下提供三个函数，负责启动解析工作。\n",
    "            |- getDOMImplementation(features=None)\n",
    "            |- parse(file, parser=None, bufsize=None)\n",
    "                    |-  返回document对象\n",
    "            |- parseString(string, parser=None)\n",
    "                    \n",
    "        \n",
    "        同时提供对DOM对象的封装：\n",
    "            |-   builtins.object\n",
    "                        |-  Childless\n",
    "                                |-  CharacterData(Childless, Node)\n",
    "                                |        |-  Comment\n",
    "                                |        |-  Text\n",
    "                                |                |-  CDATASection\n",
    "                                |-  ProcessingInstruction(Childless, Node)\n",
    "            |-  ElementInfo\n",
    "            |-  Identified\n",
    "                    |-  DocumentType(Identified, Childless, Node)\n",
    "                    |-  Entity(Identified, Node)\n",
    "                    |-  Notation(Identified, Childless, Node)\n",
    "            |-  NamedNodeMap\n",
    "            |-  ReadOnlySequentialNamedNodeMap\n",
    "            |-  TypeInfo\n",
    "        \n",
    "        \n",
    "            节点对象：\n",
    "            |-  xml.dom.Node(builtins.object)\n",
    "                    |-  Node\n",
    "                            |-  Attr\n",
    "                            |-  Document(Node, xml.dom.xmlbuilder.DocumentLS)\n",
    "                            |-  DocumentFragment\n",
    "                            |-  Element\n",
    "            \n",
    "            DOM解析实现：\n",
    "            xml.dom.xmlbuilder.DOMImplementationLS(builtins.object)\n",
    "                    |-  DOMImplementation\n",
    "\n",
    "    具体每个接口的接口函数，可以通过help与dir查看到帮助。\n"
   ]
  },
  {
   "cell_type": "code",
   "execution_count": 13,
   "metadata": {},
   "outputs": [
    {
     "name": "stdout",
     "output_type": "stream",
     "text": [
      "<xml.dom.minidom.Document object at 0x10f8c04c8>\n"
     ]
    }
   ],
   "source": [
    "import xml.dom\n",
    "import xml.dom.minidom\n",
    "import xml.sax\n",
    "\n",
    "dom = xml.dom.minidom.parse(\n",
    "    'note.xml',\n",
    "    # parser=None,    # parser = xml.sax.make_parser()或者ExpatParser对象\n",
    "    parser=xml.sax.make_parser(),\n",
    "    bufsize=1024*10)\n",
    "print(dom)\n"
   ]
  },
  {
   "cell_type": "markdown",
   "metadata": {},
   "source": [
    "#### Node与Element对象提供节点访问与遍历\n",
    "        |  appendChild(self, node)\n",
    "        |  \n",
    "        |  cloneNode(self, deep)\n",
    "        |  \n",
    "        |  getInterface(self, feature)\n",
    "        |  \n",
    "        |  getUserData(self, key)\n",
    "        |  \n",
    "        |  hasChildNodes(self)\n",
    "        |  \n",
    "        |  insertBefore(self, newChild, refChild)\n",
    "        |  \n",
    "        |  isSameNode(self, other)\n",
    "        |  \n",
    "        |  isSupported(self, feature, version)\n",
    "        |  \n",
    "        |  normalize(self)\n",
    "        |  \n",
    "        |  removeChild(self, oldChild)\n",
    "        |  \n",
    "        |  replaceChild(self, newChild, oldChild)\n",
    "        |  \n",
    "        |  setUserData(self, key, data, handler)\n",
    "        |  \n",
    "        |  toprettyxml(self, indent='\\t', newl='\\n', encoding=None)\n",
    "        |  \n",
    "        |  toxml(self, encoding=None)\n",
    "        |  \n",
    "        |  unlink(self)"
   ]
  },
  {
   "cell_type": "code",
   "execution_count": 14,
   "metadata": {},
   "outputs": [
    {
     "name": "stdout",
     "output_type": "stream",
     "text": [
      "标签名： note\n",
      "标签名： to\n",
      "文本： Tove\n",
      "标签名： from\n",
      "文本： Jani\n",
      "标签名： heading\n",
      "文本： Reminder\n",
      "标签名： body\n",
      "文本： Don't forget me this weekend!\n"
     ]
    }
   ],
   "source": [
    "import xml.dom\n",
    "import xml.dom.minidom\n",
    "import xml.sax\n",
    "\n",
    "dom = xml.dom.minidom.parse(\n",
    "    'note.xml',\n",
    "    # parser=None,    # parser = xml.sax.make_parser()或者ExpatParser对象\n",
    "    parser=xml.sax.make_parser(),\n",
    "    bufsize=1024*10)\n",
    "children = dom.childNodes\n",
    "\n",
    "\n",
    "def list_nodes(nd):\n",
    "    if nd.nodeType == xml.dom.Node.ELEMENT_NODE:\n",
    "        print(\"标签名：\", nd.tagName)\n",
    "        # print('节点名：', nd.nodeName)\n",
    "        for attr_ in nd.attributes.items():\n",
    "            print(attr_.name, attr_.value)\n",
    "\n",
    "    if nd.nodeType == xml.dom.Node.TEXT_NODE:\n",
    "        if  nd.wholeText.strip() != '':\n",
    "            print('文本：', nd.wholeText.strip())\n",
    "\n",
    "    if nd.nodeType == xml.dom.Node.ELEMENT_NODE and nd.hasChildNodes():\n",
    "        for nd_ in nd.childNodes:\n",
    "            list_nodes(nd_)\n",
    "\n",
    "\n",
    "list_nodes(children[0])\n"
   ]
  },
  {
   "cell_type": "markdown",
   "metadata": {},
   "source": [
    "Document对象提供文档创建操作\n",
    "        \n",
    "        |  appendChild(self, node)\n",
    "        |  \n",
    "        |  cloneNode(self, deep)\n",
    "        |  \n",
    "        |  createAttribute(self, qName)\n",
    "        |  \n",
    "        |  createAttributeNS(self, namespaceURI, qualifiedName)\n",
    "        |  \n",
    "        |  createCDATASection(self, data)\n",
    "        |  \n",
    "        |  createComment(self, data)\n",
    "        |  \n",
    "        |  createDocumentFragment(self)\n",
    "        |  \n",
    "        |  createElement(self, tagName)\n",
    "        |  \n",
    "        |  createElementNS(self, namespaceURI, qualifiedName)\n",
    "        |  \n",
    "        |  createProcessingInstruction(self, target, data)\n",
    "        |        \n",
    "        |  createTextNode(self, data)\n",
    "        |  \n",
    "        |  getElementById(self, id)\n",
    "        |  \n",
    "        |  getElementsByTagName(self, name)\n",
    "        |  \n",
    "        |  getElementsByTagNameNS(self, namespaceURI, localName)\n",
    "        |  \n",
    "        |  importNode(self, node, deep)\n",
    "        |  \n",
    "        |  isSupported(self, feature, version)\n",
    "        |  \n",
    "        |  removeChild(self, oldChild)\n",
    "        |  \n",
    "        |  renameNode(self, n, namespaceURI, name)\n",
    "        |  \n",
    "        |  unlink(self)\n",
    "        |  \n",
    "        |  writexml(self, writer, indent='', addindent='', newl='', encoding=None)\n",
    "        \n",
    "\n",
    "数据定义：\n",
    "\n",
    "        |  childNodes\n",
    "        |  \n",
    "        |  doctype\n",
    "        |  \n",
    "        |  documentElement\n",
    "\n",
    "        "
   ]
  },
  {
   "cell_type": "markdown",
   "metadata": {},
   "source": [
    "DocumentLS\n",
    "\n",
    "        |  abort(self)\n",
    "        |  \n",
    "        |  load(self, uri)\n",
    "        |  \n",
    "        |  loadXML(self, source)\n",
    "        |  \n",
    "        |  saveXML(self, snode)"
   ]
  },
  {
   "cell_type": "markdown",
   "metadata": {},
   "source": [
    "#### DOMImplementation接口实现\n",
    "    \n",
    "        implementation = xml.dom.minidom.getDOMImplementation()\n",
    "            |-  createDocument(self, namespaceURI, qualifiedName, doctype)\n",
    "            |  \n",
    "            |-  createDocumentType(self, qualifiedName, publicId, systemId)\n",
    "            |  \n",
    "            |-  getInterface(self, feature)\n",
    "            |  \n",
    "            |-  hasFeature(self, feature, version)\n",
    "            \n",
    "            下面的接口没有实现\n",
    "            |\n",
    "            |-  createDOMBuilder(self, mode, schemaType)\n",
    "            |  \n",
    "            |-  createDOMInputSource(self)\n",
    "            |  \n",
    "            |-  createDOMWriter(self)\n",
    "            \n",
    "  由于没有实现createDOMWriter接口，所以python中xml文件的读写使用Document对象提供的writexml函数实现。\n"
   ]
  },
  {
   "cell_type": "code",
   "execution_count": 15,
   "metadata": {},
   "outputs": [
    {
     "name": "stdout",
     "output_type": "stream",
     "text": [
      "<xml.dom.minidom.DOMImplementation object at 0x10f8b1ba8>\n"
     ]
    }
   ],
   "source": [
    "# coding = utf-8\n",
    "import xml.dom\n",
    "import xml.dom.minidom\n",
    "\n",
    "implementation = xml.dom.minidom.getDOMImplementation()\n",
    "print(implementation)\n",
    "doc_type = implementation.createDocumentType(\n",
    "    qualifiedName='HH',\n",
    "    publicId='-//mybatis.org//DTD Config 3.0//EN',\n",
    "    systemId='http://mybatis.org/dtd/mybatis-3-config.dtd')\n",
    "doc = implementation.createDocument(\n",
    "    namespaceURI='http://xmlns.jcp.org/xml/ns/javaee',\n",
    "    qualifiedName='HH',\n",
    "    doctype=doc_type)\n",
    "# writer = implementation.createDOMWriter()   # 没有实现，直接使用文件描述符号。\n",
    "# 创建根节点\n",
    "root_element = doc.createElement('myroot')\n",
    "attr1 = doc.createAttribute('属性')\n",
    "attr1.value = '属性值'\n",
    "root_element.setAttributeNode(attr1)\n",
    "# doc.documentElement只读，创建文档的时候唯一产生\n",
    "doc.documentElement.appendChild(root_element)\n",
    "\n",
    "# 产生文本子节点\n",
    "txt = doc.createTextNode('我是文本')\n",
    "root_element.appendChild(txt)\n",
    "\n",
    "with open('my.xml','w') as fd:\n",
    "    doc.writexml(fd,\n",
    "                 indent='\\t',\n",
    "                 addindent='\\t',\n",
    "                 newl='\\n',\n",
    "                 encoding='utf-8')\n"
   ]
  },
  {
   "cell_type": "code",
   "execution_count": 16,
   "metadata": {
    "scrolled": true
   },
   "outputs": [
    {
     "name": "stdout",
     "output_type": "stream",
     "text": [
      "<?xml version=\"1.0\" encoding=\"utf-8\"?>\n",
      "<!DOCTYPE HH\n",
      "  PUBLIC '-//mybatis.org//DTD Config 3.0//EN'\n",
      "  'http://mybatis.org/dtd/mybatis-3-config.dtd'>\n",
      "\t<HH>\n",
      "\t\t<myroot 属性=\"属性值\">我是文本</myroot>\n",
      "\t</HH>\n",
      "\n"
     ]
    }
   ],
   "source": [
    "# 下面是读取产生的xml文件\n",
    "with open('my.xml', 'r') as fd:\n",
    "    print(fd.read())"
   ]
  },
  {
   "cell_type": "markdown",
   "metadata": {},
   "source": [
    "#### 使用Document直接构造xml DOM对象\n",
    "\n",
    "        Document直接创建的对象，起产生的xml DOM不受documentURI与doctype属性影响。而且不会自动产生documentElement元素。这一点与上面createDocument函数产生的DOM是有差异的。所以建议使用上面的方式产生DOM文档。"
   ]
  },
  {
   "cell_type": "code",
   "execution_count": 17,
   "metadata": {},
   "outputs": [
    {
     "name": "stdout",
     "output_type": "stream",
     "text": [
      "<xml.dom.minidom.DOMImplementation object at 0x10f8b1ba8>\n"
     ]
    }
   ],
   "source": [
    "# coding = utf-8\n",
    "import xml.dom\n",
    "import xml.dom.minidom\n",
    "\n",
    "implementation = xml.dom.minidom.getDOMImplementation()\n",
    "print(implementation)\n",
    "doc_type = implementation.createDocumentType(\n",
    "    qualifiedName='HH',\n",
    "    publicId='-//mybatis.org//DTD Config 3.0//EN',\n",
    "    systemId='http://mybatis.org/dtd/mybatis-3-config.dtd')\n",
    "\n",
    "# writer = implementation.createDOMWriter()   # 没有实现，直接使用文件描述符号。\n",
    "doc = xml.dom.minidom.Document()\n",
    "doc.documentURI='http://xmlns.jcp.org/xml/ns/javaee'\n",
    "doc.doctype=doc_type\n",
    "# 创建根节点\n",
    "root_element = doc.createElement('myroot')\n",
    "attr1 = doc.createAttribute('属性')\n",
    "attr1.value = '属性值'\n",
    "root_element.setAttributeNode(attr1)\n",
    "# doc.documentElement只读，创建文档的时候唯一产生\n",
    "doc.appendChild(root_element)\n",
    "\n",
    "# 产生文本子节点\n",
    "txt = doc.createTextNode('我是文本')\n",
    "root_element.appendChild(txt)\n",
    "\n",
    "with open('your.xml','w') as fd:\n",
    "    doc.writexml(fd,\n",
    "                 indent='\\t',\n",
    "                 addindent='\\t',\n",
    "                 newl='\\n',\n",
    "                 encoding='utf-8')\n"
   ]
  },
  {
   "cell_type": "markdown",
   "metadata": {},
   "source": [
    "#### expatbuilder\n",
    "\n",
    "        提供基本的builder实现：\n",
    "                builtins.object\n",
    "                        ElementInfo\n",
    "                        ExpatBuilder\n",
    "                                FragmentBuilder\n",
    "                                InternalSubsetExtractor\n",
    "                        FilterCrutch\n",
    "                                Rejecter\n",
    "                                Skipper\n",
    "                        FilterVisibilityController\n",
    "                        Namespaces\n",
    "                                ExpatBuilderNS(Namespaces, ExpatBuilder)\n",
    "                                FragmentBuilderNS(Namespaces, FragmentBuilder)\n",
    "                                \n",
    "        核心的是ExpatBuilder类的两个成员函数：\n",
    "                parseFile(self, file)\n",
    "                        返回Document对象\n",
    "                parseString(self, string)\n",
    "                        返回Document对象。"
   ]
  },
  {
   "cell_type": "code",
   "execution_count": 18,
   "metadata": {},
   "outputs": [
    {
     "name": "stdout",
     "output_type": "stream",
     "text": [
      "[<xml.dom.minidom.DocumentType object at 0x10f8d9e10>, <DOM Element: note at 0x10f896af8>]\n",
      "<DOM Element: note at 0x10f896af8>\n",
      "标签名： note\n",
      "文本： \n",
      "    \n",
      "标签名： to\n",
      "文本： Tove\n",
      "文本： \n",
      "    \n",
      "标签名： from\n",
      "文本： Jani\n",
      "文本： \n",
      "    \n",
      "标签名： heading\n",
      "文本： Reminder\n",
      "文本： \n",
      "    \n",
      "标签名： body\n",
      "文本： Don't forget me this weekend!\n",
      "文本： \n",
      "\n"
     ]
    }
   ],
   "source": [
    "import xml.dom\n",
    "import xml.dom.minidom\n",
    "import xml.dom.expatbuilder\n",
    "\n",
    "builder = xml.dom.expatbuilder.ExpatBuilder()\n",
    "dom = builder.parseFile(open('note.xml', 'r'))\n",
    "children = dom.childNodes\n",
    "print(children)\n",
    "print(dom.documentElement)\n",
    "\n",
    "def list_nodes(nd):\n",
    "    if nd.nodeType == xml.dom.Node.ELEMENT_NODE:\n",
    "        print(\"标签名：\", nd.tagName)\n",
    "        # print('节点名：', nd.nodeName)\n",
    "        for attr_ in nd.attributes.items():\n",
    "            print(attr_.name, attr_.value)\n",
    "\n",
    "    if nd.nodeType == xml.dom.Node.TEXT_NODE:\n",
    "        print('文本：', nd.wholeText)\n",
    "\n",
    "    if nd.nodeType == xml.dom.Node.ELEMENT_NODE and nd.hasChildNodes():\n",
    "        for nd_ in nd.childNodes:\n",
    "            list_nodes(nd_)\n",
    "\n",
    "\n",
    "list_nodes(dom.documentElement)\n"
   ]
  },
  {
   "cell_type": "markdown",
   "metadata": {},
   "source": [
    "#### minicompat\n",
    "\n",
    "        提供了NodeList接口的定义。\n",
    "                builtins.list(builtins.object)\n",
    "                        |- NodeList\n",
    "                builtins.tuple(builtins.object)\n",
    "                        |- EmptyNodeList\n",
    "                        \n",
    "       这个接口就是所有子节点的返回类型。本质是list类型。"
   ]
  },
  {
   "cell_type": "code",
   "execution_count": 19,
   "metadata": {},
   "outputs": [
    {
     "name": "stdout",
     "output_type": "stream",
     "text": [
      "<class 'xml.dom.minicompat.NodeList'>\n"
     ]
    }
   ],
   "source": [
    "import xml.dom\n",
    "import xml.dom.minidom\n",
    "import xml.dom.expatbuilder\n",
    "\n",
    "builder = xml.dom.expatbuilder.ExpatBuilder()\n",
    "dom = builder.parseFile(open('note.xml', 'r'))\n",
    "children = dom.childNodes\n",
    "print(type(children))"
   ]
  },
  {
   "cell_type": "markdown",
   "metadata": {},
   "source": [
    "#### xmlbuilder      \n",
    "    \n",
    "        实现了DOM level-3特征。主要如下几个类：\n",
    "            builtins.object\n",
    "                    |- DOMBuilder：负责解析过程与处理。\n",
    "                    |- DOMEntityResolver：负责解析DTD中的实体。\n",
    "                    |- DOMInputSource：负责xml的数据输入。\n",
    "        这三个类相互协作解析xml数据。\n",
    "        \n",
    "        下面是一个小例子，说明它们之间的协作关系。"
   ]
  },
  {
   "cell_type": "code",
   "execution_count": 20,
   "metadata": {},
   "outputs": [
    {
     "name": "stdout",
     "output_type": "stream",
     "text": [
      "<xml.dom.minidom.Document object at 0x10f8f6d68>\n",
      "books\n"
     ]
    }
   ],
   "source": [
    "import xml.dom\n",
    "import xml.dom.xmlbuilder\n",
    "\n",
    "builder = xml.dom.xmlbuilder.DOMBuilder()\n",
    "\n",
    "input_stream = xml.dom.xmlbuilder.DOMInputSource()\n",
    "# input_stream.encoding = 'utf-8'\n",
    "# input_stream.systemId = 'http://mybatis.org/dtd/mybatis-3-config.dtd'\n",
    "# input_stream.publicId = '-//mybatis.org//DTD Config 3.0//EN'\n",
    "input_stream.byteStream = open('codes/books.xml', 'r')\n",
    "\n",
    "result = builder.parse(input_stream)\n",
    "print(result)\n",
    "print(result.documentElement.nodeName)\n"
   ]
  },
  {
   "cell_type": "markdown",
   "metadata": {},
   "source": [
    "#### pulldom     \n",
    "        \n",
    "        提供在SAX基础上的DOM处理模型。\n",
    "                |-  builtins.object\n",
    "                        |-  DOMEventStream\n",
    "                        |-  ErrorHandler\n",
    "                |-  xml.sax.handler.ContentHandler(builtins.object)\n",
    "                        |-  PullDOM\n",
    "                                    |-  SAX2DOM\n",
    "        提供两个函数来封装DOMEventStream的处理细节。\n",
    "                |-parse(stream_or_string, parser=None, bufsize=None)\n",
    "                |\n",
    "                |- parseString(string, parser=None)\n",
    "        \n",
    "        两个函数返回DOMEventStream对象，通过getEvent返回事件命名与Document对象。"
   ]
  },
  {
   "cell_type": "code",
   "execution_count": 21,
   "metadata": {},
   "outputs": [
    {
     "name": "stdout",
     "output_type": "stream",
     "text": [
      "START_DOCUMENT\n",
      "<DOM Element: books at 0x10f8fbd58>\n",
      "START_DOCUMENT\n"
     ]
    }
   ],
   "source": [
    "import xml.dom\n",
    "import xml.dom.pulldom\n",
    "import xml.sax.expatreader\n",
    "\n",
    "# 方式一：\n",
    "result = xml.dom.pulldom.parse('codes/books.xml')\n",
    "e, doc = result.getEvent()\n",
    "print(e)\n",
    "print(doc.documentElement)\n",
    "\n",
    "# 方式二：\n",
    "parser = xml.sax.expatreader.ExpatParser(namespaceHandling=True)\n",
    "fd = open('codes/books.xml','r')\n",
    "ds = xml.dom.pulldom.DOMEventStream(fd, parser=parser, bufsize=1024*10)\n",
    "e_, doc_ = ds.getEvent()\n",
    "print(e_)\n"
   ]
  }
 ],
 "metadata": {
  "kernelspec": {
   "display_name": "Python 3",
   "language": "python",
   "name": "python3"
  },
  "language_info": {
   "codemirror_mode": {
    "name": "ipython",
    "version": 3
   },
   "file_extension": ".py",
   "mimetype": "text/x-python",
   "name": "python",
   "nbconvert_exporter": "python",
   "pygments_lexer": "ipython3",
   "version": "3.6.6"
  },
  "toc": {
   "base_numbering": 1,
   "nav_menu": {},
   "number_sections": true,
   "sideBar": true,
   "skip_h1_title": false,
   "title_cell": "Table of Contents",
   "title_sidebar": "Contents",
   "toc_cell": false,
   "toc_position": {},
   "toc_section_display": true,
   "toc_window_display": true
  }
 },
 "nbformat": 4,
 "nbformat_minor": 2
}
