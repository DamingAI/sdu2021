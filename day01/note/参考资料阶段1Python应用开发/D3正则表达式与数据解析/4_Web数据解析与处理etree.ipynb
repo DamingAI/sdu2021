{
 "cells": [
  {
   "cell_type": "markdown",
   "metadata": {},
   "source": [
    "# etree模块"
   ]
  },
  {
   "cell_type": "markdown",
   "metadata": {},
   "source": [
    "## etree模块帮助"
   ]
  },
  {
   "cell_type": "code",
   "execution_count": 1,
   "metadata": {},
   "outputs": [
    {
     "name": "stdout",
     "output_type": "stream",
     "text": [
      "Help on package xml.etree in xml:\n",
      "\n",
      "NAME\n",
      "    xml.etree\n",
      "\n",
      "DESCRIPTION\n",
      "    # $Id: __init__.py 3375 2008-02-13 08:05:08Z fredrik $\n",
      "    # elementtree package\n",
      "\n",
      "PACKAGE CONTENTS\n",
      "    ElementInclude\n",
      "    ElementPath\n",
      "    ElementTree\n",
      "    cElementTree\n",
      "\n",
      "FILE\n",
      "    /Library/Frameworks/Python.framework/Versions/3.6/lib/python3.6/xml/etree/__init__.py\n",
      "\n",
      "\n"
     ]
    }
   ],
   "source": [
    "import xml.etree\n",
    "help(xml.etree)"
   ]
  },
  {
   "cell_type": "markdown",
   "metadata": {},
   "source": [
    "提供四个模块：    \n",
    "&emsp;&emsp;|- ElementInclude     \n",
    "&emsp;&emsp;|- ElementPath     \n",
    "&emsp;&emsp;|- ElementTree     \n",
    "&emsp;&emsp;|- cElementTree    "
   ]
  },
  {
   "cell_type": "markdown",
   "metadata": {},
   "source": [
    "## ElementInclude模块\n",
    "\n",
    "ElementInclude模块主要提供xml中xinclude展开使用。\n",
    "\n",
    "提供了几个异常类：   \n",
    "FatalIncludeError     \n",
    "&emsp;&emsp;|-builtins.SyntaxError     \n",
    "&emsp;&emsp;|-builtins.Exception     \n",
    "&emsp;&emsp;|-builtins.BaseException         \n",
    "&emsp;&emsp;|-builtins.object         \n",
    "提供了两个函数：         \n",
    "FUNCTIONS         \n",
    "&emsp;&emsp;|-default_loader(href, parse, encoding=None)         \n",
    "&emsp;&emsp;|-include(elem, loader=None)         \n",
    "\n",
    "提供了三个常量：         \n",
    "DATA         \n",
    "&emsp;&emsp;|-XINCLUDE = '{http://www.w3.org/2001/XInclude}'         \n",
    "&emsp;&emsp;|-XINCLUDE_FALLBACK = '{http://www.w3.org/2001/XInclude}fallback'         \n",
    "&emsp;&emsp;|-XINCLUDE_INCLUDE = '{http://www.w3.org/2001/XInclude}include'         "
   ]
  },
  {
   "cell_type": "markdown",
   "metadata": {},
   "source": [
    "### 使用xinclude语法的xml文件"
   ]
  },
  {
   "cell_type": "markdown",
   "metadata": {},
   "source": [
    "1. webpages.xml文件   \n",
    "\n",
    "```xml\n",
    "<?xml version=\"1.0\"?>\n",
    "<webpage>\n",
    "<body>Hello world!</body>\n",
    "    <xi:include href=\"footer.xml\" xmlns:xi=\"http://www.w3.org/2003/XInclude\"/>\n",
    "</webpage>\n",
    "```\n",
    "\n",
    "2. footer.xml文件\n",
    "```xml\n",
    "<?xml version=\"1.0\"?>\n",
    "<footer>Mage Education, 2019</footer>\n",
    "```\n"
   ]
  },
  {
   "cell_type": "markdown",
   "metadata": {},
   "source": [
    "### 使用default_loader加载xml文件\n",
    "\n",
    "函数default_loader加载任何文本文件，不过按照xml加载就返回Element对象，非xml就返回str字符串。\n",
    "    \n",
    "**函数原型如下：**        \n",
    "default_loader(href, parse, encoding=None)     \n",
    "&emsp;&emsp;|- href:用来指定加载的xml文件      \n",
    "&emsp;&emsp;|- parse：指定解析的类型：xml与非xml，xml就返回xml.etree.ElementTree.Element类型，否则字符串。    \n",
    "&emsp;&emsp;|- encoding：对非xml有用，用来指定编码格式，一般就是utf-8了。     "
   ]
  },
  {
   "cell_type": "code",
   "execution_count": 2,
   "metadata": {},
   "outputs": [
    {
     "name": "stdout",
     "output_type": "stream",
     "text": [
      ": <class 'str'>\n",
      "<?xml version=\"1.0\"?>\n",
      "<webpage>\n",
      "<body>Hello world!</body>\n",
      "   <xi:include href=\"codes/footer.xml\" xmlns:xi=\"http://www.w3.org/2003/XInclude\"/>\n",
      "</webpage>\n",
      "------------------\n",
      ": <class 'xml.etree.ElementTree.Element'>\n",
      "<Element 'webpage' at 0x105a32728>\n"
     ]
    }
   ],
   "source": [
    "import xml.etree.ElementInclude\n",
    "\n",
    "# 非xml解析，直接返回字符串\n",
    "result = xml.etree.ElementInclude.default_loader(\n",
    "    href='codes/webpages.xml',\n",
    "    parse='text',\n",
    "    encoding='utf-8')\n",
    "print(':', type(result))\n",
    "print(result)\n",
    "print('------------------')\n",
    "\n",
    "# 作为xml解析返回xml.etree.ElementTree.Element对象。\n",
    "result = xml.etree.ElementInclude.default_loader(\n",
    "    href='codes/webpages.xml',\n",
    "    parse='xml',\n",
    "    encoding='utf-8')\n",
    "\n",
    "print(':', type(result))\n",
    "print(result)"
   ]
  },
  {
   "cell_type": "markdown",
   "metadata": {},
   "source": [
    "### 使用include函数扩展xinclude\n",
    "函数include用来展开xml中的xinclude指令。\n",
    "\n",
    "**函数原型如下：**     \n",
    "include(elem, loader=None)        \n",
    "&emsp;&emsp;|- elem：要扩展xinclude的元素。       \n",
    "&emsp;&emsp;|- loader：只加载扩展xml文件的加载器，默认是default_loader函数加载器。       \n",
    "\n",
    "**注意**：       \n",
    "&emsp;&emsp;经过include函数处理的元素，如果包含include指令，则会展开成xml的文件。  可以仔细观察西面例子的输出。       "
   ]
  },
  {
   "cell_type": "code",
   "execution_count": 3,
   "metadata": {},
   "outputs": [
    {
     "name": "stdout",
     "output_type": "stream",
     "text": [
      "xinclude扩展前输出\n",
      "<class 'xml.etree.ElementTree.Element'> <Element 'body' at 0x105a56e58>\n",
      "<class 'xml.etree.ElementTree.Element'> <Element '{http://www.w3.org/2003/XInclude}include' at 0x105a4dae8>\n",
      "xinclude扩展后输出\n",
      "<class 'xml.etree.ElementTree.Element'> <Element 'body' at 0x105a56e58>\n",
      "<class 'xml.etree.ElementTree.Element'> <Element 'footer' at 0x105a32728>\n"
     ]
    }
   ],
   "source": [
    "import xml.etree.ElementInclude\n",
    "\n",
    "# 由于版本变化，默认的常量值，可以根据已有的文档修改。\n",
    "xml.etree.ElementInclude.XINCLUDE_INCLUDE='{http://www.w3.org/2003/XInclude}include'\n",
    "\n",
    "# 作为xml解析返回xml.etree.ElementTree.Element对象。\n",
    "result = xml.etree.ElementInclude.default_loader(\n",
    "    href='codes/webpages.xml',\n",
    "    parse='xml',\n",
    "    encoding='utf-8')\n",
    "\n",
    "print('xinclude扩展前输出')\n",
    "for ele in result:\n",
    "    print(type(ele),ele)\n",
    "\n",
    "xml.etree.ElementInclude.include(result, loader=None)\n",
    "\n",
    "print('xinclude扩展后输出')\n",
    "for ele in result:\n",
    "    print(type(ele),ele)\n"
   ]
  },
  {
   "cell_type": "markdown",
   "metadata": {},
   "source": [
    "## ElementPath模块\n",
    "\n",
    "提供XPath的支持。        \n",
    "支持XPath的函数如下：        \n",
    "FUNCTIONS        \n",
    "&emsp;&emsp;|- find(elem, path, namespaces=None)        \n",
    "&emsp;&emsp;|- findall(elem, path, namespaces=None)        \n",
    "&emsp;&emsp;|- findtext(elem, path, default=None, namespaces=None)        \n",
    "&emsp;&emsp;|- get_parent_map(context)        \n",
    "&emsp;&emsp;|- iterfind(elem, path, namespaces=None)        \n",
    "&emsp;&emsp;|- prepare_child(next, token)        \n",
    "&emsp;&emsp;|- prepare_descendant(next, token)        \n",
    "&emsp;&emsp;|- prepare_parent(next, token)        \n",
    "&emsp;&emsp;|- prepare_predicate(next, token)        \n",
    "&emsp;&emsp;|- prepare_self(next, token)        \n",
    "&emsp;&emsp;|- prepare_star(next, token)        \n",
    "&emsp;&emsp;|- xpath_tokenizer(pattern, namespaces=None)        \n",
    "\n",
    "其中提供的常量数据有：        \n",
    "&emsp;&emsp;|- ops = {'': <function prepare_child>, '*': <function prepare_star>, '.'...        \n",
    "&emsp;&emsp;|- xpath_tokenizer_re = re.compile('(\\'[^\\']*\\'|\\\\\"[^\\\\\"]*\\\\\"|::|//?|\\\\.....        \n",
    "    \n",
    "    \n",
    "**注意：**    \n",
    "&emsp;&emsp;其中prepare_XXX函数就是ops的操作列表，操作会被iterfind使用，被用来解析path的每个部分，一般不直接使用。下面也不介绍。\n",
    "&emsp;&emsp;实际ElementTree中的path操作方式也是使用这里的find系列函数。"
   ]
  },
  {
   "cell_type": "markdown",
   "metadata": {},
   "source": [
    "下面是xpath支持的语法：\n",
    "\n",
    "xpath语法|说明\n",
    "-|-\n",
    "tag\t|选择所有tag子元素\n",
    "*\t|选择一级子元素，比如*/egg选择孙子元素egg\n",
    ".\t|表示当前元素\n",
    "//\t|所有子元素，比如.//egg选在任何级别节点上的egg元素。\n",
    "..\t|上级父元素\n",
    "[@attrib]\t|具有属性attrib的元素\n",
    "[@attrib='value']\t|属性值等于value的元素\n",
    "[tag]\t|所有具有tag子元素的元素\n",
    "[tag='text']\t|选择子节点是tag，同时内容为text的元素\n",
    "[position]\t|选在给定位置的元素(1表示第一个),  last()表示最后一个，last()-1从最后开始计数."
   ]
  },
  {
   "cell_type": "markdown",
   "metadata": {},
   "source": [
    "### findall函数\n",
    "\n",
    "findall函数返回一个列表，原型实现如下：\n",
    "\n",
    "```python\n",
    "\n",
    "def findall(elem, path, namespaces=None):\n",
    "    return list(iterfind(elem, path, namespaces))\n",
    "\n",
    "```\n",
    "findall本质是调用iterfind函数实现。        \n",
    "&emsp;&emsp;       \n",
    "参数说明：      \n",
    "&emsp;&emsp;elem：被搜索的元素。       \n",
    "&emsp;&emsp;path：查找路径。      \n",
    "&emsp;&emsp;namespaces=None：指定path的命名空间。     "
   ]
  },
  {
   "cell_type": "code",
   "execution_count": 4,
   "metadata": {},
   "outputs": [
    {
     "name": "stdout",
     "output_type": "stream",
     "text": [
      "{'': <function prepare_child at 0x105a53378>, '*': <function prepare_star at 0x105a53400>, '.': <function prepare_self at 0x105a53488>, '..': <function prepare_parent at 0x105a53598>, '//': <function prepare_descendant at 0x105a53510>, '[': <function prepare_predicate at 0x105a53620>}\n",
      "re.compile('(\\'[^\\']*\\'|\\\\\"[^\\\\\"]*\\\\\"|::|//?|\\\\.\\\\.|\\\\(\\\\)|[/.*:\\\\[\\\\]\\\\(\\\\)@=])|((?:\\\\{[^}]+\\\\})?[^/\\\\[\\\\]\\\\(\\\\)@=\\\\s]+)|\\\\s+')\n",
      "findall结果：----------\n",
      "[<Element 'book' at 0x105a4d9f8>, <Element 'book' at 0x105a62048>, <Element 'book' at 0x105a62228>]\n"
     ]
    }
   ],
   "source": [
    "import xml.etree.ElementPath\n",
    "import xml.etree.ElementInclude\n",
    "\n",
    "print(xml.etree.ElementPath.ops)\n",
    "print(xml.etree.ElementPath.xpath_tokenizer_re)\n",
    "\n",
    "root = xml.etree.ElementInclude.default_loader('codes/books.xml', 'xml')\n",
    "eles = xml.etree.ElementPath.findall(root, 'book')\n",
    "print('findall结果：----------')\n",
    "print(eles)\n"
   ]
  },
  {
   "cell_type": "markdown",
   "metadata": {},
   "source": [
    "### find函数\n",
    "\n",
    "find函数返回查找的第一个元素，函数原型实现如下：\n",
    "```python\n",
    "\n",
    "def find(elem, path, namespaces=None):\n",
    "    return next(iterfind(elem, path, namespaces), None)\n",
    "\n",
    "```\n",
    "\n",
    "从find的实现代码中可以看出，实际find每次返回都是iterfind返回的迭代器中的下一个元素，因为iterfind每次返回都是全新的查找的结果，所以find每次返回都是查找列表中的第一个。"
   ]
  },
  {
   "cell_type": "code",
   "execution_count": 5,
   "metadata": {},
   "outputs": [
    {
     "name": "stdout",
     "output_type": "stream",
     "text": [
      "{'category': 'Python'}\n"
     ]
    }
   ],
   "source": [
    "import xml.etree.ElementPath\n",
    "import xml.etree.ElementInclude\n",
    "\n",
    "root = xml.etree.ElementInclude.default_loader('codes/books.xml', 'xml')\n",
    "ele = xml.etree.ElementPath.find(root, 'book')\n",
    "if ele:\n",
    "    print(ele.attrib)\n",
    "\n",
    "\n"
   ]
  },
  {
   "cell_type": "markdown",
   "metadata": {},
   "source": [
    "### findtext函数\n",
    "\n",
    "findtext是查找满足path条件的text内容，函数原型如下：        \n",
    "```python\n",
    "\n",
    "def findtext(elem, path, default=None, namespaces=None):\n",
    "    try:\n",
    "        elem = next(iterfind(elem, path, namespaces))\n",
    "        return elem.text or \"\"\n",
    "    except StopIteration:\n",
    "        return default\n",
    "\n",
    "```\n",
    "注意：返回的不是查找的元素，而是元素的text文本。       \n",
    "&emsp;&emsp;     \n",
    "参数说明：     \n",
    "&emsp;&emsp;default：就是找到的元素没有文本内容的时候，使用该值替代。\n"
   ]
  },
  {
   "cell_type": "code",
   "execution_count": 6,
   "metadata": {},
   "outputs": [
    {
     "name": "stdout",
     "output_type": "stream",
     "text": [
      "Tove\n"
     ]
    }
   ],
   "source": [
    "import xml.etree.ElementPath\n",
    "import xml.etree.ElementInclude\n",
    "\n",
    "\n",
    "root = xml.etree.ElementInclude.default_loader('codes/note.xml', 'xml')\n",
    "ele = xml.etree.ElementPath.findtext(root, 'to', '缺省值')\n",
    "print(ele)\n"
   ]
  },
  {
   "cell_type": "markdown",
   "metadata": {},
   "source": [
    "### iterfind函数\n",
    "\n",
    "iterfind返回一个迭代器类型，实际本质是一个生成器（class 'generator'），该函数的原型实现如下：\n",
    "```python\n",
    "\n",
    "def iterfind(elem, path, namespaces=None):\n",
    "\n",
    "```\n"
   ]
  },
  {
   "cell_type": "code",
   "execution_count": 7,
   "metadata": {},
   "outputs": [
    {
     "name": "stdout",
     "output_type": "stream",
     "text": [
      "<generator object prepare_child.<locals>.select at 0x105a487d8>\n",
      "<class 'generator'>\n",
      "<Element 'book' at 0x105a62b88>\n",
      "<Element 'book' at 0x105a629a8>\n",
      "<Element 'book' at 0x105a72048>\n"
     ]
    }
   ],
   "source": [
    "import xml.etree.ElementPath\n",
    "import xml.etree.ElementInclude\n",
    "\n",
    "root = xml.etree.ElementInclude.default_loader('codes/books.xml', 'xml')\n",
    "eles = xml.etree.ElementPath.iterfind(root, 'book')\n",
    "print(eles)\n",
    "print(type(eles))\n",
    "for e in eles:\n",
    "    print(e)\n"
   ]
  },
  {
   "cell_type": "markdown",
   "metadata": {},
   "source": [
    "## ElementTree模块\n",
    "\n",
    "ElementTree模块提供xml的dom解析实现，该模块的类包含：     \n",
    "&emsp;&emsp;builtins.SyntaxError(builtins.Exception)      \n",
    "&emsp;&emsp;&emsp;&emsp; ParseError        \n",
    "&emsp;&emsp;builtins.object        \n",
    "&emsp;&emsp;&emsp;Element：xml的基本单元：元素        \n",
    "&emsp;&emsp;&emsp;ElementTree：xml元素构成的树状数据结构        \n",
    "&emsp;&emsp;&emsp;QName：Quality Name：根元素        \n",
    "&emsp;&emsp;&emsp;TreeBuilder：xml树构建器        \n",
    "&emsp;&emsp;&emsp;XMLParser：xml解析器        \n",
    "&emsp;&emsp;&emsp;XMLPullParser：xml非阻塞解析器      \n",
    "&emsp;&emsp;     \n",
    "同时提供一组快捷函数：     \n",
    "&emsp;&emsp;Comment(text=None)        \n",
    "&emsp;&emsp;PI = ProcessingInstruction(target, text=None)        \n",
    "&emsp;&emsp;ProcessingInstruction(target, text=None)        \n",
    "&emsp;&emsp;SubElement(...)        \n",
    "&emsp;&emsp;XML(text, parser=None)        \n",
    "&emsp;&emsp;XMLID(text, parser=None)        \n",
    "&emsp;&emsp;dump(elem)        \n",
    "&emsp;&emsp;fromstring = XML(text, parser=None)        \n",
    "&emsp;&emsp;fromstringlist(sequence, parser=None)        \n",
    "&emsp;&emsp;iselement(element)        \n",
    "&emsp;&emsp;iterparse(source, events=None, parser=None)        \n",
    "&emsp;&emsp;parse(source, parser=None)        \n",
    "&emsp;&emsp;register_namespace(prefix, uri)        \n",
    "&emsp;&emsp;tostring(element, encoding=None, method=None, \\*, short_empty_elements=True)        \n",
    "&emsp;&emsp;tostringlist(element, encoding=None, method=None, \\*, short_empty_elements=True)        "
   ]
  },
  {
   "cell_type": "markdown",
   "metadata": {},
   "source": [
    "### TreeBuilder与XMLParser阻塞解析   \n",
    "\n",
    "TreeBuilder负责构建Element对象树，XMLParser负责解析xml内容。\n",
    "\n",
    "TreeBuilder提供基本的树的构建功能，我们只要返回root Element元素即可得到Element树。\n"
   ]
  },
  {
   "cell_type": "code",
   "execution_count": 8,
   "metadata": {},
   "outputs": [
    {
     "name": "stdout",
     "output_type": "stream",
     "text": [
      "book : {'category': 'Python'}\n",
      "\t|- <Element 'title' at 0x105a62e58> : title : 网络爬虫开发\n",
      "\t|- <Element 'author' at 0x105a623b8> : author : 蜘蛛精\n",
      "\t|- <Element 'year' at 0x105a620e8> : year : 2018\n",
      "\t|- <Element 'price' at 0x105a621d8> : price : 66.50\n",
      "\t|- <Element 'publisher' at 0x105a62048> : publisher : 清华大学出版社\n",
      "book : {'category': '系统运维'}\n",
      "\t|- <Element 'title' at 0x105a62a98> : title : K8S运维指南r\n",
      "\t|- <Element 'author' at 0x105a62728> : author : 马哥教育\n",
      "\t|- <Element 'year' at 0x105a624a8> : year : 2018\n",
      "\t|- <Element 'price' at 0x105a62408> : price : 99.00\n",
      "\t|- <Element 'publisher' at 0x105a62458> : publisher : 机械版社\n",
      "book : {'category': '区块链'}\n",
      "\t|- <Element 'title' at 0x105a625e8> : title : 以太坊智能合约开发\n",
      "\t|- <Element 'author' at 0x105a624f8> : author : 钱多多\n",
      "\t|- <Element 'year' at 0x105a62598> : year : 2019\n",
      "\t|- <Element 'price' at 0x105a62548> : price : 88.95\n",
      "\t|- <Element 'publisher' at 0x105a723b8> : publisher : 邮电出版社\n"
     ]
    }
   ],
   "source": [
    "# coding = utf-8\n",
    "from xml.etree.ElementTree import TreeBuilder\n",
    "from xml.etree.ElementTree import XMLParser\n",
    "\n",
    "\n",
    "class MyBuilder(TreeBuilder):\n",
    "    is_root = True\n",
    "    root_element = None\n",
    "\n",
    "    def start(self, tag, attrs):\n",
    "        elem = super().start(tag, attrs)\n",
    "        if self.is_root:\n",
    "            self.root_element = elem\n",
    "            self.is_root = False\n",
    "        return elem\n",
    "\n",
    "\n",
    "builder = MyBuilder()\n",
    "parser = XMLParser(target=builder)\n",
    "fd = open('codes/books.xml', 'r')\n",
    "xml_data = fd.read()\n",
    "parser.feed(xml_data)\n",
    "\n",
    "root = builder.root_element\n",
    "for item in root.getchildren():\n",
    "    print(item.tag, ':', item.attrib)\n",
    "    for it in item.getchildren():\n",
    "        print('\\t|-', it, ':', it.tag,':', it.text)\n"
   ]
  },
  {
   "cell_type": "markdown",
   "metadata": {},
   "source": [
    "### XMLPullParser 非阻塞解析\n",
    "\n",
    "XMLPullParser与XMLParser的区别是非阻塞，阻塞的特点在指定回调事件，非阻塞的特点是产生事件列表。\n",
    "XMLPullParser的read_events(self)返回的是一个数据生成器，也是迭代器。\n",
    "\n",
    "其中第一个节点就是root节点，可以直接遍历。"
   ]
  },
  {
   "cell_type": "code",
   "execution_count": 9,
   "metadata": {},
   "outputs": [
    {
     "name": "stdout",
     "output_type": "stream",
     "text": [
      " books : \n",
      "\t book : \n",
      "\t\t title : 网络爬虫开发\n",
      "\t\t author : 蜘蛛精\n",
      "\t\t year : 2018\n",
      "\t\t price : 66.50\n",
      "\t\t publisher : 清华大学出版社\n",
      "\t book : \n",
      "\t\t title : K8S运维指南r\n",
      "\t\t author : 马哥教育\n",
      "\t\t year : 2018\n",
      "\t\t price : 99.00\n",
      "\t\t publisher : 机械版社\n",
      "\t book : \n",
      "\t\t title : 以太坊智能合约开发\n",
      "\t\t author : 钱多多\n",
      "\t\t year : 2019\n",
      "\t\t price : 88.95\n",
      "\t\t publisher : 邮电出版社\n"
     ]
    }
   ],
   "source": [
    "# coding = utf-8\n",
    "from xml.etree.ElementTree import XMLPullParser\n",
    "\n",
    "events = (\"start\", \"end\", \"start-ns\", \"end-ns\")\n",
    "parser = XMLPullParser(events=events)\n",
    "fd = open('codes/books.xml', 'r')\n",
    "xml_data = fd.read()\n",
    "parser.feed(xml_data)\n",
    "# 转换成列表操作\n",
    "re_events = list(parser.read_events())\n",
    "# 构造xml的root\n",
    "root_element = re_events[0][1]\n",
    "\n",
    "\n",
    "# 从根节点偏离element树\n",
    "def list_tree(element, depth):\n",
    "    print('\\t' * depth, element.tag, \":\", element.text if element.text.strip() != '' else '')\n",
    "    children_elements = element.getchildren()\n",
    "    if children_elements:\n",
    "        for e_ in children_elements:\n",
    "            list_tree(e_, depth+1)\n",
    "\n",
    "\n",
    "list_tree(root_element, 0)\n"
   ]
  },
  {
   "cell_type": "markdown",
   "metadata": {},
   "source": [
    "### Element对象与ElementTree对象\n",
    "\n",
    "&emsp;&emsp;ElementTree实际是Element的封装，从上面的XMLParser与XMLPullParser可以看出，已经实现基本的Element树结构。      \n",
    "&emsp;&emsp;ElementTree与XMLParser、XMLPullParser返回的Element都是Element树结构。但ElementTree提供更加快捷的XMLParser、XMLPullParser的解析功能与xml加载功能，同时提供xml保存功能。       \n",
    "\n",
    "Element对象就是每个标签的封装，提供如下基本数据封装。     \n",
    "&emsp;&emsp;|  -attrib        \n",
    "&emsp;&emsp;|&emsp;&emsp;类型是字典，用来封装元素的所有属性。     \n",
    "&emsp;&emsp;|      \n",
    "&emsp;&emsp;|  -tag      \n",
    "&emsp;&emsp;|&emsp;&emsp;类型字符串，用来封装元素的标签名。    \n",
    "&emsp;&emsp;|       \n",
    "&emsp;&emsp;|  -tail      \n",
    "&emsp;&emsp;|&emsp;&emsp; 类型字符串，标签结束后的文本，也可以是None。      \n",
    "&emsp;&emsp;|        \n",
    "&emsp;&emsp;|  -text       \n",
    "&emsp;&emsp;|&emsp;类型字符串，开始标签后的文本，也可以是None。     \n",
    "\n",
    "\n",
    "构造器：     \n",
    "&emsp;&emsp;|&emsp;\\_\\_init__(self, /, \\*args, \\*\\*kwargs)\n",
    "\n",
    "\n",
    "\n",
    "同时提供了一组对封装数据的操作函数：\n",
    "&emsp;&emsp;|           \n",
    "&emsp;&emsp;|  -makeelement(self, tag, attrib, /)         \n",
    "&emsp;&emsp;|           \n",
    "&emsp;&emsp;|  -append(self, subelement, /)         \n",
    "&emsp;&emsp;|           \n",
    "&emsp;&emsp;|  -insert(self, index, subelement, /)         \n",
    "&emsp;&emsp;|           \n",
    "&emsp;&emsp;|  -remove(self, subelement, /)         \n",
    "&emsp;&emsp;|           \n",
    "&emsp;&emsp;|  -set(self, key, value, /)         \n",
    "&emsp;&emsp;|           \n",
    "&emsp;&emsp;|  -clear(self, /)         \n",
    "&emsp;&emsp;|           \n",
    "&emsp;&emsp;|  -extend(self, elements, /)         \n",
    "&emsp;&emsp;|           \n",
    "&emsp;&emsp;|  -find(self, /, path, namespaces=None)         \n",
    "&emsp;&emsp;|           \n",
    "&emsp;&emsp;|  -findall(self, /, path, namespaces=None)         \n",
    "&emsp;&emsp;|           \n",
    "&emsp;&emsp;|  -findtext(self, /, path, default=None, namespaces=None)         \n",
    "&emsp;&emsp;|           \n",
    "&emsp;&emsp;|  -get(self, /, key, default=None)         \n",
    "&emsp;&emsp;|           \n",
    "&emsp;&emsp;|  -getchildren(self, /)         \n",
    "&emsp;&emsp;|           \n",
    "&emsp;&emsp;|  -getiterator(...)         \n",
    "&emsp;&emsp;|&emsp;&emsp;iter($self, /, tag=None)         \n",
    "&emsp;&emsp;|&emsp;&emsp;--         \n",
    "&emsp;&emsp;|           \n",
    "&emsp;&emsp;|  -items(self, /)         \n",
    "&emsp;&emsp;|           \n",
    "&emsp;&emsp;|  -iter(self, /, tag=None)         \n",
    "&emsp;&emsp;|         \n",
    "&emsp;&emsp;|  -iterfind(self, /, path, namespaces=None)         \n",
    "&emsp;&emsp;|           \n",
    "&emsp;&emsp;|  -itertext(self, /)\n",
    "&emsp;&emsp;|           \n",
    "&emsp;&emsp;|  -keys(self, /)         \n"
   ]
  },
  {
   "cell_type": "markdown",
   "metadata": {},
   "source": [
    "&emsp;&emsp;|  - \\_\\_init\\_\\_(self, element=None, file=None)          \n",
    "&emsp;&emsp;|  - find(self, path, namespaces=None)         \n",
    "&emsp;&emsp;|  - findall(self, path, namespaces=None)         \n",
    "&emsp;&emsp;|  - findtext(self, path, default=None, namespaces=None)         \n",
    "&emsp;&emsp;|  - getiterator(self, tag=None)         \n",
    "&emsp;&emsp;|  - getroot(self)         \n",
    "&emsp;&emsp;|  - iter(self, tag=None)         \n",
    "&emsp;&emsp;|  - iterfind(self, path, namespaces=None)         \n",
    "&emsp;&emsp;|  - parse(self, source, parser=None)         \n",
    "&emsp;&emsp;|  - write(self, file_or_filename, encoding=None, xml_declaration=None, default_namespace=None, method=None, \\*, short_empty_elements=True)         \n",
    "&emsp;&emsp;|  - write_c14n(self, file)            \n",
    "&emsp;&emsp;        \n",
    "**注意：**         \n",
    "&emsp;&emsp;c14n说明：W3C推出了C14n标准用于XML数据的规范化。         \n",
    "&emsp;&emsp;目前还没有c14n真正的实现。         "
   ]
  },
  {
   "cell_type": "code",
   "execution_count": 10,
   "metadata": {},
   "outputs": [
    {
     "name": "stdout",
     "output_type": "stream",
     "text": [
      " books : \n",
      "\t book : \n",
      "\t\t title : 网络爬虫开发\n",
      "\t\t author : 蜘蛛精\n",
      "\t\t year : 2018\n",
      "\t\t price : 66.50\n",
      "\t\t publisher : 清华大学出版社\n",
      "\t book : \n",
      "\t\t title : K8S运维指南r\n",
      "\t\t author : 马哥教育\n",
      "\t\t year : 2018\n",
      "\t\t price : 99.00\n",
      "\t\t publisher : 机械版社\n",
      "\t book : \n",
      "\t\t title : 以太坊智能合约开发\n",
      "\t\t author : 钱多多\n",
      "\t\t year : 2019\n",
      "\t\t price : 88.95\n",
      "\t\t publisher : 邮电出版社\n"
     ]
    }
   ],
   "source": [
    "# coding = utf-8\n",
    "from xml.etree.ElementTree import ElementTree\n",
    "from xml.etree.ElementTree import Element\n",
    "\n",
    "tree = ElementTree()\n",
    "tree.parse('codes/books.xml')\n",
    "\n",
    "root_element = tree.getroot()\n",
    "\n",
    "\n",
    "# 从根节点偏离element树\n",
    "def list_tree(element, depth):\n",
    "    print('\\t' * depth, element.tag, \":\", element.text if element.text.strip() != '' else '')\n",
    "    children_elements = element.getchildren()\n",
    "    if children_elements:\n",
    "        for e_ in children_elements:\n",
    "            list_tree(e_, depth+1)\n",
    "\n",
    "\n",
    "list_tree(root_element, 0)\n"
   ]
  },
  {
   "cell_type": "markdown",
   "metadata": {},
   "source": [
    "ElementTree还可以通过构造器封装root元素，提供更加方便的操作。"
   ]
  },
  {
   "cell_type": "markdown",
   "metadata": {},
   "source": [
    "## cElementTree模块\n",
    "\n",
    "cElementTree模块是xml.etree.ElementTree模块的别名，目前已经不推荐使用。"
   ]
  }
 ],
 "metadata": {
  "kernelspec": {
   "display_name": "Python 3",
   "language": "python",
   "name": "python3"
  },
  "language_info": {
   "codemirror_mode": {
    "name": "ipython",
    "version": 3
   },
   "file_extension": ".py",
   "mimetype": "text/x-python",
   "name": "python",
   "nbconvert_exporter": "python",
   "pygments_lexer": "ipython3",
   "version": "3.6.6"
  },
  "toc": {
   "base_numbering": 1,
   "nav_menu": {},
   "number_sections": true,
   "sideBar": true,
   "skip_h1_title": false,
   "title_cell": "Table of Contents",
   "title_sidebar": "Contents",
   "toc_cell": false,
   "toc_position": {},
   "toc_section_display": true,
   "toc_window_display": true
  }
 },
 "nbformat": 4,
 "nbformat_minor": 2
}
