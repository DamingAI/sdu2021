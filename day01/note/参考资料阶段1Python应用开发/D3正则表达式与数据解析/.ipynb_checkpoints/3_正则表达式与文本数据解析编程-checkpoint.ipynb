{
 "cells": [
  {
   "cell_type": "markdown",
   "metadata": {},
   "source": [
    "# 教学要求与目标"
   ]
  },
  {
   "cell_type": "markdown",
   "metadata": {},
   "source": [
    "## 正则表达式例子"
   ]
  },
  {
   "cell_type": "code",
   "execution_count": 1,
   "metadata": {},
   "outputs": [
    {
     "name": "stdout",
     "output_type": "stream",
     "text": [
      "['#', '#']\n",
      "<_sre.SRE_Match object; span=(0, 1), match='#'>\n",
      "<_sre.SRE_Match object; span=(0, 1), match='#'>\n"
     ]
    }
   ],
   "source": [
    "import re\n",
    "# 打开文件\n",
    "f = open('trainmodel.py', 'r')\n",
    "# 读取数据\n",
    "content = f.read()\n",
    "# print(content)\n",
    "# 正则表达式\n",
    "regex = '#'\n",
    "# 匹配方式\n",
    "result = re.findall(regex, content)\n",
    "print(result)\n",
    "result = re.match(regex, content)\n",
    "print(result)\n",
    "result = re.search(regex, content)\n",
    "print(result)"
   ]
  },
  {
   "cell_type": "markdown",
   "metadata": {},
   "source": [
    "## 学习内容与目标"
   ]
  },
  {
   "cell_type": "markdown",
   "metadata": {},
   "source": [
    "    1. 技术：掌握正则表达式语法\n",
    "        \n",
    "        【技能】：能根据需要使用正则表达式描述匹配模式\n",
    "        \n",
    "    2. 技术：掌握re模块的使用\n",
    "\n",
    "        【技能】：能使用Python熟练处理各种正则表达式\n",
    "                            |-提取匹配内容：findall\n",
    "                            |-搜索匹配内容：search\n",
    "                            |-使用匹配切割：split\n",
    "                            |-使用匹配替换：sub\n",
    "                            |-判定字符串匹配：match\n",
    "\n",
    "    3. 技术：掌握正则表达式几种常见的应用模式\n",
    "        \n",
    "        【技能】：能使用正则表达式实现爬虫数据解析与处理\n",
    "                       能使用正则表达式实现Web中数据校验\n"
   ]
  },
  {
   "cell_type": "markdown",
   "metadata": {},
   "source": [
    "# 正则表达式语法"
   ]
  },
  {
   "cell_type": "markdown",
   "metadata": {},
   "source": [
    "## 正则表达式基本语法；"
   ]
  },
  {
   "cell_type": "markdown",
   "metadata": {},
   "source": [
    "### 正则表达式语法构成"
   ]
  },
  {
   "cell_type": "markdown",
   "metadata": {},
   "source": [
    "    正则表达式的语法由四个功能语法构成：\n",
    "\n",
    "        1.1. 匹配内容语法\n",
    "                匹配内容，每个语法用来匹配一个字符。\n",
    "                \n",
    "        1.2. 匹配次数语法\n",
    "                用来指定匹配字符的次数。\n",
    "                \n",
    "        1.3. 匹配分组语法\n",
    "                用来对模式分组，并可以引用分组。\n",
    "                \n",
    "        1.4. 匹配扩展语法\n",
    "                用来扩展正则表达式的功能，比如用来提供判定功能等。"
   ]
  },
  {
   "cell_type": "markdown",
   "metadata": {},
   "source": [
    "### 正则表达式语法例子"
   ]
  },
  {
   "cell_type": "markdown",
   "metadata": {},
   "source": [
    "1. 匹配次数 \n",
    "        \n",
    "        对可以用来简化重复的模式描述。"
   ]
  },
  {
   "cell_type": "code",
   "execution_count": 2,
   "metadata": {},
   "outputs": [
    {
     "name": "stdout",
     "output_type": "stream",
     "text": [
      "['==']\n",
      "['100']\n"
     ]
    }
   ],
   "source": [
    "import re\n",
    "# 打开文件\n",
    "f = open('trainmodel.py', 'r')\n",
    "# 读取数据\n",
    "content = f.read()\n",
    "# print(content)\n",
    "# 正则表达式\n",
    "regex = '={2}'    # 匹配==等号\n",
    "# 匹配方式\n",
    "result = re.findall(regex, content)\n",
    "print(result)\n",
    "\n",
    "regex = '\\d{3}'    # 匹配三位数\n",
    "# 匹配方式\n",
    "result = re.findall(regex, content)\n",
    "print(result)"
   ]
  },
  {
   "cell_type": "markdown",
   "metadata": {},
   "source": [
    "2. 匹配分组"
   ]
  },
  {
   "cell_type": "code",
   "execution_count": 3,
   "metadata": {
    "scrolled": true
   },
   "outputs": [
    {
     "name": "stdout",
     "output_type": "stream",
     "text": [
      "['==']\n",
      "['=']\n",
      "[('=', '=')]\n",
      "['=']\n"
     ]
    }
   ],
   "source": [
    "import re\n",
    "# 打开文件\n",
    "f = open('trainmodel.py', 'r')\n",
    "# 读取数据\n",
    "content = f.read()\n",
    "# 正则表达式\n",
    "regex = '=='    # 返回 =1\n",
    "# 匹配方式\n",
    "result = re.findall(regex, content)\n",
    "print(result)\n",
    "regex = '(=)='     # 返回=\n",
    "result = re.findall(regex, content)\n",
    "print(result)\n",
    "regex = '(=)(=)'   # 分别返回=与1\n",
    "result = re.findall(regex, content)\n",
    "print(result)\n",
    "regex = r'(=)\\1'   # 找到==，并返回第一个 , \\1就是使用第一个分组\n",
    "result = re.findall(regex, content)\n",
    "print(result)"
   ]
  },
  {
   "cell_type": "code",
   "execution_count": null,
   "metadata": {},
   "outputs": [],
   "source": []
  },
  {
   "cell_type": "markdown",
   "metadata": {},
   "source": [
    "3. 匹配扩展"
   ]
  },
  {
   "cell_type": "code",
   "execution_count": 4,
   "metadata": {},
   "outputs": [
    {
     "name": "stdout",
     "output_type": "stream",
     "text": [
      "['=']\n"
     ]
    }
   ],
   "source": [
    "import re\n",
    "# 打开文件\n",
    "f = open('trainmodel.py', 'r')\n",
    "# 读取数据\n",
    "content = f.read()\n",
    "# 正则表达式\n",
    "regex = '(=)(?==)'    # =后面有=就匹配\n",
    "# 匹配方式\n",
    "result = re.findall(regex, content)\n",
    "print(result)\n"
   ]
  },
  {
   "cell_type": "markdown",
   "metadata": {},
   "source": [
    "## 内容匹配\n"
   ]
  },
  {
   "cell_type": "markdown",
   "metadata": {},
   "source": [
    "### 匹配字面字符\n",
    "\n",
    "    直接使用需要匹配的字符本身做为匹配模式，比如：匹配import，就使用正则表达式为'import'"
   ]
  },
  {
   "cell_type": "code",
   "execution_count": 5,
   "metadata": {},
   "outputs": [
    {
     "name": "stdout",
     "output_type": "stream",
     "text": [
      "['import', 'import', 'import', 'import', 'import', 'import', 'import']\n"
     ]
    }
   ],
   "source": [
    "import re\n",
    "# 打开文件\n",
    "f = open('trainmodel.py', 'r')\n",
    "# 读取数据\n",
    "content = f.read()\n",
    "# 正则表达式\n",
    "regex = 'import'    \n",
    "# 匹配方式\n",
    "result = re.findall(regex, content)\n",
    "print(result)"
   ]
  },
  {
   "cell_type": "markdown",
   "metadata": {},
   "source": [
    "注意： 空格也是一个字符，座椅正则表达式中，不要使用空格来排版。"
   ]
  },
  {
   "cell_type": "code",
   "execution_count": 6,
   "metadata": {},
   "outputs": [
    {
     "name": "stdout",
     "output_type": "stream",
     "text": [
      "[' ']\n"
     ]
    }
   ],
   "source": [
    "import re\n",
    "regex = r' '     \n",
    "# 匹配方式\n",
    "result = re.findall(regex, 'hello word')\n",
    "print(result)"
   ]
  },
  {
   "cell_type": "markdown",
   "metadata": {},
   "source": [
    "### 匹配任意字符\n",
    "        使用'.'表示匹配任意字符，可以重复使用，比如：匹配5个任意字符，使用正则表达式'.....'"
   ]
  },
  {
   "cell_type": "code",
   "execution_count": 7,
   "metadata": {},
   "outputs": [
    {
     "name": "stdout",
     "output_type": "stream",
     "text": [
      "['# cod', 'ing=u', 'impor', 't ten', 'sorfl', 'ow as', 'impor', 't num', 'py as', 'from ', 'sklea', 'rn.mo', 'del_s', 'elect', 'ion i', 'mport', ' trai', 'n_tes', 't_spl', 'from ', 'sklea', 'rn.me', 'trics', ' impo', 'rt co', 'nfusi', 'on_ma', 'from ', 'sklea', 'rn.me', 'trics', ' impo', 'rt cl', 'assif', 'icati', 'on_re', 'data,', ' targ', 'et, t', 'arget', '_dict', ' = pp', '.read', '_impo', 'rtima', 'ge(im', 'port)', 'print', '(\"样本个', '数：(%d', ')\" % ', 'len(t', 'arget', 'label', 's = n', 'p.zer', 'os((l', 'en(ta', 'rget)', ', len', '(targ', 'et_di', 'ct.it', 'ems()', ')), d', 'type=', 'np.in', 'for i', ' in r', 'ange(', 'len(t', 'arget', '    l', 'b = t', 'arget', '    l', 'abels', '[i][l', 'b] = ', 'print', '(\"数据加', '载完毕！\"', 'batch', ' = le', 'n(X_t', 'rain)', ' // b', 'atch_', 'for t', ' in r', 'ange(', 'TIMES', '    l', 'oss_r', 'esult', ' = 0.', '    f', 'or id', 'x in ', 'range', '(batc', '     ', '   _,', ' loss', '_resu', 'lt = ', 'sessi', 'on.ru', 'n([tr', 'ainer', ', los', '     ', '     ', '     ', '     ', '     ', '     ', '     ', '  fee', 'd_dic', '     ', '     ', '     ', '     ', '     ', '     ', '     ', '     ', ' x: X', '_trai', 'n[idx', ' * ba', 'tch_s', 'ize:(', 'idx+1', ') * b', 'atch_', 'size]', '     ', '     ', '     ', '     ', '     ', '     ', '     ', '     ', ' y: y', '_trai', 'n[idx', ' * ba', 'tch_s', 'ize:(', 'idx+1', ') * b', 'atch_', 'size]', '    #', ' 没一轮训', '练就评估效', '    i', 'f t %', ' 5 ==', '     ', '   co', 'rrect', '_rate', ' = se', 'ssion', '.run(', 'accur', 'acy, ', 'feed_', 'dict=', '{x: X', '_test', ', y: ', 'y_tes', '     ', '   pr', \"int('\", '正确率: ', '%6.2f', '%%，损失', \"度：%f'\", ' % (c', 'orrec', 't_rat', 'e * 1', '00.0,', ' loss', '_resu']\n"
     ]
    }
   ],
   "source": [
    "import re\n",
    "# 打开文件\n",
    "f = open('trainmodel.py', 'r')\n",
    "# 读取数据\n",
    "content = f.read()\n",
    "# 正则表达式\n",
    "regex = '.....'     # 按照行匹配，行末尾不够5个字符，就不匹配\n",
    "# 匹配方式\n",
    "result = re.findall(regex, content)\n",
    "print(result)"
   ]
  },
  {
   "cell_type": "markdown",
   "metadata": {},
   "source": [
    "### 匹配与不匹配数字\n",
    "        使用'\\d'来匹配任意数字字符。\n",
    "        使用'\\D'来匹配数字以外的其他字符"
   ]
  },
  {
   "cell_type": "code",
   "execution_count": 8,
   "metadata": {},
   "outputs": [
    {
     "name": "stdout",
     "output_type": "stream",
     "text": [
      "['8', '1', '0', '0', '1', '1', '5', '0', '6', '2', '1', '0', '0', '0']\n",
      "['#', ' ', 'c', 'o', 'd', 'i', 'n', 'g', '=', 'u', 't', 'f', '-', '\\n', 'i', 'm', 'p', 'o', 'r', 't', ' ', 't', 'e', 'n', 's', 'o', 'r', 'f', 'l', 'o', 'w', ' ', 'a', 's', ' ', 't', 'f', '\\n', 'i', 'm', 'p', 'o', 'r', 't', ' ', 'n', 'u', 'm', 'p', 'y', ' ', 'a', 's', ' ', 'n', 'p', '\\n', 'f', 'r', 'o', 'm', ' ', 's', 'k', 'l', 'e', 'a', 'r', 'n', '.', 'm', 'o', 'd', 'e', 'l', '_', 's', 'e', 'l', 'e', 'c', 't', 'i', 'o', 'n', ' ', 'i', 'm', 'p', 'o', 'r', 't', ' ', 't', 'r', 'a', 'i', 'n', '_', 't', 'e', 's', 't', '_', 's', 'p', 'l', 'i', 't', '\\n', 'f', 'r', 'o', 'm', ' ', 's', 'k', 'l', 'e', 'a', 'r', 'n', '.', 'm', 'e', 't', 'r', 'i', 'c', 's', ' ', 'i', 'm', 'p', 'o', 'r', 't', ' ', 'c', 'o', 'n', 'f', 'u', 's', 'i', 'o', 'n', '_', 'm', 'a', 't', 'r', 'i', 'x', '\\n', 'f', 'r', 'o', 'm', ' ', 's', 'k', 'l', 'e', 'a', 'r', 'n', '.', 'm', 'e', 't', 'r', 'i', 'c', 's', ' ', 'i', 'm', 'p', 'o', 'r', 't', ' ', 'c', 'l', 'a', 's', 's', 'i', 'f', 'i', 'c', 'a', 't', 'i', 'o', 'n', '_', 'r', 'e', 'p', 'o', 'r', 't', '\\n', '\\n', '\\n', 'd', 'a', 't', 'a', ',', ' ', 't', 'a', 'r', 'g', 'e', 't', ',', ' ', 't', 'a', 'r', 'g', 'e', 't', '_', 'd', 'i', 'c', 't', ' ', '=', ' ', 'p', 'p', '.', 'r', 'e', 'a', 'd', '_', 'i', 'm', 'p', 'o', 'r', 't', 'i', 'm', 'a', 'g', 'e', '(', 'i', 'm', 'p', 'o', 'r', 't', ')', '\\n', 'p', 'r', 'i', 'n', 't', '(', '\"', '样', '本', '个', '数', '：', '(', '%', 'd', ')', '\"', ' ', '%', ' ', 'l', 'e', 'n', '(', 't', 'a', 'r', 'g', 'e', 't', ')', ')', '\\n', 'l', 'a', 'b', 'e', 'l', 's', ' ', '=', ' ', 'n', 'p', '.', 'z', 'e', 'r', 'o', 's', '(', '(', 'l', 'e', 'n', '(', 't', 'a', 'r', 'g', 'e', 't', ')', ',', ' ', 'l', 'e', 'n', '(', 't', 'a', 'r', 'g', 'e', 't', '_', 'd', 'i', 'c', 't', '.', 'i', 't', 'e', 'm', 's', '(', ')', ')', ')', ',', ' ', 'd', 't', 'y', 'p', 'e', '=', 'n', 'p', '.', 'i', 'n', 't', ')', '\\n', 'f', 'o', 'r', ' ', 'i', ' ', 'i', 'n', ' ', 'r', 'a', 'n', 'g', 'e', '(', 'l', 'e', 'n', '(', 't', 'a', 'r', 'g', 'e', 't', ')', ')', ':', '\\n', ' ', ' ', ' ', ' ', 'l', 'b', ' ', '=', ' ', 't', 'a', 'r', 'g', 'e', 't', '[', 'i', ']', '\\n', ' ', ' ', ' ', ' ', 'l', 'a', 'b', 'e', 'l', 's', '[', 'i', ']', '[', 'l', 'b', ']', ' ', '=', ' ', '\\n', 'p', 'r', 'i', 'n', 't', '(', '\"', '数', '据', '加', '载', '完', '毕', '！', '\"', ')', '\\n', '\\n', 'b', 'a', 't', 'c', 'h', ' ', '=', ' ', 'l', 'e', 'n', '(', 'X', '_', 't', 'r', 'a', 'i', 'n', ')', ' ', '/', '/', ' ', 'b', 'a', 't', 'c', 'h', '_', 's', 'i', 'z', 'e', '\\n', 'f', 'o', 'r', ' ', 't', ' ', 'i', 'n', ' ', 'r', 'a', 'n', 'g', 'e', '(', 'T', 'I', 'M', 'E', 'S', ')', ':', '\\n', ' ', ' ', ' ', ' ', 'l', 'o', 's', 's', '_', 'r', 'e', 's', 'u', 'l', 't', ' ', '=', ' ', '.', '\\n', ' ', ' ', ' ', ' ', 'f', 'o', 'r', ' ', 'i', 'd', 'x', ' ', 'i', 'n', ' ', 'r', 'a', 'n', 'g', 'e', '(', 'b', 'a', 't', 'c', 'h', ')', ':', '\\n', ' ', ' ', ' ', ' ', ' ', ' ', ' ', ' ', '_', ',', ' ', 'l', 'o', 's', 's', '_', 'r', 'e', 's', 'u', 'l', 't', ' ', '=', ' ', 's', 'e', 's', 's', 'i', 'o', 'n', '.', 'r', 'u', 'n', '(', '[', 't', 'r', 'a', 'i', 'n', 'e', 'r', ',', ' ', 'l', 'o', 's', 's', ']', ',', '\\n', ' ', ' ', ' ', ' ', ' ', ' ', ' ', ' ', ' ', ' ', ' ', ' ', ' ', ' ', ' ', ' ', ' ', ' ', ' ', ' ', ' ', ' ', ' ', ' ', ' ', ' ', ' ', ' ', ' ', ' ', ' ', ' ', ' ', ' ', ' ', ' ', ' ', 'f', 'e', 'e', 'd', '_', 'd', 'i', 'c', 't', '=', '{', '\\n', ' ', ' ', ' ', ' ', ' ', ' ', ' ', ' ', ' ', ' ', ' ', ' ', ' ', ' ', ' ', ' ', ' ', ' ', ' ', ' ', ' ', ' ', ' ', ' ', ' ', ' ', ' ', ' ', ' ', ' ', ' ', ' ', ' ', ' ', ' ', ' ', ' ', ' ', ' ', ' ', ' ', 'x', ':', ' ', 'X', '_', 't', 'r', 'a', 'i', 'n', '[', 'i', 'd', 'x', ' ', '*', ' ', 'b', 'a', 't', 'c', 'h', '_', 's', 'i', 'z', 'e', ':', '(', 'i', 'd', 'x', '+', ')', ' ', '*', ' ', 'b', 'a', 't', 'c', 'h', '_', 's', 'i', 'z', 'e', ']', ',', '\\n', ' ', ' ', ' ', ' ', ' ', ' ', ' ', ' ', ' ', ' ', ' ', ' ', ' ', ' ', ' ', ' ', ' ', ' ', ' ', ' ', ' ', ' ', ' ', ' ', ' ', ' ', ' ', ' ', ' ', ' ', ' ', ' ', ' ', ' ', ' ', ' ', ' ', ' ', ' ', ' ', ' ', 'y', ':', ' ', 'y', '_', 't', 'r', 'a', 'i', 'n', '[', 'i', 'd', 'x', ' ', '*', ' ', 'b', 'a', 't', 'c', 'h', '_', 's', 'i', 'z', 'e', ':', '(', 'i', 'd', 'x', '+', ')', ' ', '*', ' ', 'b', 'a', 't', 'c', 'h', '_', 's', 'i', 'z', 'e', ']', '}', ')', '\\n', ' ', ' ', ' ', ' ', '#', ' ', '没', '一', '轮', '训', '练', '就', '评', '估', '效', '果', '\\n', ' ', ' ', ' ', ' ', 'i', 'f', ' ', 't', ' ', '%', ' ', ' ', '=', '=', ' ', ':', '\\n', ' ', ' ', ' ', ' ', ' ', ' ', ' ', ' ', 'c', 'o', 'r', 'r', 'e', 'c', 't', '_', 'r', 'a', 't', 'e', ' ', '=', ' ', 's', 'e', 's', 's', 'i', 'o', 'n', '.', 'r', 'u', 'n', '(', 'a', 'c', 'c', 'u', 'r', 'a', 'c', 'y', ',', ' ', 'f', 'e', 'e', 'd', '_', 'd', 'i', 'c', 't', '=', '{', 'x', ':', ' ', 'X', '_', 't', 'e', 's', 't', ',', ' ', 'y', ':', ' ', 'y', '_', 't', 'e', 's', 't', '}', ')', '\\n', ' ', ' ', ' ', ' ', ' ', ' ', ' ', ' ', 'p', 'r', 'i', 'n', 't', '(', \"'\", '正', '确', '率', ':', ' ', '%', '.', 'f', '%', '%', '，', '损', '失', '度', '：', '%', 'f', \"'\", ' ', '%', ' ', '(', 'c', 'o', 'r', 'r', 'e', 'c', 't', '_', 'r', 'a', 't', 'e', ' ', '*', ' ', '.', ',', ' ', 'l', 'o', 's', 's', '_', 'r', 'e', 's', 'u', 'l', 't', ')', ')', '\\n', '\\n']\n"
     ]
    }
   ],
   "source": [
    "import re\n",
    "# 打开文件\n",
    "f = open('trainmodel.py', 'r')\n",
    "# 读取数据\n",
    "content = f.read()\n",
    "# 正则表达式\n",
    "regex = '\\d'     # 匹配数字\n",
    "# 匹配方式\n",
    "result = re.findall(regex, content)\n",
    "print(result)\n",
    "regex = '\\D'     # 匹配非数字\n",
    "# 匹配方式\n",
    "result = re.findall(regex, content)\n",
    "print(result)"
   ]
  },
  {
   "cell_type": "markdown",
   "metadata": {},
   "source": [
    "### 匹配与不匹配字母与数字 \n",
    "        使用'\\w'匹配任意字母或者数字字符。\n",
    "        使用'\\W'匹配字母与数字以外的字符。"
   ]
  },
  {
   "cell_type": "code",
   "execution_count": 9,
   "metadata": {},
   "outputs": [
    {
     "name": "stdout",
     "output_type": "stream",
     "text": [
      "['#', ' ', '=', '-', '\\n', ' ', ' ', ' ', '\\n', ' ', ' ', ' ', '\\n', ' ', '.', ' ', ' ', '\\n', ' ', '.', ' ', ' ', '\\n', ' ', '.', ' ', ' ', '\\n', '\\n', '\\n', ',', ' ', ',', ' ', ' ', '=', ' ', '.', '(', ')', '\\n', '(', '\"', '：', '(', '%', ')', '\"', ' ', '%', ' ', '(', ')', ')', '\\n', ' ', '=', ' ', '.', '(', '(', '(', ')', ',', ' ', '(', '.', '(', ')', ')', ')', ',', ' ', '=', '.', ')', '\\n', ' ', ' ', ' ', '(', '(', ')', ')', ':', '\\n', ' ', ' ', ' ', ' ', ' ', '=', ' ', '[', ']', '\\n', ' ', ' ', ' ', ' ', '[', ']', '[', ']', ' ', '=', ' ', '\\n', '(', '\"', '！', '\"', ')', '\\n', '\\n', ' ', '=', ' ', '(', ')', ' ', '/', '/', ' ', '\\n', ' ', ' ', ' ', '(', ')', ':', '\\n', ' ', ' ', ' ', ' ', ' ', '=', ' ', '.', '\\n', ' ', ' ', ' ', ' ', ' ', ' ', ' ', '(', ')', ':', '\\n', ' ', ' ', ' ', ' ', ' ', ' ', ' ', ' ', ',', ' ', ' ', '=', ' ', '.', '(', '[', ',', ' ', ']', ',', '\\n', ' ', ' ', ' ', ' ', ' ', ' ', ' ', ' ', ' ', ' ', ' ', ' ', ' ', ' ', ' ', ' ', ' ', ' ', ' ', ' ', ' ', ' ', ' ', ' ', ' ', ' ', ' ', ' ', ' ', ' ', ' ', ' ', ' ', ' ', ' ', ' ', ' ', '=', '{', '\\n', ' ', ' ', ' ', ' ', ' ', ' ', ' ', ' ', ' ', ' ', ' ', ' ', ' ', ' ', ' ', ' ', ' ', ' ', ' ', ' ', ' ', ' ', ' ', ' ', ' ', ' ', ' ', ' ', ' ', ' ', ' ', ' ', ' ', ' ', ' ', ' ', ' ', ' ', ' ', ' ', ' ', ':', ' ', '[', ' ', '*', ' ', ':', '(', '+', ')', ' ', '*', ' ', ']', ',', '\\n', ' ', ' ', ' ', ' ', ' ', ' ', ' ', ' ', ' ', ' ', ' ', ' ', ' ', ' ', ' ', ' ', ' ', ' ', ' ', ' ', ' ', ' ', ' ', ' ', ' ', ' ', ' ', ' ', ' ', ' ', ' ', ' ', ' ', ' ', ' ', ' ', ' ', ' ', ' ', ' ', ' ', ':', ' ', '[', ' ', '*', ' ', ':', '(', '+', ')', ' ', '*', ' ', ']', '}', ')', '\\n', ' ', ' ', ' ', ' ', '#', ' ', '\\n', ' ', ' ', ' ', ' ', ' ', ' ', '%', ' ', ' ', '=', '=', ' ', ':', '\\n', ' ', ' ', ' ', ' ', ' ', ' ', ' ', ' ', ' ', '=', ' ', '.', '(', ',', ' ', '=', '{', ':', ' ', ',', ' ', ':', ' ', '}', ')', '\\n', ' ', ' ', ' ', ' ', ' ', ' ', ' ', ' ', '(', \"'\", ':', ' ', '%', '.', '%', '%', '，', '：', '%', \"'\", ' ', '%', ' ', '(', ' ', '*', ' ', '.', ',', ' ', ')', ')', '\\n', '\\n']\n",
      "['c', 'o', 'd', 'i', 'n', 'g', 'u', 't', 'f', '8', 'i', 'm', 'p', 'o', 'r', 't', 't', 'e', 'n', 's', 'o', 'r', 'f', 'l', 'o', 'w', 'a', 's', 't', 'f', 'i', 'm', 'p', 'o', 'r', 't', 'n', 'u', 'm', 'p', 'y', 'a', 's', 'n', 'p', 'f', 'r', 'o', 'm', 's', 'k', 'l', 'e', 'a', 'r', 'n', 'm', 'o', 'd', 'e', 'l', '_', 's', 'e', 'l', 'e', 'c', 't', 'i', 'o', 'n', 'i', 'm', 'p', 'o', 'r', 't', 't', 'r', 'a', 'i', 'n', '_', 't', 'e', 's', 't', '_', 's', 'p', 'l', 'i', 't', 'f', 'r', 'o', 'm', 's', 'k', 'l', 'e', 'a', 'r', 'n', 'm', 'e', 't', 'r', 'i', 'c', 's', 'i', 'm', 'p', 'o', 'r', 't', 'c', 'o', 'n', 'f', 'u', 's', 'i', 'o', 'n', '_', 'm', 'a', 't', 'r', 'i', 'x', 'f', 'r', 'o', 'm', 's', 'k', 'l', 'e', 'a', 'r', 'n', 'm', 'e', 't', 'r', 'i', 'c', 's', 'i', 'm', 'p', 'o', 'r', 't', 'c', 'l', 'a', 's', 's', 'i', 'f', 'i', 'c', 'a', 't', 'i', 'o', 'n', '_', 'r', 'e', 'p', 'o', 'r', 't', 'd', 'a', 't', 'a', 't', 'a', 'r', 'g', 'e', 't', 't', 'a', 'r', 'g', 'e', 't', '_', 'd', 'i', 'c', 't', 'p', 'p', 'r', 'e', 'a', 'd', '_', 'i', 'm', 'p', 'o', 'r', 't', 'i', 'm', 'a', 'g', 'e', 'i', 'm', 'p', 'o', 'r', 't', 'p', 'r', 'i', 'n', 't', '样', '本', '个', '数', 'd', 'l', 'e', 'n', 't', 'a', 'r', 'g', 'e', 't', 'l', 'a', 'b', 'e', 'l', 's', 'n', 'p', 'z', 'e', 'r', 'o', 's', 'l', 'e', 'n', 't', 'a', 'r', 'g', 'e', 't', 'l', 'e', 'n', 't', 'a', 'r', 'g', 'e', 't', '_', 'd', 'i', 'c', 't', 'i', 't', 'e', 'm', 's', 'd', 't', 'y', 'p', 'e', 'n', 'p', 'i', 'n', 't', 'f', 'o', 'r', 'i', 'i', 'n', 'r', 'a', 'n', 'g', 'e', 'l', 'e', 'n', 't', 'a', 'r', 'g', 'e', 't', 'l', 'b', 't', 'a', 'r', 'g', 'e', 't', 'i', 'l', 'a', 'b', 'e', 'l', 's', 'i', 'l', 'b', '1', 'p', 'r', 'i', 'n', 't', '数', '据', '加', '载', '完', '毕', 'b', 'a', 't', 'c', 'h', 'l', 'e', 'n', 'X', '_', 't', 'r', 'a', 'i', 'n', 'b', 'a', 't', 'c', 'h', '_', 's', 'i', 'z', 'e', 'f', 'o', 'r', 't', 'i', 'n', 'r', 'a', 'n', 'g', 'e', 'T', 'I', 'M', 'E', 'S', 'l', 'o', 's', 's', '_', 'r', 'e', 's', 'u', 'l', 't', '0', '0', 'f', 'o', 'r', 'i', 'd', 'x', 'i', 'n', 'r', 'a', 'n', 'g', 'e', 'b', 'a', 't', 'c', 'h', '_', 'l', 'o', 's', 's', '_', 'r', 'e', 's', 'u', 'l', 't', 's', 'e', 's', 's', 'i', 'o', 'n', 'r', 'u', 'n', 't', 'r', 'a', 'i', 'n', 'e', 'r', 'l', 'o', 's', 's', 'f', 'e', 'e', 'd', '_', 'd', 'i', 'c', 't', 'x', 'X', '_', 't', 'r', 'a', 'i', 'n', 'i', 'd', 'x', 'b', 'a', 't', 'c', 'h', '_', 's', 'i', 'z', 'e', 'i', 'd', 'x', '1', 'b', 'a', 't', 'c', 'h', '_', 's', 'i', 'z', 'e', 'y', 'y', '_', 't', 'r', 'a', 'i', 'n', 'i', 'd', 'x', 'b', 'a', 't', 'c', 'h', '_', 's', 'i', 'z', 'e', 'i', 'd', 'x', '1', 'b', 'a', 't', 'c', 'h', '_', 's', 'i', 'z', 'e', '没', '一', '轮', '训', '练', '就', '评', '估', '效', '果', 'i', 'f', 't', '5', '0', 'c', 'o', 'r', 'r', 'e', 'c', 't', '_', 'r', 'a', 't', 'e', 's', 'e', 's', 's', 'i', 'o', 'n', 'r', 'u', 'n', 'a', 'c', 'c', 'u', 'r', 'a', 'c', 'y', 'f', 'e', 'e', 'd', '_', 'd', 'i', 'c', 't', 'x', 'X', '_', 't', 'e', 's', 't', 'y', 'y', '_', 't', 'e', 's', 't', 'p', 'r', 'i', 'n', 't', '正', '确', '率', '6', '2', 'f', '损', '失', '度', 'f', 'c', 'o', 'r', 'r', 'e', 'c', 't', '_', 'r', 'a', 't', 'e', '1', '0', '0', '0', 'l', 'o', 's', 's', '_', 'r', 'e', 's', 'u', 'l', 't']\n"
     ]
    }
   ],
   "source": [
    "import re\n",
    "# 打开文件\n",
    "f = open('trainmodel.py', 'r')\n",
    "# 读取数据\n",
    "content = f.read()\n",
    "# 正则表达式\n",
    "regex = '\\W'     # 匹配非字母与数字\n",
    "# 匹配方式\n",
    "result = re.findall(regex, content)\n",
    "print(result)\n",
    "regex = '\\w'     # 匹配字母或者数字（_也是字母）\n",
    "# 匹配方式\n",
    "result = re.findall(regex, content)\n",
    "print(result)"
   ]
  },
  {
   "cell_type": "markdown",
   "metadata": {},
   "source": [
    "### 匹配与不匹配空格字符\n",
    "        使用'\\s'表示匹配空格字符，空格字符就是\\t \\n \\r \\f \\v（使用转义符表示）\n",
    "        使用'\\S'表示匹配空格以外的字符。"
   ]
  },
  {
   "cell_type": "code",
   "execution_count": 10,
   "metadata": {},
   "outputs": [
    {
     "name": "stdout",
     "output_type": "stream",
     "text": [
      "[' ', '\\n', ' ', ' ', ' ', '\\n', ' ', ' ', ' ', '\\n', ' ', ' ', ' ', '\\n', ' ', ' ', ' ', '\\n', ' ', ' ', ' ', '\\n', '\\n', '\\n', ' ', ' ', ' ', ' ', '\\n', ' ', ' ', '\\n', ' ', ' ', ' ', ' ', '\\n', ' ', ' ', ' ', '\\n', ' ', ' ', ' ', ' ', ' ', ' ', '\\n', ' ', ' ', ' ', ' ', ' ', ' ', '\\n', '\\n', '\\n', ' ', ' ', ' ', ' ', '\\n', ' ', ' ', ' ', '\\n', ' ', ' ', ' ', ' ', ' ', ' ', '\\n', ' ', ' ', ' ', ' ', ' ', ' ', ' ', '\\n', ' ', ' ', ' ', ' ', ' ', ' ', ' ', ' ', ' ', ' ', ' ', ' ', '\\n', ' ', ' ', ' ', ' ', ' ', ' ', ' ', ' ', ' ', ' ', ' ', ' ', ' ', ' ', ' ', ' ', ' ', ' ', ' ', ' ', ' ', ' ', ' ', ' ', ' ', ' ', ' ', ' ', ' ', ' ', ' ', ' ', ' ', ' ', ' ', ' ', ' ', '\\n', ' ', ' ', ' ', ' ', ' ', ' ', ' ', ' ', ' ', ' ', ' ', ' ', ' ', ' ', ' ', ' ', ' ', ' ', ' ', ' ', ' ', ' ', ' ', ' ', ' ', ' ', ' ', ' ', ' ', ' ', ' ', ' ', ' ', ' ', ' ', ' ', ' ', ' ', ' ', ' ', ' ', ' ', ' ', ' ', ' ', ' ', '\\n', ' ', ' ', ' ', ' ', ' ', ' ', ' ', ' ', ' ', ' ', ' ', ' ', ' ', ' ', ' ', ' ', ' ', ' ', ' ', ' ', ' ', ' ', ' ', ' ', ' ', ' ', ' ', ' ', ' ', ' ', ' ', ' ', ' ', ' ', ' ', ' ', ' ', ' ', ' ', ' ', ' ', ' ', ' ', ' ', ' ', ' ', '\\n', ' ', ' ', ' ', ' ', ' ', '\\n', ' ', ' ', ' ', ' ', ' ', ' ', ' ', ' ', ' ', '\\n', ' ', ' ', ' ', ' ', ' ', ' ', ' ', ' ', ' ', ' ', ' ', ' ', ' ', ' ', '\\n', ' ', ' ', ' ', ' ', ' ', ' ', ' ', ' ', ' ', ' ', ' ', ' ', ' ', ' ', '\\n', '\\n']\n",
      "['#', 'c', 'o', 'd', 'i', 'n', 'g', '=', 'u', 't', 'f', '-', '8', 'i', 'm', 'p', 'o', 'r', 't', 't', 'e', 'n', 's', 'o', 'r', 'f', 'l', 'o', 'w', 'a', 's', 't', 'f', 'i', 'm', 'p', 'o', 'r', 't', 'n', 'u', 'm', 'p', 'y', 'a', 's', 'n', 'p', 'f', 'r', 'o', 'm', 's', 'k', 'l', 'e', 'a', 'r', 'n', '.', 'm', 'o', 'd', 'e', 'l', '_', 's', 'e', 'l', 'e', 'c', 't', 'i', 'o', 'n', 'i', 'm', 'p', 'o', 'r', 't', 't', 'r', 'a', 'i', 'n', '_', 't', 'e', 's', 't', '_', 's', 'p', 'l', 'i', 't', 'f', 'r', 'o', 'm', 's', 'k', 'l', 'e', 'a', 'r', 'n', '.', 'm', 'e', 't', 'r', 'i', 'c', 's', 'i', 'm', 'p', 'o', 'r', 't', 'c', 'o', 'n', 'f', 'u', 's', 'i', 'o', 'n', '_', 'm', 'a', 't', 'r', 'i', 'x', 'f', 'r', 'o', 'm', 's', 'k', 'l', 'e', 'a', 'r', 'n', '.', 'm', 'e', 't', 'r', 'i', 'c', 's', 'i', 'm', 'p', 'o', 'r', 't', 'c', 'l', 'a', 's', 's', 'i', 'f', 'i', 'c', 'a', 't', 'i', 'o', 'n', '_', 'r', 'e', 'p', 'o', 'r', 't', 'd', 'a', 't', 'a', ',', 't', 'a', 'r', 'g', 'e', 't', ',', 't', 'a', 'r', 'g', 'e', 't', '_', 'd', 'i', 'c', 't', '=', 'p', 'p', '.', 'r', 'e', 'a', 'd', '_', 'i', 'm', 'p', 'o', 'r', 't', 'i', 'm', 'a', 'g', 'e', '(', 'i', 'm', 'p', 'o', 'r', 't', ')', 'p', 'r', 'i', 'n', 't', '(', '\"', '样', '本', '个', '数', '：', '(', '%', 'd', ')', '\"', '%', 'l', 'e', 'n', '(', 't', 'a', 'r', 'g', 'e', 't', ')', ')', 'l', 'a', 'b', 'e', 'l', 's', '=', 'n', 'p', '.', 'z', 'e', 'r', 'o', 's', '(', '(', 'l', 'e', 'n', '(', 't', 'a', 'r', 'g', 'e', 't', ')', ',', 'l', 'e', 'n', '(', 't', 'a', 'r', 'g', 'e', 't', '_', 'd', 'i', 'c', 't', '.', 'i', 't', 'e', 'm', 's', '(', ')', ')', ')', ',', 'd', 't', 'y', 'p', 'e', '=', 'n', 'p', '.', 'i', 'n', 't', ')', 'f', 'o', 'r', 'i', 'i', 'n', 'r', 'a', 'n', 'g', 'e', '(', 'l', 'e', 'n', '(', 't', 'a', 'r', 'g', 'e', 't', ')', ')', ':', 'l', 'b', '=', 't', 'a', 'r', 'g', 'e', 't', '[', 'i', ']', 'l', 'a', 'b', 'e', 'l', 's', '[', 'i', ']', '[', 'l', 'b', ']', '=', '1', 'p', 'r', 'i', 'n', 't', '(', '\"', '数', '据', '加', '载', '完', '毕', '！', '\"', ')', 'b', 'a', 't', 'c', 'h', '=', 'l', 'e', 'n', '(', 'X', '_', 't', 'r', 'a', 'i', 'n', ')', '/', '/', 'b', 'a', 't', 'c', 'h', '_', 's', 'i', 'z', 'e', 'f', 'o', 'r', 't', 'i', 'n', 'r', 'a', 'n', 'g', 'e', '(', 'T', 'I', 'M', 'E', 'S', ')', ':', 'l', 'o', 's', 's', '_', 'r', 'e', 's', 'u', 'l', 't', '=', '0', '.', '0', 'f', 'o', 'r', 'i', 'd', 'x', 'i', 'n', 'r', 'a', 'n', 'g', 'e', '(', 'b', 'a', 't', 'c', 'h', ')', ':', '_', ',', 'l', 'o', 's', 's', '_', 'r', 'e', 's', 'u', 'l', 't', '=', 's', 'e', 's', 's', 'i', 'o', 'n', '.', 'r', 'u', 'n', '(', '[', 't', 'r', 'a', 'i', 'n', 'e', 'r', ',', 'l', 'o', 's', 's', ']', ',', 'f', 'e', 'e', 'd', '_', 'd', 'i', 'c', 't', '=', '{', 'x', ':', 'X', '_', 't', 'r', 'a', 'i', 'n', '[', 'i', 'd', 'x', '*', 'b', 'a', 't', 'c', 'h', '_', 's', 'i', 'z', 'e', ':', '(', 'i', 'd', 'x', '+', '1', ')', '*', 'b', 'a', 't', 'c', 'h', '_', 's', 'i', 'z', 'e', ']', ',', 'y', ':', 'y', '_', 't', 'r', 'a', 'i', 'n', '[', 'i', 'd', 'x', '*', 'b', 'a', 't', 'c', 'h', '_', 's', 'i', 'z', 'e', ':', '(', 'i', 'd', 'x', '+', '1', ')', '*', 'b', 'a', 't', 'c', 'h', '_', 's', 'i', 'z', 'e', ']', '}', ')', '#', '没', '一', '轮', '训', '练', '就', '评', '估', '效', '果', 'i', 'f', 't', '%', '5', '=', '=', '0', ':', 'c', 'o', 'r', 'r', 'e', 'c', 't', '_', 'r', 'a', 't', 'e', '=', 's', 'e', 's', 's', 'i', 'o', 'n', '.', 'r', 'u', 'n', '(', 'a', 'c', 'c', 'u', 'r', 'a', 'c', 'y', ',', 'f', 'e', 'e', 'd', '_', 'd', 'i', 'c', 't', '=', '{', 'x', ':', 'X', '_', 't', 'e', 's', 't', ',', 'y', ':', 'y', '_', 't', 'e', 's', 't', '}', ')', 'p', 'r', 'i', 'n', 't', '(', \"'\", '正', '确', '率', ':', '%', '6', '.', '2', 'f', '%', '%', '，', '损', '失', '度', '：', '%', 'f', \"'\", '%', '(', 'c', 'o', 'r', 'r', 'e', 'c', 't', '_', 'r', 'a', 't', 'e', '*', '1', '0', '0', '.', '0', ',', 'l', 'o', 's', 's', '_', 'r', 'e', 's', 'u', 'l', 't', ')', ')']\n"
     ]
    }
   ],
   "source": [
    "import re\n",
    "# 打开文件\n",
    "f = open('trainmodel.py', 'r')\n",
    "# 读取数据\n",
    "content = f.read()\n",
    "# 正则表达式\n",
    "regex = '\\s'     # 空格\n",
    "# 匹配方式\n",
    "result = re.findall(regex, content)\n",
    "print(result)\n",
    "regex = '\\S'     # 非空格\n",
    "# 匹配方式\n",
    "result = re.findall(regex, content)\n",
    "print(result)"
   ]
  },
  {
   "cell_type": "markdown",
   "metadata": {},
   "source": [
    "### 匹配特殊字符与转义字符\n",
    "        在正则表达式中由特殊含义的符号，可以使用转义符。比如：\\本身与s，w等结合表示特殊的含义，如果想匹配\\就是用'\\\\'，其他还包含（，* + ？）\n",
    "        注意：为了防止Python字符串的转义，可以使用原生字符串表示方式：r''\n",
    "        \n",
    "        可以正常使用其他转义字符"
   ]
  },
  {
   "cell_type": "markdown",
   "metadata": {},
   "source": [
    "1. 原生字符"
   ]
  },
  {
   "cell_type": "code",
   "execution_count": 11,
   "metadata": {},
   "outputs": [
    {
     "name": "stdout",
     "output_type": "stream",
     "text": [
      "\\\\\n",
      "\\\n"
     ]
    }
   ],
   "source": [
    "print(r'\\\\')\n",
    "print('\\\\')"
   ]
  },
  {
   "cell_type": "markdown",
   "metadata": {},
   "source": [
    "2. 使用转义字符匹配"
   ]
  },
  {
   "cell_type": "code",
   "execution_count": 12,
   "metadata": {},
   "outputs": [
    {
     "name": "stdout",
     "output_type": "stream",
     "text": [
      "['\\t']\n"
     ]
    }
   ],
   "source": [
    "import re\n",
    "regex = '\\t'     # 空格\n",
    "# 匹配方式\n",
    "result = re.findall(regex, '\\t')\n",
    "print(result)"
   ]
  },
  {
   "cell_type": "markdown",
   "metadata": {},
   "source": [
    "3. 在正则表达式中由特殊含义与功能的特殊字符"
   ]
  },
  {
   "cell_type": "code",
   "execution_count": 13,
   "metadata": {},
   "outputs": [
    {
     "name": "stdout",
     "output_type": "stream",
     "text": [
      "['?']\n"
     ]
    }
   ],
   "source": [
    "import re\n",
    "regex = r'\\?'     # 把r去掉就是错误的正则表达式模式\n",
    "# 匹配方式\n",
    "result = re.findall(regex, '*,+\\?(){}|[]^~$')\n",
    "print(result)\n"
   ]
  },
  {
   "cell_type": "markdown",
   "metadata": {},
   "source": [
    "4. 空格匹配\n",
    "\n",
    "    空格也可以使用转义符号"
   ]
  },
  {
   "cell_type": "code",
   "execution_count": 14,
   "metadata": {},
   "outputs": [
    {
     "name": "stdout",
     "output_type": "stream",
     "text": [
      "[' ']\n"
     ]
    }
   ],
   "source": [
    "import re\n",
    "regex = r'\\ '     \n",
    "# 匹配方式\n",
    "result = re.findall(regex, 'hello word')\n",
    "print(result)"
   ]
  },
  {
   "cell_type": "markdown",
   "metadata": {},
   "source": [
    "### 可选字符匹配\n",
    "\n",
    "        可选字符匹配是限定匹配字符的范围。"
   ]
  },
  {
   "cell_type": "markdown",
   "metadata": {},
   "source": [
    "1.  可选字符集  \n",
    "    \n",
    "        语法：[字符集] \n",
    "        在方括号中指定可选的字符集合，比如：[abcd]表示匹配abcd四个字符中的任意一个。\n",
    "        注意：只匹配一个字符。"
   ]
  },
  {
   "cell_type": "code",
   "execution_count": 15,
   "metadata": {},
   "outputs": [
    {
     "name": "stdout",
     "output_type": "stream",
     "text": [
      "['e', 'd']\n"
     ]
    }
   ],
   "source": [
    "import re\n",
    "regex = '[abcdef]'     \n",
    "# 匹配方式\n",
    "result = re.findall(regex, 'hello word')\n",
    "print(result)"
   ]
  },
  {
   "cell_type": "markdown",
   "metadata": {},
   "source": [
    "2. 可选字符范围\n",
    "        \n",
    "        语法：[开始字符-结束字符]"
   ]
  },
  {
   "cell_type": "code",
   "execution_count": 16,
   "metadata": {},
   "outputs": [
    {
     "name": "stdout",
     "output_type": "stream",
     "text": [
      "['e', 'd']\n"
     ]
    }
   ],
   "source": [
    "import re\n",
    "regex = '[a-f]'     \n",
    "# 匹配方式\n",
    "result = re.findall(regex, 'hello word')\n",
    "print(result)"
   ]
  },
  {
   "cell_type": "markdown",
   "metadata": {},
   "source": [
    "3. 字符范围与字符集混用\n",
    "        \n",
    "        语法：[...开始字符-结束字符...]"
   ]
  },
  {
   "cell_type": "code",
   "execution_count": 17,
   "metadata": {},
   "outputs": [
    {
     "name": "stdout",
     "output_type": "stream",
     "text": [
      "['e', 'l', 'l', 'w', 'd']\n"
     ]
    }
   ],
   "source": [
    "import re\n",
    "regex = '[abc-fgk-nw]'     \n",
    "# 匹配方式\n",
    "result = re.findall(regex, 'hello word')\n",
    "print(result)"
   ]
  },
  {
   "cell_type": "markdown",
   "metadata": {},
   "source": [
    "4. 匹配可选范围以外的字符\n",
    "        \n",
    "        语法：[^字符集或者字符范围]"
   ]
  },
  {
   "cell_type": "code",
   "execution_count": 18,
   "metadata": {},
   "outputs": [
    {
     "name": "stdout",
     "output_type": "stream",
     "text": [
      "['h', 'o', ' ', 'o', 'r']\n"
     ]
    }
   ],
   "source": [
    "import re\n",
    "regex = '[^abc-fgk-nw]'     \n",
    "# 匹配方式\n",
    "result = re.findall(regex, 'hello word')\n",
    "print(result)"
   ]
  },
  {
   "cell_type": "markdown",
   "metadata": {},
   "source": [
    "5. 模式二选一匹配\n",
    "\n",
    "        语法：匹配模式一|匹配模式二\n",
    "        \n",
    "        注意：该语法与[]的区别是：模式可选，不是字符可选。"
   ]
  },
  {
   "cell_type": "code",
   "execution_count": 19,
   "metadata": {},
   "outputs": [
    {
     "name": "stdout",
     "output_type": "stream",
     "text": [
      "['he', 'or']\n",
      "['e', 'l', 'l', 'w', 'd']\n"
     ]
    }
   ],
   "source": [
    "import re\n",
    "regex = 'he|or'     \n",
    "# 匹配方式\n",
    "result = re.findall(regex, 'hello word')\n",
    "print(result)\n",
    "regex = 'a|b|[c-f]|g|[k-n|w]'     \n",
    "# 匹配方式\n",
    "result = re.findall(regex, 'hello word')\n",
    "print(result)"
   ]
  },
  {
   "cell_type": "markdown",
   "metadata": {},
   "source": [
    "### 指定匹配字符的位置\n",
    "        \n",
    "        字符串首：\n",
    "            ^模式：表示从字符串开始位置匹配模式\n",
    "                       ^表示匹配字符串开始 \n",
    "            \\A模式：与^一样\n",
    "        \n",
    "        字符串尾：\n",
    "            模式$：表示匹配字符串结尾的模式。\n",
    "                      $表示匹配字符串结束\n",
    "            模式\\Z：与$一样，不过存在一点区别，如果结束存在换行，则匹配到换行前一个字符。\n",
    "        \n",
    "        单词边界：\n",
    "            \\b模式\\b：表示匹配次的边界。经常用于匹配词。\n",
    "            \\B模式\\B：表示不匹配单词边界\n",
    "        \n",
    "        \n",
    "        注意：^与$不是指的行首与行尾，而是字符串的开始与结束。"
   ]
  },
  {
   "cell_type": "code",
   "execution_count": 20,
   "metadata": {},
   "outputs": [
    {
     "name": "stdout",
     "output_type": "stream",
     "text": [
      "['#']\n",
      "['#']\n",
      "['\\n', '\\n']\n",
      "['\\n']\n",
      "['import', 'import', 'import', 'import', 'import', 'import']\n",
      "['import']\n"
     ]
    }
   ],
   "source": [
    "import re\n",
    "# 打开文件\n",
    "f = open('trainmodel.py', 'r')\n",
    "# 读取数据\n",
    "content = f.read()\n",
    "# 正则表达式\n",
    "regex = '^#'     # #开头\n",
    "# 匹配方式\n",
    "result = re.findall(regex, content)\n",
    "print(result)\n",
    "\n",
    "regex = '\\A#'     # #开头\n",
    "# 匹配方式\n",
    "result = re.findall(regex, content)\n",
    "print(result)\n",
    "\n",
    "\n",
    "regex = r'\\n$'     # 换行结尾，\n",
    "# 匹配方式\n",
    "result = re.findall(regex, content)\n",
    "print(result)\n",
    "# 上面如果是末尾两个空行，会返回两个'\\n','\\n'\n",
    "\n",
    "regex = r'\\n\\Z'     # 换行结尾，两个空行的情况不会出现两个'\\n'\n",
    "# 匹配方式\n",
    "result = re.findall(regex, content)\n",
    "print(result)\n",
    "\n",
    "\n",
    "regex = r'\\bimport\\b'     # 单词边界\n",
    "# 匹配方式\n",
    "result = re.findall(regex, content)\n",
    "print(result)\n",
    "regex = r'\\Bimport\\B'     # 单词边界\n",
    "# 匹配方式\n",
    "result = re.findall(regex, content)\n",
    "print(result)"
   ]
  },
  {
   "cell_type": "markdown",
   "metadata": {},
   "source": [
    "    下面是专门说明\\Z与$的区别。"
   ]
  },
  {
   "cell_type": "code",
   "execution_count": 21,
   "metadata": {},
   "outputs": [
    {
     "name": "stdout",
     "output_type": "stream",
     "text": [
      "['\\n', '\\n']\n"
     ]
    }
   ],
   "source": [
    "content = r'''\n",
    "this is a dog\n",
    "those are a fox\n",
    "\n",
    "\n",
    "'''\n",
    "regex = r'\\n$'      # 请去掉空行测试\n",
    "result = re.findall(regex, content)\n",
    "print(result)"
   ]
  },
  {
   "cell_type": "code",
   "execution_count": 22,
   "metadata": {},
   "outputs": [
    {
     "name": "stdout",
     "output_type": "stream",
     "text": [
      "['\\n']\n"
     ]
    }
   ],
   "source": [
    "content = r'''\n",
    "this is a dog\n",
    "those are a fox\n",
    "\n",
    "\n",
    "'''\n",
    "regex = r'\\n\\Z'     # 请去掉空行测试\n",
    "result = re.findall(regex, content)\n",
    "print(result)"
   ]
  },
  {
   "cell_type": "markdown",
   "metadata": {},
   "source": [
    "## 匹配次数\n"
   ]
  },
  {
   "cell_type": "markdown",
   "metadata": {},
   "source": [
    "### 匹配指定的次数\n",
    "\n",
    "        语法：模式{M,N}，\n",
    "                 表示匹配出现M到N次的模式。\n",
    "                \n",
    "        语法：模式{N}，\n",
    "                 表示匹配出现N次的模式。\n",
    "                 \n",
    "        注意：次数只作用在前面靠近的字符，不作用在所有字符模式上。除非使用模式分组"
   ]
  },
  {
   "cell_type": "code",
   "execution_count": 23,
   "metadata": {},
   "outputs": [
    {
     "name": "stdout",
     "output_type": "stream",
     "text": [
      "['100', '4000', '70', '5000']\n"
     ]
    }
   ],
   "source": [
    "import re\n",
    "content = r'''\n",
    "a = 100\n",
    "b = 4000\n",
    "c = 70.88\n",
    "d = 50000\n",
    "'''\n",
    "# 正则表达式\n",
    "regex = '\\d0{1,3}'     # #开头\n",
    "# 匹配方式\n",
    "result = re.findall(regex, content)\n",
    "print(result)"
   ]
  },
  {
   "cell_type": "markdown",
   "metadata": {},
   "source": [
    "### 不定次数匹配\n",
    "\n",
    "        1. 模式*\n",
    "                表示匹配任意个数（包含0次）的字符。\n",
    "                也称Kleene 闭包操作\n",
    "        \n",
    "        2. 模式?\n",
    "                表示匹配0次或者1次的字符。\n",
    "        \n",
    "        3. 模式+\n",
    "                表示匹配至少一次的字符。\n",
    "                也称正闭包操作\n",
    "                \n",
    "        注意：由于上面的次数不定，所以在匹配的时候采用贪心匹配模式，尽可能多的匹配字符。"
   ]
  },
  {
   "cell_type": "code",
   "execution_count": 24,
   "metadata": {},
   "outputs": [
    {
     "name": "stdout",
     "output_type": "stream",
     "text": [
      "['100', '4000', '70', '8', '8', '50000']\n",
      "['10', '0', '40', '00', '70', '8', '8', '50', '00', '0']\n",
      "['100', '4000', '70', '50000']\n"
     ]
    }
   ],
   "source": [
    "import re\n",
    "content = r'''\n",
    "a = 100\n",
    "b = 4000\n",
    "c = 70.88\n",
    "d = 50000\n",
    "'''\n",
    "# 正则表达式\n",
    "regex = '\\d0*'     # #开头\n",
    "# 匹配方式\n",
    "result = re.findall(regex, content)\n",
    "print(result)\n",
    "\n",
    "regex = '\\d0?'     # #开头\n",
    "# 匹配方式\n",
    "result = re.findall(regex, content)\n",
    "print(result)\n",
    "\n",
    "regex = '\\d0+'     # #开头\n",
    "# 匹配方式\n",
    "result = re.findall(regex, content)\n",
    "print(result)"
   ]
  },
  {
   "cell_type": "markdown",
   "metadata": {},
   "source": [
    "### 不定次数非贪心匹配次数\n",
    "\n",
    "        语法：(*|+|?|{})?模式"
   ]
  },
  {
   "cell_type": "code",
   "execution_count": 25,
   "metadata": {},
   "outputs": [
    {
     "name": "stdout",
     "output_type": "stream",
     "text": [
      "['1', '0', '0', '4', '0', '0', '0', '7', '0', '8', '8', '5', '0', '0', '0', '0']\n",
      "['1', '0', '0', '4', '0', '0', '0', '7', '0', '8', '8', '5', '0', '0', '0', '0']\n",
      "['10', '40', '00', '70', '50', '00']\n",
      "['100', '400', '500']\n"
     ]
    }
   ],
   "source": [
    "import re\n",
    "content = r'''\n",
    "a = 100\n",
    "b = 4000\n",
    "c = 70.88\n",
    "d = 50000\n",
    "'''\n",
    "# 正则表达式\n",
    "regex = '\\d0*?'     # #开头\n",
    "# 匹配方式\n",
    "result = re.findall(regex, content)\n",
    "print(result)\n",
    "\n",
    "regex = '\\d0??'     # #开头\n",
    "# 匹配方式\n",
    "result = re.findall(regex, content)\n",
    "print(result)\n",
    "\n",
    "regex = '\\d0+?'     # #开头\n",
    "# 匹配方式\n",
    "result = re.findall(regex, content)\n",
    "print(result)\n",
    "\n",
    "regex = '\\d0{2,3}?'     # #开头\n",
    "# 匹配方式\n",
    "result = re.findall(regex, content)\n",
    "print(result)"
   ]
  },
  {
   "cell_type": "markdown",
   "metadata": {},
   "source": [
    "## 匹配分组\n",
    "        \n",
    "        语法：(模式)\n",
    "        \n",
    "        分组有两个作用：\n",
    "            作用1：正则表达式用来决定是否匹配成功，使用分组还可以提前匹配成功的内容。\n",
    "            作用2：分组还可以反复使用。\n",
    "            \n",
    "        在正则表达式访问定义的分组，使用\\n，n表示第n个分组，n一般从1-9。"
   ]
  },
  {
   "cell_type": "markdown",
   "metadata": {},
   "source": [
    "### 使用分组提取匹配的内容"
   ]
  },
  {
   "cell_type": "code",
   "execution_count": 26,
   "metadata": {},
   "outputs": [
    {
     "name": "stdout",
     "output_type": "stream",
     "text": [
      "['4000', '5000']\n"
     ]
    }
   ],
   "source": [
    "import re\n",
    "content = r'''\n",
    "a = 100\n",
    "b = 4000\n",
    "c = 70.88\n",
    "d = 50000\n",
    "'''\n",
    "# 正则表达式\n",
    "regex = r'=\\ (\\d0{3})'     # 匹配= + 空格 + 一个数字 + 3个0，但实际提取的事分组的内容。\n",
    "# 匹配方式\n",
    "result = re.findall(regex, content)\n",
    "print(result)"
   ]
  },
  {
   "cell_type": "markdown",
   "metadata": {},
   "source": [
    "### 重复使用分组"
   ]
  },
  {
   "cell_type": "code",
   "execution_count": 27,
   "metadata": {},
   "outputs": [
    {
     "name": "stdout",
     "output_type": "stream",
     "text": [
      "['100', '500']\n"
     ]
    }
   ],
   "source": [
    "import re\n",
    "content = r'''\n",
    "a = 100100\n",
    "b = 1000100\n",
    "c = 500500\n",
    "'''\n",
    "# 正则表达式\n",
    "regex = r'(\\d0{2})\\1'     # 匹配数字+00+ 数字+00，但只提取前面的数字+00\n",
    "# 匹配方式\n",
    "result = re.findall(regex, content)\n",
    "print(result)\n"
   ]
  },
  {
   "cell_type": "markdown",
   "metadata": {},
   "source": [
    "## 匹配扩展\n",
    "\n",
    "        语法：(?.....)"
   ]
  },
  {
   "cell_type": "markdown",
   "metadata": {},
   "source": [
    "### 不保存分组\n",
    "        \n",
    "        语法：(?: ....)\n",
    "            表示分组只用来提取内容，不被保存，就是后面不能使用\\n来引用。"
   ]
  },
  {
   "cell_type": "code",
   "execution_count": 28,
   "metadata": {},
   "outputs": [
    {
     "name": "stdout",
     "output_type": "stream",
     "text": [
      "['100', '100', '100', '100', '500', '500']\n"
     ]
    }
   ],
   "source": [
    "import re\n",
    "content = r'''\n",
    "a = 100100\n",
    "b = 1000100\n",
    "c = 500500\n",
    "'''\n",
    "# 正则表达式\n",
    "regex = r'(?:\\d0{2})'     # r'(?:\\d0{2})\\1' 会报错，因为\\1的分组不存在  \n",
    "# 匹配方式\n",
    "result = re.findall(regex, content)\n",
    "print(result)"
   ]
  },
  {
   "cell_type": "markdown",
   "metadata": {},
   "source": [
    "### 分组命名与使用分组名\n",
    "        \n",
    "        语法：\n",
    "            \n",
    "            [?P<分组名>...]：定义分组名\n",
    "            [?P=分组名]：引用分组名\n",
    "        \n",
    "        分组命名后，就不需要使用顺序名，直接使用分组名即可；\n",
    "        在Python程序中，也可以使用分组名提取匹配内容。"
   ]
  },
  {
   "cell_type": "code",
   "execution_count": 29,
   "metadata": {},
   "outputs": [
    {
     "name": "stdout",
     "output_type": "stream",
     "text": [
      "['100', '500']\n"
     ]
    }
   ],
   "source": [
    "import re\n",
    "content = r'''\n",
    "a = 100100\n",
    "b = 1000100\n",
    "c = 500500w\n",
    "'''\n",
    "# 正则表达式\n",
    "regex = r'(?P<mynum>\\d0{2})(?P=mynum)'     # 匹配数字+00+ 数字+00，但只提取前面的数字+00，返回的第一个模式\n",
    "# 匹配方式\n",
    "result = re.findall(regex, content)\n",
    "print(result)"
   ]
  },
  {
   "cell_type": "markdown",
   "metadata": {},
   "source": [
    "###  注释\n",
    "    \n",
    "        语法：(?#....)\n",
    "        "
   ]
  },
  {
   "cell_type": "code",
   "execution_count": 30,
   "metadata": {},
   "outputs": [
    {
     "name": "stdout",
     "output_type": "stream",
     "text": [
      "['100', '100', '100', '100', '500', '500']\n"
     ]
    }
   ],
   "source": [
    "import re\n",
    "content = r'''\n",
    "a = 100100\n",
    "b = 1000100\n",
    "c = 500500\n",
    "'''\n",
    "# 正则表达式\n",
    "regex = r'\\d(?#这是注释)0{2}'     # 匹配数字+00+ 数字+00，但只提取前面的数字+00\n",
    "# 匹配方式\n",
    "result = re.findall(regex, content)\n",
    "print(result)"
   ]
  },
  {
   "cell_type": "markdown",
   "metadata": {},
   "source": [
    "### 设置匹配方式\n",
    "\n",
    "        语法：(?aiLmsux)\n",
    "        \n",
    "        其中只能使用的字符为：a，i，L，m，s，u，x；这些字符影响到匹配方式。\n",
    "\n",
    "\n",
    "\\#| 扩展字符|英文全称|说明\n",
    "-|-|-|:-\n",
    "1|a|（ASCII）|\\w, \\W, \\b, \\B, \\d, \\D匹配ASCII，与后面u对应。\n",
    "2|i|（IGNORECASE）|忽略大小写的匹配模式。\n",
    "3|L|（LOCALE）|字符集本地化。\n",
    "4|m|（MULTILINE）|多行模式, 改变 ^ 和 $ 的行为\n",
    "5|s|（DOTALL）|此模式下 '.' 的匹配不受限制，可匹配任何字符，包括换行符。\n",
    "6|x|（VERBOSE）|冗余模式， 此模式忽略正则表达式中的空白和#号的注释。\n",
    "7|u|（UNICODE）|使用 \\w, \\W, \\b, \\B 这些元字符时将按照 UNICODE 定义的属性，与a对应。\n",
    "\n",
    "\n",
    "        注意：匹配方式扩展模式需要设置在正则表达式之前。"
   ]
  },
  {
   "cell_type": "markdown",
   "metadata": {},
   "source": [
    "1. 忽略大小写（i）匹配方式 "
   ]
  },
  {
   "cell_type": "code",
   "execution_count": 31,
   "metadata": {},
   "outputs": [
    {
     "name": "stdout",
     "output_type": "stream",
     "text": [
      "['Hello', 'hello']\n"
     ]
    }
   ],
   "source": [
    "import re\n",
    "content = r'''\n",
    "Hello is a hello world\n",
    "'''\n",
    "# 正则表达式\n",
    "regex = r'(?i)hello'     # 需要放在前面\n",
    "# 匹配方式\n",
    "result = re.findall(regex, content)\n",
    "print(result)"
   ]
  },
  {
   "cell_type": "markdown",
   "metadata": {},
   "source": [
    "2. 字符集本地化（L）匹配方式\n",
    "\n",
    "        在Python3.6版本，cannot use LOCALE flag with a str pattern"
   ]
  },
  {
   "cell_type": "code",
   "execution_count": 32,
   "metadata": {},
   "outputs": [
    {
     "ename": "ValueError",
     "evalue": "cannot use LOCALE flag with a str pattern",
     "output_type": "error",
     "traceback": [
      "\u001b[0;31m---------------------------------------------------------------------------\u001b[0m",
      "\u001b[0;31mValueError\u001b[0m                                Traceback (most recent call last)",
      "\u001b[0;32m<ipython-input-32-d609d3900d1b>\u001b[0m in \u001b[0;36m<module>\u001b[0;34m()\u001b[0m\n\u001b[1;32m      6\u001b[0m \u001b[0mregex\u001b[0m \u001b[0;34m=\u001b[0m \u001b[0;34mr'(?L)hell'\u001b[0m     \u001b[0;31m# L在Python3.6 不能再字符串模式中使用\u001b[0m\u001b[0;34m\u001b[0m\u001b[0m\n\u001b[1;32m      7\u001b[0m \u001b[0;31m# 匹配方式\u001b[0m\u001b[0;34m\u001b[0m\u001b[0;34m\u001b[0m\u001b[0m\n\u001b[0;32m----> 8\u001b[0;31m \u001b[0mresult\u001b[0m \u001b[0;34m=\u001b[0m \u001b[0mre\u001b[0m\u001b[0;34m.\u001b[0m\u001b[0mfindall\u001b[0m\u001b[0;34m(\u001b[0m\u001b[0mregex\u001b[0m\u001b[0;34m,\u001b[0m \u001b[0mcontent\u001b[0m\u001b[0;34m)\u001b[0m\u001b[0;34m\u001b[0m\u001b[0m\n\u001b[0m\u001b[1;32m      9\u001b[0m \u001b[0mprint\u001b[0m\u001b[0;34m(\u001b[0m\u001b[0mresult\u001b[0m\u001b[0;34m)\u001b[0m\u001b[0;34m\u001b[0m\u001b[0m\n",
      "\u001b[0;32m/Library/Frameworks/Python.framework/Versions/3.6/lib/python3.6/re.py\u001b[0m in \u001b[0;36mfindall\u001b[0;34m(pattern, string, flags)\u001b[0m\n\u001b[1;32m    220\u001b[0m \u001b[0;34m\u001b[0m\u001b[0m\n\u001b[1;32m    221\u001b[0m     Empty matches are included in the result.\"\"\"\n\u001b[0;32m--> 222\u001b[0;31m     \u001b[0;32mreturn\u001b[0m \u001b[0m_compile\u001b[0m\u001b[0;34m(\u001b[0m\u001b[0mpattern\u001b[0m\u001b[0;34m,\u001b[0m \u001b[0mflags\u001b[0m\u001b[0;34m)\u001b[0m\u001b[0;34m.\u001b[0m\u001b[0mfindall\u001b[0m\u001b[0;34m(\u001b[0m\u001b[0mstring\u001b[0m\u001b[0;34m)\u001b[0m\u001b[0;34m\u001b[0m\u001b[0m\n\u001b[0m\u001b[1;32m    223\u001b[0m \u001b[0;34m\u001b[0m\u001b[0m\n\u001b[1;32m    224\u001b[0m \u001b[0;32mdef\u001b[0m \u001b[0mfinditer\u001b[0m\u001b[0;34m(\u001b[0m\u001b[0mpattern\u001b[0m\u001b[0;34m,\u001b[0m \u001b[0mstring\u001b[0m\u001b[0;34m,\u001b[0m \u001b[0mflags\u001b[0m\u001b[0;34m=\u001b[0m\u001b[0;36m0\u001b[0m\u001b[0;34m)\u001b[0m\u001b[0;34m:\u001b[0m\u001b[0;34m\u001b[0m\u001b[0m\n",
      "\u001b[0;32m/Library/Frameworks/Python.framework/Versions/3.6/lib/python3.6/re.py\u001b[0m in \u001b[0;36m_compile\u001b[0;34m(pattern, flags)\u001b[0m\n\u001b[1;32m    299\u001b[0m     \u001b[0;32mif\u001b[0m \u001b[0;32mnot\u001b[0m \u001b[0msre_compile\u001b[0m\u001b[0;34m.\u001b[0m\u001b[0misstring\u001b[0m\u001b[0;34m(\u001b[0m\u001b[0mpattern\u001b[0m\u001b[0;34m)\u001b[0m\u001b[0;34m:\u001b[0m\u001b[0;34m\u001b[0m\u001b[0m\n\u001b[1;32m    300\u001b[0m         \u001b[0;32mraise\u001b[0m \u001b[0mTypeError\u001b[0m\u001b[0;34m(\u001b[0m\u001b[0;34m\"first argument must be string or compiled pattern\"\u001b[0m\u001b[0;34m)\u001b[0m\u001b[0;34m\u001b[0m\u001b[0m\n\u001b[0;32m--> 301\u001b[0;31m     \u001b[0mp\u001b[0m \u001b[0;34m=\u001b[0m \u001b[0msre_compile\u001b[0m\u001b[0;34m.\u001b[0m\u001b[0mcompile\u001b[0m\u001b[0;34m(\u001b[0m\u001b[0mpattern\u001b[0m\u001b[0;34m,\u001b[0m \u001b[0mflags\u001b[0m\u001b[0;34m)\u001b[0m\u001b[0;34m\u001b[0m\u001b[0m\n\u001b[0m\u001b[1;32m    302\u001b[0m     \u001b[0;32mif\u001b[0m \u001b[0;32mnot\u001b[0m \u001b[0;34m(\u001b[0m\u001b[0mflags\u001b[0m \u001b[0;34m&\u001b[0m \u001b[0mDEBUG\u001b[0m\u001b[0;34m)\u001b[0m\u001b[0;34m:\u001b[0m\u001b[0;34m\u001b[0m\u001b[0m\n\u001b[1;32m    303\u001b[0m         \u001b[0;32mif\u001b[0m \u001b[0mlen\u001b[0m\u001b[0;34m(\u001b[0m\u001b[0m_cache\u001b[0m\u001b[0;34m)\u001b[0m \u001b[0;34m>=\u001b[0m \u001b[0m_MAXCACHE\u001b[0m\u001b[0;34m:\u001b[0m\u001b[0;34m\u001b[0m\u001b[0m\n",
      "\u001b[0;32m/Library/Frameworks/Python.framework/Versions/3.6/lib/python3.6/sre_compile.py\u001b[0m in \u001b[0;36mcompile\u001b[0;34m(p, flags)\u001b[0m\n\u001b[1;32m    560\u001b[0m     \u001b[0;32mif\u001b[0m \u001b[0misstring\u001b[0m\u001b[0;34m(\u001b[0m\u001b[0mp\u001b[0m\u001b[0;34m)\u001b[0m\u001b[0;34m:\u001b[0m\u001b[0;34m\u001b[0m\u001b[0m\n\u001b[1;32m    561\u001b[0m         \u001b[0mpattern\u001b[0m \u001b[0;34m=\u001b[0m \u001b[0mp\u001b[0m\u001b[0;34m\u001b[0m\u001b[0m\n\u001b[0;32m--> 562\u001b[0;31m         \u001b[0mp\u001b[0m \u001b[0;34m=\u001b[0m \u001b[0msre_parse\u001b[0m\u001b[0;34m.\u001b[0m\u001b[0mparse\u001b[0m\u001b[0;34m(\u001b[0m\u001b[0mp\u001b[0m\u001b[0;34m,\u001b[0m \u001b[0mflags\u001b[0m\u001b[0;34m)\u001b[0m\u001b[0;34m\u001b[0m\u001b[0m\n\u001b[0m\u001b[1;32m    563\u001b[0m     \u001b[0;32melse\u001b[0m\u001b[0;34m:\u001b[0m\u001b[0;34m\u001b[0m\u001b[0m\n\u001b[1;32m    564\u001b[0m         \u001b[0mpattern\u001b[0m \u001b[0;34m=\u001b[0m \u001b[0;32mNone\u001b[0m\u001b[0;34m\u001b[0m\u001b[0m\n",
      "\u001b[0;32m/Library/Frameworks/Python.framework/Versions/3.6/lib/python3.6/sre_parse.py\u001b[0m in \u001b[0;36mparse\u001b[0;34m(str, flags, pattern)\u001b[0m\n\u001b[1;32m    863\u001b[0m         \u001b[0mp\u001b[0m \u001b[0;34m=\u001b[0m \u001b[0m_parse_sub\u001b[0m\u001b[0;34m(\u001b[0m\u001b[0msource\u001b[0m\u001b[0;34m,\u001b[0m \u001b[0mpattern\u001b[0m\u001b[0;34m,\u001b[0m \u001b[0;32mTrue\u001b[0m\u001b[0;34m,\u001b[0m \u001b[0;36m0\u001b[0m\u001b[0;34m)\u001b[0m\u001b[0;34m\u001b[0m\u001b[0m\n\u001b[1;32m    864\u001b[0m \u001b[0;34m\u001b[0m\u001b[0m\n\u001b[0;32m--> 865\u001b[0;31m     \u001b[0mp\u001b[0m\u001b[0;34m.\u001b[0m\u001b[0mpattern\u001b[0m\u001b[0;34m.\u001b[0m\u001b[0mflags\u001b[0m \u001b[0;34m=\u001b[0m \u001b[0mfix_flags\u001b[0m\u001b[0;34m(\u001b[0m\u001b[0mstr\u001b[0m\u001b[0;34m,\u001b[0m \u001b[0mp\u001b[0m\u001b[0;34m.\u001b[0m\u001b[0mpattern\u001b[0m\u001b[0;34m.\u001b[0m\u001b[0mflags\u001b[0m\u001b[0;34m)\u001b[0m\u001b[0;34m\u001b[0m\u001b[0m\n\u001b[0m\u001b[1;32m    866\u001b[0m \u001b[0;34m\u001b[0m\u001b[0m\n\u001b[1;32m    867\u001b[0m     \u001b[0;32mif\u001b[0m \u001b[0msource\u001b[0m\u001b[0;34m.\u001b[0m\u001b[0mnext\u001b[0m \u001b[0;32mis\u001b[0m \u001b[0;32mnot\u001b[0m \u001b[0;32mNone\u001b[0m\u001b[0;34m:\u001b[0m\u001b[0;34m\u001b[0m\u001b[0m\n",
      "\u001b[0;32m/Library/Frameworks/Python.framework/Versions/3.6/lib/python3.6/sre_parse.py\u001b[0m in \u001b[0;36mfix_flags\u001b[0;34m(src, flags)\u001b[0m\n\u001b[1;32m    830\u001b[0m     \u001b[0;32mif\u001b[0m \u001b[0misinstance\u001b[0m\u001b[0;34m(\u001b[0m\u001b[0msrc\u001b[0m\u001b[0;34m,\u001b[0m \u001b[0mstr\u001b[0m\u001b[0;34m)\u001b[0m\u001b[0;34m:\u001b[0m\u001b[0;34m\u001b[0m\u001b[0m\n\u001b[1;32m    831\u001b[0m         \u001b[0;32mif\u001b[0m \u001b[0mflags\u001b[0m \u001b[0;34m&\u001b[0m \u001b[0mSRE_FLAG_LOCALE\u001b[0m\u001b[0;34m:\u001b[0m\u001b[0;34m\u001b[0m\u001b[0m\n\u001b[0;32m--> 832\u001b[0;31m             \u001b[0;32mraise\u001b[0m \u001b[0mValueError\u001b[0m\u001b[0;34m(\u001b[0m\u001b[0;34m\"cannot use LOCALE flag with a str pattern\"\u001b[0m\u001b[0;34m)\u001b[0m\u001b[0;34m\u001b[0m\u001b[0m\n\u001b[0m\u001b[1;32m    833\u001b[0m         \u001b[0;32mif\u001b[0m \u001b[0;32mnot\u001b[0m \u001b[0mflags\u001b[0m \u001b[0;34m&\u001b[0m \u001b[0mSRE_FLAG_ASCII\u001b[0m\u001b[0;34m:\u001b[0m\u001b[0;34m\u001b[0m\u001b[0m\n\u001b[1;32m    834\u001b[0m             \u001b[0mflags\u001b[0m \u001b[0;34m|=\u001b[0m \u001b[0mSRE_FLAG_UNICODE\u001b[0m\u001b[0;34m\u001b[0m\u001b[0m\n",
      "\u001b[0;31mValueError\u001b[0m: cannot use LOCALE flag with a str pattern"
     ]
    }
   ],
   "source": [
    "import re\n",
    "content = r'''\n",
    "Hello is a hello world\n",
    "'''\n",
    "# 正则表达式\n",
    "regex = r'(?L)hell'     # L在Python3.6 不能再字符串模式中使用\n",
    "# 匹配方式\n",
    "result = re.findall(regex, content)\n",
    "print(result)"
   ]
  },
  {
   "cell_type": "markdown",
   "metadata": {},
   "source": [
    "3. 多行（m）匹配方式"
   ]
  },
  {
   "cell_type": "code",
   "execution_count": null,
   "metadata": {},
   "outputs": [],
   "source": [
    "import re\n",
    "content = r'''This is a dog\n",
    "Those are fox\n",
    "'''\n",
    "regex = r'(?m)^Th'  \n",
    "result = re.findall(regex, content)\n",
    "print(result)\n",
    "\n",
    "regex = r'(?m).o.$'  \n",
    "result = re.findall(regex, content)\n",
    "print(result)\n",
    "\n",
    "regex = r'^Th'  \n",
    "result = re.findall(regex, content)\n",
    "print(result)\n",
    "\n",
    "regex = r'.o.$'  \n",
    "result = re.findall(regex, content)\n",
    "print(result)"
   ]
  },
  {
   "cell_type": "markdown",
   "metadata": {},
   "source": [
    "4. DOT匹配任何字符（s）匹配方式"
   ]
  },
  {
   "cell_type": "code",
   "execution_count": null,
   "metadata": {},
   "outputs": [],
   "source": [
    "import re\n",
    "content = r'''\n",
    "!@#$%^&*()\n",
    "'''\n",
    "regex = r'(?s).'  \n",
    "result = re.findall(regex, content)\n",
    "print(result)\n",
    "\n",
    "regex = r'.'     #不匹配空格，包括换行\n",
    "result = re.findall(regex, content)\n",
    "print(result)"
   ]
  },
  {
   "cell_type": "markdown",
   "metadata": {},
   "source": [
    "5. 冗余（x）匹配方式"
   ]
  },
  {
   "cell_type": "code",
   "execution_count": null,
   "metadata": {},
   "outputs": [],
   "source": [
    "import re\n",
    "content = r'''\n",
    "Hello World\n",
    "This is Python Regular Expression\n",
    "'''\n",
    "regex = r'(?x)o\\ W'      # 去掉(?x)，去掉空格前的\\测试\n",
    "result = re.findall(regex, content)\n",
    "print(result)\n",
    "\n",
    "regex = r'''(?x)Hell\n",
    "        .*        # 匹配任意符号\n",
    "        ld      # 结束\n",
    "        '''      \n",
    "result = re.findall(regex, content)\n",
    "print(result)    # 在正则表达式中，忽略空白与#注释"
   ]
  },
  {
   "cell_type": "markdown",
   "metadata": {},
   "source": [
    "6. 使用unicode编码（u）匹配方式"
   ]
  },
  {
   "cell_type": "code",
   "execution_count": null,
   "metadata": {},
   "outputs": [],
   "source": [
    "import re\n",
    "content = r'''\n",
    "我是中国人\n",
    "This is Python Regular Expression\n",
    "'''\n",
    "regex = r'(?u)\\b..\\b'      # 去掉(?x)，去掉空格前的\\测试\n",
    "result = re.findall(regex, content)\n",
    "print(result)\n",
    "\n",
    "# 使用unicode指定的属性"
   ]
  },
  {
   "cell_type": "markdown",
   "metadata": {},
   "source": [
    "### 匹配条件\n",
    "        \n",
    "        语法：\n",
    "                \n",
    "                (?=...)  判定模式后面是否有匹配，但不消费匹配字符串，就是不改变匹配位置。\n",
    "                (?!...)   判定模式后面没有匹配。\n",
    "                (?<=...) 判定模式前面有匹配。\n",
    "                (?<!...) 判定模式前面没有匹配。\n",
    "                (?(id/name)yes|no) 如果分组ID或者name存在，则匹配yes，否则匹配no"
   ]
  },
  {
   "cell_type": "markdown",
   "metadata": {},
   "source": [
    "1.  (?=...)  与 (?!...) "
   ]
  },
  {
   "cell_type": "code",
   "execution_count": null,
   "metadata": {},
   "outputs": [],
   "source": [
    "import re\n",
    "content = r'''the url is baidu.comwww,  it is a website'''\n",
    "regex = r'(?=.com)(...)'      # 匹配到.com的位置，并开始处理（就是字符串后面有.com，然后开始匹配）\n",
    "result = re.findall(regex, content)\n",
    "print(result)\n",
    "\n",
    "regex = r'(?!.com)(..)'     # 注意两个两个字符匹配，到.com的位置，跳过.，从c开始继续匹配，不是跳过.com\n",
    "result = re.findall(regex, content)\n",
    "print(result)\n",
    "\n"
   ]
  },
  {
   "cell_type": "markdown",
   "metadata": {},
   "source": [
    "2.  (?<=...)与 (?<!...)"
   ]
  },
  {
   "cell_type": "code",
   "execution_count": null,
   "metadata": {},
   "outputs": [],
   "source": [
    "import re\n",
    "content = r'''the url is baidu.comwww,  it is a website'''\n",
    "regex = r'(?<=.com)(...)'      # 被处理的字符串前面有.com才开始匹配操作\n",
    "result = re.findall(regex, content)\n",
    "print(result)\n",
    "\n",
    "regex = r'(?<!.com)(..)'     # 被处理字符串前面没有.com才开始匹配操作，注意www的第一个w被跳过，因为他前面有.com\n",
    "result = re.findall(regex, content)\n",
    "print(result)"
   ]
  },
  {
   "cell_type": "markdown",
   "metadata": {},
   "source": [
    "3.  (?(id/name)yes|no) "
   ]
  },
  {
   "cell_type": "code",
   "execution_count": null,
   "metadata": {},
   "outputs": [],
   "source": [
    "import re\n",
    "content = r'''025-88888888'''\n",
    "regex = r'(?P<tel>0\\d{2}-)(?(tel)\\d{8})'      \n",
    "# 匹配区号，再判定区号是否存在，如果存在还要匹配8个电话号码，最后返回是前面的匹配模式\n",
    "result = re.findall(regex, content)\n",
    "print(result)\n",
    "\n",
    "# 编号引用(引用不要使用\\)\n",
    "regex = r'(0\\d{2}-)(?(1)\\d{8})'      \n",
    "# 匹配区号，再判定区号是否存在，如果存在还要匹配8个电话号码，最后返回是前面的匹配模式\n",
    "result = re.findall(regex, content)\n",
    "print(result)"
   ]
  },
  {
   "cell_type": "markdown",
   "metadata": {},
   "source": [
    "# 模块re的编程应用"
   ]
  },
  {
   "cell_type": "markdown",
   "metadata": {},
   "source": [
    "## 获取re的帮助\n",
    "\n",
    "        \n",
    "        通过python的help获取的有：\n",
    "        1. 正则表达式的帮助\n",
    "        2. 功能函数\n",
    "        3. re模块中的常量\n",
    "        "
   ]
  },
  {
   "cell_type": "code",
   "execution_count": null,
   "metadata": {},
   "outputs": [],
   "source": [
    "import re\n",
    "help(re)\n"
   ]
  },
  {
   "cell_type": "markdown",
   "metadata": {},
   "source": [
    "## re模块提供的正则表达式语法帮助"
   ]
  },
  {
   "cell_type": "markdown",
   "metadata": {},
   "source": [
    "The special characters are:\n",
    "\n",
    "\n",
    "        \".\"      Matches any character except a newline.\n",
    "        \"^\"      Matches the start of the string.\n",
    "        \"$\"      Matches the end of the string or just before the newline at\n",
    "                 the end of the string.\n",
    "        \"*\"      Matches 0 or more (greedy) repetitions of the preceding RE.\n",
    "                 Greedy means that it will match as many repetitions as possible.\n",
    "        \"+\"      Matches 1 or more (greedy) repetitions of the preceding RE.\n",
    "        \"?\"      Matches 0 or 1 (greedy) of the preceding RE.\n",
    "        *?,+?,?? Non-greedy versions of the previous three special characters.\n",
    "        {m,n}    Matches from m to n repetitions of the preceding RE.\n",
    "        {m,n}?   Non-greedy version of the above.\n",
    "        \"\\\\\"     Either escapes special characters or signals a special sequence.\n",
    "        []       Indicates a set of characters.\n",
    "                 A \"^\" as the first character indicates a complementing set.\n",
    "        \"|\"      A|B, creates an RE that will match either A or B.\n",
    "        (...)    Matches the RE inside the parentheses.\n",
    "                 The contents can be retrieved or matched later in the string.\n",
    "        (?aiLmsux) Set the A, I, L, M, S, U, or X flag for the RE (see below).\n",
    "        (?:...)  Non-grouping version of regular parentheses.\n",
    "        (?P<name>...) The substring matched by the group is accessible by name.\n",
    "        (?P=name)     Matches the text matched earlier by the group named name.\n",
    "        (?#...)  A comment; ignored.\n",
    "        (?=...)  Matches if ... matches next, but doesn't consume the string.\n",
    "        (?!...)  Matches if ... doesn't match next.\n",
    "        (?<=...) Matches if preceded by ... (must be fixed length).\n",
    "        (?<!...) Matches if not preceded by ... (must be fixed length).\n",
    "        (?(id/name)yes|no) Matches yes pattern if the group with id/name matched,\n",
    "                           the (optional) no pattern otherwise.\n",
    "    \n",
    "    The special sequences consist of \"\\\\\" and a character from the list\n",
    "    below.  If the ordinary character is not on the list, then the\n",
    "    resulting RE will match the second character.\n",
    "        \\number  Matches the contents of the group of the same number.\n",
    "        \\A       Matches only at the start of the string.\n",
    "        \\Z       Matches only at the end of the string.\n",
    "        \\b       Matches the empty string, but only at the start or end of a word.\n",
    "        \\B       Matches the empty string, but not at the start or end of a word.\n",
    "        \\d       Matches any decimal digit; equivalent to the set [0-9] in\n",
    "                 bytes patterns or string patterns with the ASCII flag.\n",
    "                 In string patterns without the ASCII flag, it will match the whole\n",
    "                 range of Unicode digits.\n",
    "        \\D       Matches any non-digit character; equivalent to [^\\d].\n",
    "        \\s       Matches any whitespace character; equivalent to [ \\t\\n\\r\\f\\v] in\n",
    "                 bytes patterns or string patterns with the ASCII flag.\n",
    "                 In string patterns without the ASCII flag, it will match the whole\n",
    "                 range of Unicode whitespace characters.\n",
    "        \\S       Matches any non-whitespace character; equivalent to [^\\s].\n",
    "        \\w       Matches any alphanumeric character; equivalent to [a-zA-Z0-9_]\n",
    "                 in bytes patterns or string patterns with the ASCII flag.\n",
    "                 In string patterns without the ASCII flag, it will match the\n",
    "                 range of Unicode alphanumeric characters (letters plus digits\n",
    "                 plus underscore).\n",
    "                 With LOCALE, it will match the set [0-9_] plus characters defined\n",
    "                 as letters for the current locale.\n",
    "        \\W       Matches the complement of \\w.\n",
    "        \\\\       Matches a literal backslash."
   ]
  },
  {
   "cell_type": "code",
   "execution_count": null,
   "metadata": {},
   "outputs": [],
   "source": []
  },
  {
   "cell_type": "markdown",
   "metadata": {},
   "source": [
    "## re模块提供的功能函数；"
   ]
  },
  {
   "cell_type": "markdown",
   "metadata": {},
   "source": [
    "   This module exports the following functions:\n",
    "   \n",
    "   \n",
    "        match     Match a regular expression pattern to the beginning of a string.\n",
    "        fullmatch Match a regular expression pattern to all of a string.\n",
    "        search    Search a string for the presence of a pattern.\n",
    "        sub       Substitute occurrences of a pattern found in a string.\n",
    "        subn      Same as sub, but also return the number of substitutions made.\n",
    "        split     Split a string by the occurrences of a pattern.\n",
    "        findall   Find all occurrences of a pattern in a string.\n",
    "        finditer  Return an iterator yielding a match object for each match.\n",
    "        compile   Compile a pattern into a RegexObject.\n",
    "        purge     Clear the regular expression cache.\n",
    "        escape    Backslash all non-alphanumerics in a string."
   ]
  },
  {
   "cell_type": "markdown",
   "metadata": {},
   "source": [
    "## findall功能\n",
    "\n",
    "        findall(pattern, string, flags=0)\n",
    "        参数：\n",
    "                pattern：正则表达式；\n",
    "                \n",
    "                string：被匹配的字符串内容；\n",
    "                \n",
    "                flags：匹配方式；\n",
    "                \n",
    "        返回：\n",
    "                返回的匹配成功的字符串list，\n",
    "                \n",
    "        flags参数指定的匹配方式包含：\n",
    "                A  ASCII        下面模式使用ASCII：\\w, \\W, \\b, \\B, \\d, \\D；\n",
    "\n",
    "                I  IGNORECASE  大小写不敏感；\n",
    "                \n",
    "                L  LOCALE      下面实时依赖当前设置的本地字符集设置：\\w, \\W, \\b, \\B；\n",
    "                \n",
    "                M  MULTILINE   \"^\" \"$\"对每行匹配；\n",
    "                \n",
    "                S  DOTALL      \".\" 匹配所有字符，包含换行字符；\n",
    "                \n",
    "                X  VERBOSE     忽略空格与#注释（正则表达式中可以使用#来注释）\n",
    "                \n",
    "         flags可以设置的参数为：\n",
    "         \n",
    "\n",
    "参数|参数值\n",
    "-|-\n",
    "A | <RegexFlag.ASCII: 256>\n",
    "ASCII | <RegexFlag.ASCII: 256>\n",
    "S | <RegexFlag.DOTALL: 16>\n",
    "DOTALL | <RegexFlag.DOTALL: 16>\n",
    "I | <RegexFlag.IGNORECASE: 2>\n",
    "IGNORECASE | <RegexFlag.IGNORECASE: 2>\n",
    "L | <RegexFlag.LOCALE: 4>\n",
    "LOCALE | <RegexFlag.LOCALE: 4>\n",
    "M | <RegexFlag.MULTILINE: 8>\n",
    "MULTILINE | <RegexFlag.MULTILINE: 8>\n",
    "U | <RegexFlag.UNICODE: 32>\n",
    "UNICODE | <RegexFlag.UNICODE: 32>\n",
    "VERBOSE | <RegexFlag.VERBOSE: 64>\n",
    "X | <RegexFlag.VERBOSE: 64>\n",
    "        \n",
    "        参数使用：re.A或者re.ASCII\n",
    "        \n",
    "        该功能应用场景是：提取字符串中需要的数据，使用正则表达式描述需要提供的字符串。比如在网络爬虫中，提取用户需要的信息。\n",
    "        "
   ]
  },
  {
   "cell_type": "markdown",
   "metadata": {},
   "source": [
    "1. findall理解例子"
   ]
  },
  {
   "cell_type": "code",
   "execution_count": null,
   "metadata": {},
   "outputs": [],
   "source": [
    "import re\n",
    "# 打开文件\n",
    "f = open('trainmodel.py', 'r')\n",
    "content = f.read()\n",
    "regex = r'(?m)(\\b\\w{3,7}\\b)'     # 抽取3到7格字符的单词()\n",
    "result = re.findall(regex, content)\n",
    "print(result)   # 返回是抽取的内容列表\n",
    "\n",
    "regex = r'(\\b[\\u4e00-\\u9fa5]+\\b)'     # 所有汉字\n",
    "result = re.findall(regex, content, re.M)   # 多行模式\n",
    "print(result)"
   ]
  },
  {
   "cell_type": "markdown",
   "metadata": {},
   "source": [
    "2. findall应用例子\n",
    "\n",
    "        任务：下载一个页面，找出其中所有的图片链接，并下载图片。"
   ]
  },
  {
   "cell_type": "code",
   "execution_count": null,
   "metadata": {},
   "outputs": [],
   "source": [
    "import re\n",
    "import requests\n",
    "import os\n",
    "import cv2\n",
    "import numpy as np\n",
    "\n",
    "url = 'http://www.huanqiu.com'\n",
    "session = requests.Session()\n",
    "response = session.get(url)\n",
    "content = response.content.decode('UTF-8')\n",
    "regex = r'src=\"(\\b.*?\\.jpg\\b|\\b.*?\\.png\\b|)\"'\n",
    "result = re.findall(regex, content, re.M)   # 多行模式\n",
    "\n",
    "# 文件名正则表达式\n",
    "img_regex = r'.+/(.+)$'\n",
    "save_path = 'images'\n",
    "if not os.path.exists(save_path):\n",
    "    os.makedirs(save_path)\n",
    "    \n",
    "\n",
    "for img  in result:\n",
    "    img_content = session.get(img)\n",
    "    # print(img_content.content)\n",
    "    # 解析出文件名\n",
    "    result = re.findall(img_regex, img, re.M)   \n",
    "    buffer = cv2.imdecode(np.frombuffer(img_content.content, np.uint8), 1)    \n",
    "    # 注意不能写gif文件\n",
    "    print(os.path.join(save_path,result[0]))\n",
    "    cv2.imwrite(os.path.join(save_path,result[0]), buffer)     # 保存\n",
    "print('---over---')"
   ]
  },
  {
   "cell_type": "markdown",
   "metadata": {},
   "source": [
    "![图像](images/20190115061450527.jpg)\n"
   ]
  },
  {
   "cell_type": "markdown",
   "metadata": {},
   "source": [
    "## match功能\n",
    "\n",
    "        match(pattern, string, flags=0)\n",
    "        \n",
    "        参数：\n",
    "                pattern：正则表达式；\n",
    "                \n",
    "                string：被匹配的字符串内容；\n",
    "                \n",
    "                flags：匹配方式；\n",
    "                \n",
    "        返回：\n",
    "                从字符串的起始位置匹配一个模式。\n",
    "                如果不是起始位置匹配成功的话，match()就返回None。\n",
    "                匹配成功返回SRE_Match对象。\n",
    "                \n",
    "        注意：\n",
    "                即使把匹配方式设置为re.M，match也是从字符串开始位置匹配，不受re.M影响。"
   ]
  },
  {
   "cell_type": "markdown",
   "metadata": {},
   "source": [
    "### match函数的使用"
   ]
  },
  {
   "cell_type": "code",
   "execution_count": null,
   "metadata": {},
   "outputs": [],
   "source": [
    "import re\n",
    "# 打开文件\n",
    "f = open('trainmodel.py', 'r')\n",
    "content = f.read()\n",
    "regex = r'(?m)#'     # 所有汉字\n",
    "result = re.match(regex, content, re.M)   # 多行模式\n",
    "print(result.group())"
   ]
  },
  {
   "cell_type": "markdown",
   "metadata": {},
   "source": [
    "### match对象的帮助"
   ]
  },
  {
   "cell_type": "code",
   "execution_count": null,
   "metadata": {
    "scrolled": true
   },
   "outputs": [],
   "source": [
    "import re\n",
    "# 打开文件\n",
    "f = open('trainmodel.py', 'r')\n",
    "content = f.read()\n",
    "regex = r'(?m)#'     # 所有汉字\n",
    "result = re.match(regex, content, re.M)   # 多行模式\n",
    "print(dir(result))\n",
    "help(result)"
   ]
  },
  {
   "cell_type": "markdown",
   "metadata": {},
   "source": [
    "        从help输出中拷贝的结果。\n",
    "\n",
    "\n",
    "        class SRE_Match(builtins.object)\n",
    "         |  The result of re.match() and re.search().\n",
    "         |  Match objects always have a boolean value of True.\n",
    "         |  \n",
    "         |  Methods defined here:\n",
    "         |  \n",
    "         |  __copy__(self, /)\n",
    "         |  \n",
    "         |  __deepcopy__(self, /, memo)\n",
    "         |  \n",
    "         |  __getitem__(self, key, /)\n",
    "         |      Return self[key].\n",
    "         |  \n",
    "         |  __repr__(self, /)\n",
    "         |      Return repr(self).\n",
    "         |  \n",
    "         |  end(self, group=0, /)\n",
    "         |      Return index of the end of the substring matched by group.\n",
    "         |  \n",
    "         |  expand(self, /, template)\n",
    "         |      Return the string obtained by doing backslash substitution on the string template, as done by the sub() method.\n",
    "         |  \n",
    "         |  group(...)\n",
    "         |      group([group1, ...]) -> str or tuple.\n",
    "         |      Return subgroup(s) of the match by indices or names.\n",
    "         |      For 0 returns the entire match.\n",
    "         |  \n",
    "         |  groupdict(self, /, default=None)\n",
    "         |      Return a dictionary containing all the named subgroups of the match, keyed by the subgroup name.\n",
    "         |      \n",
    "         |      default\n",
    "         |        Is used for groups that did not participate in the match.\n",
    "         |  \n",
    "         |  groups(self, /, default=None)\n",
    "         |      Return a tuple containing all the subgroups of the match, from 1.\n",
    "         |      \n",
    "         |      default\n",
    "         |        Is used for groups that did not participate in the match.\n",
    "         |  \n",
    "         |  span(self, group=0, /)\n",
    "         |      For MatchObject m, return the 2-tuple (m.start(group), m.end(group)).\n",
    "         |  \n",
    "         |  start(self, group=0, /)\n",
    "         |      Return index of the start of the substring matched by group.\n",
    "         |  \n",
    "         |  ----------------------------------------------------------------------\n",
    "         |  Data descriptors defined here:\n",
    "         |  \n",
    "         |  endpos\n",
    "         |  \n",
    "         |  lastgroup\n",
    "         |  \n",
    "         |  lastindex\n",
    "         |  \n",
    "         |  pos\n",
    "         |  \n",
    "         |  re\n",
    "         |  \n",
    "         |  regs\n",
    "         |  \n",
    "         |  string"
   ]
  },
  {
   "cell_type": "markdown",
   "metadata": {},
   "source": [
    "### match对象的数据说明\n",
    "        \n",
    "        pos：匹配的开始位置\n",
    "        endpos：匹配的结束位置（一般就是string的长度）\n",
    "        string：匹配的字符串\n",
    "        re：正则表达式对象\n",
    "        regs：匹配成功后的开始与结束位置，是一个列表，列表中每个元素两个值（开始位置，结束位置）\n",
    "        lastgroup：最后匹配成功的分组，在match中为None\n",
    "        lastindex：最后匹配成功的索引，在match中为None"
   ]
  },
  {
   "cell_type": "markdown",
   "metadata": {},
   "source": [
    "        下面是match数据对象使用的例子"
   ]
  },
  {
   "cell_type": "code",
   "execution_count": null,
   "metadata": {},
   "outputs": [],
   "source": [
    "import re\n",
    "# 打开文件\n",
    "content = '''import re\n",
    "import os\n",
    "'''\n",
    "regex = r'(?m)import'     # 所有汉字\n",
    "result = re.match(regex, content, re.M)   # 多行模式\n",
    "print('pos:', result.pos)\n",
    "print('endpos:', result.endpos)     # string的长度\n",
    "print('len(string):', len(result.string))   # match函数的第二个参数的输入数据\n",
    "print('re:', result.re)    # 正则表达式的编译对象\n",
    "print('regs:', result.regs) \n",
    "print('lastgroup:', result.lastgroup) \n",
    "print('lastindex:', result.lastindex) \n"
   ]
  },
  {
   "cell_type": "markdown",
   "metadata": {},
   "source": [
    "### match对象的方法说明\n",
    "        1. end(self, group=0, /)\n",
    "            参数：group指定开始的组的位置，默认是0（第一个位置，不是组的索引）\n",
    "            返回：返回匹配成功的组的结束的索引\n",
    "         \n",
    "        2. expand(self, /, template)\n",
    "            参数：template是一个字符串模板。\n",
    "            返回template使用反斜线'\\'替代后的字符串\n",
    "        \n",
    "        3. group(...)\n",
    "             参数：组的下标或者组名。如果是0，则返回所有匹配的组。\n",
    "             返回匹配的组，组的类型是str(没有分组的情况下，直接返回字符串)或者元组（由group的参数决定，参数是原则或者列表，就返回字符串的元组）。\n",
    "\n",
    "         4. groupdict(self, /, default=None)\n",
    "             参数： default可以指定缺省值，如果没有参与匹配，则返回缺省值。\n",
    "             返回：返回所有匹配的命名组的字典，字典的key就是组名。\n",
    "\n",
    "         5. groups(self, /, default=None)\n",
    "              参数： default可以指定缺省值，如果没有参与匹配，则返回缺省值。\n",
    "              返回：返回类型是元组，包含所有匹配成功的组。\n",
    "\n",
    "         6. span(self, group=0, /)\n",
    "             参数：group指定开始的组的位置，默认是0（第一个位置，不是组的索引）\n",
    "             返回：2-tuple (m.start(group), m.end(group)).\n",
    " \n",
    "         7. start(self, group=0, /)\n",
    "             参数：group指定开始的组的位置，默认是0（第一个位置，不是组的索引）\n",
    "             返回：返回匹配成功的组的开始的索引"
   ]
  },
  {
   "cell_type": "markdown",
   "metadata": {},
   "source": [
    "        下面是match对象方法使用的例子：（match没有组的情况）"
   ]
  },
  {
   "cell_type": "code",
   "execution_count": null,
   "metadata": {},
   "outputs": [],
   "source": [
    "import re\n",
    "# 打开文件\n",
    "content = '''import re\n",
    "import os\n",
    "'''\n",
    "regex = r'(?m)import'     # 所有汉字\n",
    "result = re.match(regex, content, re.M)   # 多行模式\n",
    "print('start：', result.start())\n",
    "print('end：', result.end())\n",
    "print('span：', result.span())\n",
    "print('groups：', result.groups())\n",
    "print('groupdict：', result.groupdict())\n",
    "print('group：', result.group())\n",
    "print('expand：', result.expand(r'''\\\\\\w'''))\n"
   ]
  },
  {
   "cell_type": "markdown",
   "metadata": {},
   "source": [
    "## search功能\n",
    "        \n",
    "        search(pattern, string, flags=0)\n",
    "        参数：\n",
    "            pattern：正则表达式\n",
    "            string：需要处理的字符串\n",
    "            flags：匹配的方式\n",
    "        \n",
    "        返回：\n",
    "            扫描整个需要处理的字符串，并使用匹配对象返回所有匹配成功数据。\n",
    "            如果没有匹配成功，则返回None。\n",
    "        \n",
    "        下面是search的使用例子："
   ]
  },
  {
   "cell_type": "code",
   "execution_count": null,
   "metadata": {},
   "outputs": [],
   "source": [
    "import re\n",
    "# 打开文件\n",
    "f = open('trainmodel.py', 'r')\n",
    "content = f.read()\n",
    "regex = r'(?m)(?P<m1>\\bim(?P<m2>port)\\b)' \n",
    "result = re.search(regex, content, re.M)   # 多行模式\n",
    "print(result.group())\n",
    "print(result)\n",
    "\n",
    "print('start：', result.start())\n",
    "print('end：', result.end())\n",
    "print('span：', result.span())\n",
    "print('groups：', result.groups())\n",
    "print('groupdict：', result.groupdict())     # 只提供有名分组的返回。\n",
    "print('group：', result.group(2))\n",
    "print('expand：', result.expand(r'''\\\\'''))\n",
    "\n",
    "print('pos:', result.pos)\n",
    "print('endpos:', result.endpos)     # string的长度\n",
    "print('len(string):', len(result.string))   # match函数的第二个参数的输入数据\n",
    "print('re:', result.re)    # 正则表达式的编译对象\n",
    "print('regs:', result.regs) \n",
    "print('lastgroup:', result.lastgroup) \n",
    "print('lastindex:', result.lastindex) "
   ]
  },
  {
   "cell_type": "markdown",
   "metadata": {},
   "source": [
    "## complie功能\n",
    "        \n",
    "        compile(pattern, flags=0)\n",
    "        \n",
    "        参数：\n",
    "                pattern：正则表达式对象；\n",
    "        返回：\n",
    "                返回一个正则表达式对象（也称：模式对象）。"
   ]
  },
  {
   "cell_type": "markdown",
   "metadata": {},
   "source": [
    "### complie函授的使用"
   ]
  },
  {
   "cell_type": "code",
   "execution_count": null,
   "metadata": {},
   "outputs": [],
   "source": [
    "import re\n",
    "regex = r'(?m)(?P<m1>\\bim(?P<m2>port)\\b)' \n",
    "com = re.compile(regex, re.M)\n",
    "print(com)"
   ]
  },
  {
   "cell_type": "markdown",
   "metadata": {},
   "source": [
    "### 正则表达式对象的帮助"
   ]
  },
  {
   "cell_type": "code",
   "execution_count": null,
   "metadata": {},
   "outputs": [],
   "source": [
    "import re\n",
    "regex = r'(?m)(?P<m1>\\bim(?P<m2>port)\\b)' \n",
    "reg = re.compile(regex, re.M)\n",
    "help(reg) "
   ]
  },
  {
   "cell_type": "markdown",
   "metadata": {},
   "source": [
    "### 正则表达式的数据说明\n",
    "\n",
    "         flags\n",
    "            匹配方式；\n",
    "            \n",
    "        groupindex\n",
    "             组名到组索引的映射字典；\n",
    "  \n",
    "         groups\n",
    "             分组的个数；\n",
    " \n",
    "         pattern\n",
    "             正则表达式；"
   ]
  },
  {
   "cell_type": "code",
   "execution_count": null,
   "metadata": {},
   "outputs": [],
   "source": [
    "import re\n",
    "regex = r'(?m)(?P<m1>\\bim(?P<m2>port)\\b)' \n",
    "reg = re.compile(regex, re.M)\n",
    "print(reg.flags)\n",
    "print(reg.groupindex)\n",
    "print(reg.groups)\n",
    "print(reg.pattern)"
   ]
  },
  {
   "cell_type": "markdown",
   "metadata": {},
   "source": [
    "### 正则表达式的方法说明\n",
    "\n",
    "         |  findall(self, /, string=None, pos=0, endpos=9223372036854775807, *, source=None)\n",
    "         |      返回所有匹配结果的列表。\n",
    "         |  \n",
    "         |  finditer(self, /, string, pos=0, endpos=9223372036854775807)\n",
    "         |      返回所有匹配结果的迭代器。迭代器返回的是一个匹配对象。\n",
    "         |      \n",
    "         |  fullmatch(self, /, string=None, pos=0, endpos=9223372036854775807, *, pattern=None)\n",
    "         |      与所有字符串匹配\n",
    "         |  \n",
    "         |  match(self, /, string=None, pos=0, endpos=9223372036854775807, *, pattern=None)\n",
    "         |      匹配字符喜欢开始的0个或者多个字符。\n",
    "         |  \n",
    "         |  scanner(self, /, string, pos=0, endpos=9223372036854775807)\n",
    "         |  \n",
    "         |  search(self, /, string=None, pos=0, endpos=9223372036854775807, *, pattern=None)\n",
    "         |      返回第一个匹配成功的结果，返回类型是match类型对象。\n",
    "         |      如果没有匹配返回None。\n",
    "         |  \n",
    "         |  split(self, /, string=None, maxsplit=0, *, source=None)\n",
    "         |      按照匹配模式分割字符串。\n",
    "         |  \n",
    "         |  sub(self, /, repl, string, count=0)\n",
    "         |      返回被替换的字符串。只要匹配成功的字符串都被替换。\n",
    "         |  \n",
    "         |  subn(self, /, repl, string, count=0)\n",
    "                 返回被替换的字符串与被替换的次数，返回类型是一个元组。只要匹配成功的字符串都被替换"
   ]
  },
  {
   "cell_type": "markdown",
   "metadata": {},
   "source": [
    "1. findall与finditer方法"
   ]
  },
  {
   "cell_type": "code",
   "execution_count": null,
   "metadata": {},
   "outputs": [],
   "source": [
    "import re\n",
    "regex = r'((025-)(?=\\d{8})\\d{8})'     # 025-后面是8位数字的才匹配\n",
    "reg = re.compile(regex, re.M)\n",
    "\n",
    "string='''\n",
    "请联系我，我的电话是025-88888888，\n",
    "你的手机号码是多少？是13888888888？我保存你的号码一下。\n",
    "'''\n",
    "result = reg.findall(string=string, pos=3)\n",
    "print(result)\n",
    "\n",
    "result = reg.finditer(string=string, pos=3)\n",
    "print(result)\n",
    "print([item for item in result])\n"
   ]
  },
  {
   "cell_type": "markdown",
   "metadata": {},
   "source": [
    "2. fullmatch与match方法"
   ]
  },
  {
   "cell_type": "code",
   "execution_count": null,
   "metadata": {},
   "outputs": [],
   "source": [
    "import re\n",
    "regex = r'[\\u4e00-\\u9fa5]+'     # 汉字\n",
    "reg = re.compile(regex, re.M)\n",
    "\n",
    "string='''请联系我，我的电话是025-88888888，\n",
    "你的手机号码是多少？是13888888888？我保存你的号码一下。\n",
    "'''\n",
    "result = reg.match(string=string, pos=0)   # 匹配开始位置\n",
    "print(result)"
   ]
  },
  {
   "cell_type": "code",
   "execution_count": null,
   "metadata": {},
   "outputs": [],
   "source": [
    "import re\n",
    "regex = r'[\\u4e00-\\u9fa5]+'     \n",
    "reg = re.compile(regex, re.M)\n",
    "\n",
    "string='''请联系我'''  # 必须全部匹配\n",
    "\n",
    "result = reg.fullmatch(string=string, pos=1)\n",
    "print(result)"
   ]
  },
  {
   "cell_type": "markdown",
   "metadata": {},
   "source": [
    "3. scanner与search方法"
   ]
  },
  {
   "cell_type": "code",
   "execution_count": null,
   "metadata": {},
   "outputs": [],
   "source": [
    "import re\n",
    "regex = r'((025-)(?=\\d{8})\\d{8})'     # 025-后面是8位数字的才匹配\n",
    "reg = re.compile(regex, re.M)\n",
    "\n",
    "string='''请联系我，我的电话是025-88888888，\n",
    "你的手机号码是多少？是13888888888？我保存你的号码一下，其他号码：025-66666666。\n",
    "'''\n",
    "result = reg.scanner(string=string, pos=0)   # 匹配开始位置\n",
    "print(result)\n",
    "help(result)"
   ]
  },
  {
   "cell_type": "code",
   "execution_count": null,
   "metadata": {},
   "outputs": [],
   "source": [
    "import re\n",
    "regex = r'((025-)(?=\\d{8})\\d{8})'     # 025-后面是8位数字的才匹配\n",
    "reg = re.compile(regex, re.M)\n",
    "\n",
    "string='''请联系我，我的电话是025-88888888，\n",
    "你的手机号码是多少？是13888888888？我保存你的号码一下，其他号码：025-66666666。\n",
    "'''\n",
    "result = reg.scanner(string=string, pos=0)   # 匹配开始位置\n",
    "print(result.search())\n",
    "\n",
    "regex =r'[\\u4e00-\\u9fa5]+'    # 汉字\n",
    "reg = re.compile(regex, re.M)\n",
    "result = reg.scanner(string=string, pos=0)   # 匹配开始位置\n",
    "print(result.match())   # 从字符串开始匹配\n",
    "print(result.pattern)"
   ]
  },
  {
   "cell_type": "code",
   "execution_count": null,
   "metadata": {},
   "outputs": [],
   "source": [
    "import re\n",
    "regex = r'((025-)(?=\\d{8})\\d{8})'     # 025-后面是8位数字的才匹配\n",
    "reg = re.compile(regex, re.M)\n",
    "\n",
    "string='''请联系我，我的电话是025-88888888，\n",
    "你的手机号码是多少？是13888888888？我保存你的号码一下，其他号码：025-66666666。\n",
    "'''\n",
    "result = reg.search(string=string, pos=0)   # 匹配开始位置\n",
    "print(result)"
   ]
  },
  {
   "cell_type": "markdown",
   "metadata": {},
   "source": [
    "4. split方法\n",
    "\n",
    "        切分字符串,返回切分好的列表。"
   ]
  },
  {
   "cell_type": "code",
   "execution_count": null,
   "metadata": {},
   "outputs": [],
   "source": [
    "import re\n",
    "regex = r'((025-)(?=\\d{8})\\d{8})'     # 025-后面是8位数字的才匹配\n",
    "reg = re.compile(regex, re.M)\n",
    "\n",
    "string='''请联系我，我的电话是025-88888888，\n",
    "你的手机号码是多少？是13888888888？我保存你的号码一下，其他号码：025-66666666。\n",
    "'''\n",
    "result = reg.split(string=string, maxsplit=0)   # 匹配开始位置\n",
    "print(result)"
   ]
  },
  {
   "cell_type": "code",
   "execution_count": null,
   "metadata": {},
   "outputs": [],
   "source": [
    "import re\n",
    "regex = r'[，？\\n]'     # 使用分隔符号分割\n",
    "reg = re.compile(regex, re.M)\n",
    "\n",
    "string='''请联系我，我的电话是025-88888888，\n",
    "你的手机号码是多少？是13888888888？我保存你的号码一下，其他号码：025-66666666。\n",
    "'''\n",
    "result = reg.split(string=string, maxsplit=0)   # 最大分割次数不限\n",
    "print(result)"
   ]
  },
  {
   "cell_type": "markdown",
   "metadata": {},
   "source": [
    "        如果想把分隔符号也列入，可以使用分组。"
   ]
  },
  {
   "cell_type": "code",
   "execution_count": null,
   "metadata": {},
   "outputs": [],
   "source": [
    "import re\n",
    "regex = r'([，？\\n])'     # 使用分隔符号分割\n",
    "reg = re.compile(regex, re.M)\n",
    "\n",
    "string='''请联系我，我的电话是025-88888888，\n",
    "你的手机号码是多少？是13888888888？我保存你的号码一下，其他号码：025-66666666。\n",
    "'''\n",
    "result = reg.split(string=string, maxsplit=3)   # 最大分割次数为3\n",
    "print(result)"
   ]
  },
  {
   "cell_type": "markdown",
   "metadata": {},
   "source": [
    "5. sub与subn方法\n",
    "        \n",
    "        字符串替换。"
   ]
  },
  {
   "cell_type": "code",
   "execution_count": null,
   "metadata": {},
   "outputs": [],
   "source": [
    "import re\n",
    "regex = r'([，？\\n])'     # 使用分隔符号分割\n",
    "reg = re.compile(regex, re.M)\n",
    "\n",
    "string='''请联系我，我的电话是025-88888888，\n",
    "你的手机号码是多少？是13888888888？我保存你的号码一下，其他号码：025-66666666。\n",
    "'''\n",
    "result = reg.sub(repl='|',string=string, count=0)   # 替换次数，0表示全部替换\n",
    "print(result)\n",
    "result = reg.subn(repl='|',string=string, count=0)   # 替换次数，0表示全部替换\n",
    "print(result)"
   ]
  },
  {
   "cell_type": "markdown",
   "metadata": {},
   "source": [
    "## split功能\n",
    "        \n",
    "        split(pattern, string, maxsplit=0, flags=0)\n",
    "        \n",
    "        返回：\n",
    "            切分好的字符串列表。\n",
    "            \n",
    "        参数：\n",
    "            maxsplit：最大切分次数，0表示切分整个字符串。\n",
    "            其他与上面介绍一样。"
   ]
  },
  {
   "cell_type": "code",
   "execution_count": null,
   "metadata": {},
   "outputs": [],
   "source": [
    "import re\n",
    "regex = r'([，？\\n])'     # 使用分隔符号分割\n",
    "\n",
    "string='''请联系我，我的电话是025-88888888，\n",
    "你的手机号码是多少？是13888888888？我保存你的号码一下，其他号码：025-66666666。\n",
    "'''\n",
    "result = re.split(pattern=regex, string=string, maxsplit=0, flags=0)\n",
    "print(result)\n"
   ]
  },
  {
   "cell_type": "markdown",
   "metadata": {},
   "source": [
    "## sub与subn功能\n",
    "        \n",
    "         sub(pattern, repl, string, count=0, flags=0)\n",
    "         \n",
    "         返回：\n",
    "                 替换以后的字符串\n",
    "         \n",
    "         参数：\n",
    "                 repl：替换字符串；\n",
    "                 count：替换次数；\n",
    "                 \n",
    "          sub(pattern, repl, string, count=0, flags=re.M)\n",
    "          返回：\n",
    "                  类型是元组，包含替换后的字符串与替换次数，如果设置count非0，则与count值一样。"
   ]
  },
  {
   "cell_type": "code",
   "execution_count": null,
   "metadata": {},
   "outputs": [],
   "source": [
    "import re\n",
    "regex = r'([，？\\n])'     # 使用分隔符号分割\n",
    "\n",
    "string='''请联系我，我的电话是025-88888888，\n",
    "你的手机号码是多少？是13888888888？我保存你的号码一下，其他号码：025-66666666。\n",
    "'''\n",
    "result = re.sub(pattern=regex, repl='<>', string=string, count=0, flags=re.M)\n",
    "print(result)\n",
    "result = re.subn(pattern=regex, repl='<>', string=string, count=0, flags=re.M)\n",
    "print(result)"
   ]
  },
  {
   "cell_type": "markdown",
   "metadata": {},
   "source": [
    "## 其他功能\n",
    "    \n",
    "        purge()\n",
    "                清除正则表达式的缓存。\n",
    "        \n",
    "        template(pattern, flags=0)\n",
    "                与compile方法一样的作用。\n",
    "                但是不是对所有语法都支持。比如不支持{}次数正则表达式语法。\n",
    "       \n",
    "        escape(pattern)\n",
    "                转义除字母，数字与下划线以外的所有字符。\n"
   ]
  },
  {
   "cell_type": "markdown",
   "metadata": {},
   "source": [
    "1. purge方法\n",
    "\n",
    "        清空缓存，回收空间。不会清除正则表达式。"
   ]
  },
  {
   "cell_type": "code",
   "execution_count": null,
   "metadata": {},
   "outputs": [],
   "source": [
    "import re\n",
    "regex = r'([，？\\n])'     # 使用分隔符号分割\n",
    "\n",
    "string='''请联系我，我的电话是025-88888888，\n",
    "你的手机号码是多少？是13888888888？我保存你的号码一下，其他号码：025-66666666。\n",
    "'''\n",
    "result = re.sub(pattern=regex, repl='<>', string=string, count=0, flags=re.M)\n",
    "print(result)\n",
    "\n",
    "re.purge()\n",
    "result = re.subn(pattern=regex, repl='<>', string=string, count=0, flags=re.M)\n",
    "print(result)"
   ]
  },
  {
   "cell_type": "markdown",
   "metadata": {},
   "source": [
    "2. temp支持\n",
    "    \n",
    "    template作用与complie一样，但支持的语法少点，某些语法不支持。"
   ]
  },
  {
   "cell_type": "code",
   "execution_count": null,
   "metadata": {},
   "outputs": [],
   "source": [
    "import re\n",
    "#regex = r'((025-)(?=\\d{8})\\d{8})'     # 025-后面是8位数字的才匹配\n",
    "regex = r'(0[1-3]5-\\d\\d\\d\\d\\d\\d\\d\\d)'    # 不支持语法{} \n",
    "reg = re.template(regex, re.M)\n",
    "\n",
    "string='''请联系我，我的电话是025-88888888，\n",
    "你的手机号码是多少？是13888888888？我保存你的号码一下，其他号码：025-66666666。\n",
    "'''\n",
    "result = reg.scanner(string=string, pos=0)   # 匹配开始位置\n",
    "print(result.search())\n"
   ]
  },
  {
   "cell_type": "markdown",
   "metadata": {},
   "source": [
    "3. escape方法\n",
    "    除了数字，字母与_，都使用转义表示。实际上是一个小工具。"
   ]
  },
  {
   "cell_type": "code",
   "execution_count": null,
   "metadata": {},
   "outputs": [],
   "source": [
    "import re\n",
    "regex = r'(0[1-3]5-\\d\\d\\d\\d\\d\\d\\d\\d)'    \n",
    "\n",
    "result = re.escape(regex)\n",
    "print(result)"
   ]
  },
  {
   "cell_type": "markdown",
   "metadata": {},
   "source": [
    "# 正则表达式与re模块应用"
   ]
  },
  {
   "cell_type": "markdown",
   "metadata": {},
   "source": [
    "## 正则表达式在文本解析中的基本操作使用；\n"
   ]
  },
  {
   "cell_type": "markdown",
   "metadata": {},
   "source": [
    "### 字符串整体匹配操作应用-match"
   ]
  },
  {
   "cell_type": "code",
   "execution_count": null,
   "metadata": {},
   "outputs": [],
   "source": []
  },
  {
   "cell_type": "markdown",
   "metadata": {},
   "source": [
    "### 内容抽取操作应用-findall"
   ]
  },
  {
   "cell_type": "code",
   "execution_count": null,
   "metadata": {},
   "outputs": [],
   "source": []
  },
  {
   "cell_type": "code",
   "execution_count": null,
   "metadata": {},
   "outputs": [],
   "source": []
  },
  {
   "cell_type": "markdown",
   "metadata": {},
   "source": [
    "### 内容搜索操作应用-search"
   ]
  },
  {
   "cell_type": "code",
   "execution_count": null,
   "metadata": {},
   "outputs": [],
   "source": []
  },
  {
   "cell_type": "markdown",
   "metadata": {},
   "source": [
    "### 文本替换操作应用-sub"
   ]
  },
  {
   "cell_type": "code",
   "execution_count": null,
   "metadata": {},
   "outputs": [],
   "source": []
  },
  {
   "cell_type": "markdown",
   "metadata": {},
   "source": [
    "### 文本切分操作应用-split"
   ]
  },
  {
   "cell_type": "code",
   "execution_count": null,
   "metadata": {},
   "outputs": [],
   "source": []
  },
  {
   "cell_type": "markdown",
   "metadata": {},
   "source": [
    "## 输入校验中的使用；\n"
   ]
  },
  {
   "cell_type": "markdown",
   "metadata": {},
   "source": [
    "### 输入数据位数校验"
   ]
  },
  {
   "cell_type": "code",
   "execution_count": null,
   "metadata": {},
   "outputs": [],
   "source": []
  },
  {
   "cell_type": "markdown",
   "metadata": {},
   "source": [
    "### 输入数据类型校验"
   ]
  },
  {
   "cell_type": "code",
   "execution_count": null,
   "metadata": {},
   "outputs": [],
   "source": []
  },
  {
   "cell_type": "markdown",
   "metadata": {},
   "source": [
    "## 命令行输出处理"
   ]
  },
  {
   "cell_type": "markdown",
   "metadata": {},
   "source": [
    "### top内容输出处理"
   ]
  },
  {
   "cell_type": "code",
   "execution_count": null,
   "metadata": {},
   "outputs": [],
   "source": []
  },
  {
   "cell_type": "markdown",
   "metadata": {},
   "source": [
    "###  pip list内容处理"
   ]
  },
  {
   "cell_type": "code",
   "execution_count": null,
   "metadata": {},
   "outputs": [],
   "source": []
  },
  {
   "cell_type": "markdown",
   "metadata": {},
   "source": [
    "## 日志处理"
   ]
  },
  {
   "cell_type": "markdown",
   "metadata": {},
   "source": [
    "### apache日志处理\n",
    "\n",
    "        Apche的访问日志处理，获取其中的访问ip，然后可以写网络程序去ping或者做端口扫描。"
   ]
  },
  {
   "cell_type": "code",
   "execution_count": null,
   "metadata": {},
   "outputs": [],
   "source": []
  },
  {
   "cell_type": "markdown",
   "metadata": {},
   "source": [
    "### mac 系统日志输出处理\n",
    "    \n",
    "    获取每天的磁盘状态变化，并监控硬盘使用情况。-dialy.out "
   ]
  },
  {
   "cell_type": "code",
   "execution_count": null,
   "metadata": {},
   "outputs": [],
   "source": []
  },
  {
   "cell_type": "markdown",
   "metadata": {},
   "source": [
    "## 网页文本处理"
   ]
  },
  {
   "cell_type": "markdown",
   "metadata": {},
   "source": [
    "### 1. js与css链接解析"
   ]
  },
  {
   "cell_type": "markdown",
   "metadata": {},
   "source": [
    "### 2. HTML内容解析"
   ]
  },
  {
   "cell_type": "markdown",
   "metadata": {},
   "source": [
    "# 习题"
   ]
  },
  {
   "cell_type": "markdown",
   "metadata": {},
   "source": [
    "## 正则表达式习题"
   ]
  },
  {
   "cell_type": "markdown",
   "metadata": {},
   "source": [
    "## re模块API习题"
   ]
  },
  {
   "cell_type": "code",
   "execution_count": null,
   "metadata": {},
   "outputs": [],
   "source": []
  }
 ],
 "metadata": {
  "kernelspec": {
   "display_name": "Python 3",
   "language": "python",
   "name": "python3"
  },
  "language_info": {
   "codemirror_mode": {
    "name": "ipython",
    "version": 3
   },
   "file_extension": ".py",
   "mimetype": "text/x-python",
   "name": "python",
   "nbconvert_exporter": "python",
   "pygments_lexer": "ipython3",
   "version": "3.8.3"
  },
  "toc": {
   "base_numbering": 1,
   "nav_menu": {},
   "number_sections": true,
   "sideBar": true,
   "skip_h1_title": false,
   "title_cell": "Table of Contents",
   "title_sidebar": "Contents",
   "toc_cell": false,
   "toc_position": {},
   "toc_section_display": true,
   "toc_window_display": true
  }
 },
 "nbformat": 4,
 "nbformat_minor": 2
}
